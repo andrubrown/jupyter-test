{
 "cells": [
  {
   "cell_type": "code",
   "execution_count": 30,
   "metadata": {
    "collapsed": false
   },
   "outputs": [],
   "source": [
    "import pandas as pd\n",
    "import seaborn as sns\n",
    "sns.set(color_codes=True)\n",
    "import matplotlib.pyplot as plt"
   ]
  },
  {
   "cell_type": "code",
   "execution_count": 21,
   "metadata": {
    "collapsed": false
   },
   "outputs": [
    {
     "name": "stderr",
     "output_type": "stream",
     "text": [
      "/opt/conda/lib/python3.5/site-packages/IPython/core/interactiveshell.py:2717: DtypeWarning: Columns (16) have mixed types. Specify dtype option on import or set low_memory=False.\n",
      "  interactivity=interactivity, compiler=compiler, result=result)\n"
     ]
    },
    {
     "data": {
      "text/html": [
       "<div>\n",
       "<table border=\"1\" class=\"dataframe\">\n",
       "  <thead>\n",
       "    <tr style=\"text-align: right;\">\n",
       "      <th></th>\n",
       "      <th>Record ID</th>\n",
       "      <th>Agency Code</th>\n",
       "      <th>Agency Name</th>\n",
       "      <th>Agency Type</th>\n",
       "      <th>City</th>\n",
       "      <th>State</th>\n",
       "      <th>Year</th>\n",
       "      <th>Month</th>\n",
       "      <th>Incident</th>\n",
       "      <th>Crime Type</th>\n",
       "      <th>...</th>\n",
       "      <th>Victim Ethnicity</th>\n",
       "      <th>Perpetrator Sex</th>\n",
       "      <th>Perpetrator Age</th>\n",
       "      <th>Perpetrator Race</th>\n",
       "      <th>Perpetrator Ethnicity</th>\n",
       "      <th>Relationship</th>\n",
       "      <th>Weapon</th>\n",
       "      <th>Victim Count</th>\n",
       "      <th>Perpetrator Count</th>\n",
       "      <th>Record Source</th>\n",
       "    </tr>\n",
       "  </thead>\n",
       "  <tbody>\n",
       "    <tr>\n",
       "      <th>330676</th>\n",
       "      <td>330677</td>\n",
       "      <td>PA065SP</td>\n",
       "      <td>State Police: Westmoreland County</td>\n",
       "      <td>State Police</td>\n",
       "      <td>Westmoreland</td>\n",
       "      <td>Pennsylvania</td>\n",
       "      <td>1995</td>\n",
       "      <td>August</td>\n",
       "      <td>1</td>\n",
       "      <td>Murder or Manslaughter</td>\n",
       "      <td>...</td>\n",
       "      <td>Unknown</td>\n",
       "      <td>Male</td>\n",
       "      <td>49</td>\n",
       "      <td>White</td>\n",
       "      <td>Unknown</td>\n",
       "      <td>Wife</td>\n",
       "      <td>Knife</td>\n",
       "      <td>0</td>\n",
       "      <td>0</td>\n",
       "      <td>FBI</td>\n",
       "    </tr>\n",
       "    <tr>\n",
       "      <th>48377</th>\n",
       "      <td>48378</td>\n",
       "      <td>CODPD00</td>\n",
       "      <td>Denver</td>\n",
       "      <td>Municipal Police</td>\n",
       "      <td>Denver</td>\n",
       "      <td>Colorado</td>\n",
       "      <td>1982</td>\n",
       "      <td>August</td>\n",
       "      <td>5</td>\n",
       "      <td>Murder or Manslaughter</td>\n",
       "      <td>...</td>\n",
       "      <td>Hispanic</td>\n",
       "      <td>Unknown</td>\n",
       "      <td>0</td>\n",
       "      <td>Unknown</td>\n",
       "      <td>Unknown</td>\n",
       "      <td>Stranger</td>\n",
       "      <td>Handgun</td>\n",
       "      <td>0</td>\n",
       "      <td>0</td>\n",
       "      <td>FBI</td>\n",
       "    </tr>\n",
       "    <tr>\n",
       "      <th>135207</th>\n",
       "      <td>135208</td>\n",
       "      <td>NY03301</td>\n",
       "      <td>Syracuse</td>\n",
       "      <td>Municipal Police</td>\n",
       "      <td>Onondaga</td>\n",
       "      <td>New York</td>\n",
       "      <td>1986</td>\n",
       "      <td>July</td>\n",
       "      <td>1</td>\n",
       "      <td>Murder or Manslaughter</td>\n",
       "      <td>...</td>\n",
       "      <td>Not Hispanic</td>\n",
       "      <td>Male</td>\n",
       "      <td>41</td>\n",
       "      <td>Black</td>\n",
       "      <td>Not Hispanic</td>\n",
       "      <td>Acquaintance</td>\n",
       "      <td>Handgun</td>\n",
       "      <td>0</td>\n",
       "      <td>0</td>\n",
       "      <td>FBI</td>\n",
       "    </tr>\n",
       "  </tbody>\n",
       "</table>\n",
       "<p>3 rows × 24 columns</p>\n",
       "</div>"
      ],
      "text/plain": [
       "        Record ID Agency Code                        Agency Name  \\\n",
       "330676     330677     PA065SP  State Police: Westmoreland County   \n",
       "48377       48378     CODPD00                             Denver   \n",
       "135207     135208     NY03301                           Syracuse   \n",
       "\n",
       "             Agency Type          City         State  Year   Month  Incident  \\\n",
       "330676      State Police  Westmoreland  Pennsylvania  1995  August         1   \n",
       "48377   Municipal Police        Denver      Colorado  1982  August         5   \n",
       "135207  Municipal Police      Onondaga      New York  1986    July         1   \n",
       "\n",
       "                    Crime Type      ...      Victim Ethnicity Perpetrator Sex  \\\n",
       "330676  Murder or Manslaughter      ...               Unknown            Male   \n",
       "48377   Murder or Manslaughter      ...              Hispanic         Unknown   \n",
       "135207  Murder or Manslaughter      ...          Not Hispanic            Male   \n",
       "\n",
       "        Perpetrator Age Perpetrator Race Perpetrator Ethnicity  Relationship  \\\n",
       "330676               49            White               Unknown          Wife   \n",
       "48377                 0          Unknown               Unknown      Stranger   \n",
       "135207               41            Black          Not Hispanic  Acquaintance   \n",
       "\n",
       "         Weapon Victim Count Perpetrator Count Record Source  \n",
       "330676    Knife            0                 0           FBI  \n",
       "48377   Handgun            0                 0           FBI  \n",
       "135207  Handgun            0                 0           FBI  \n",
       "\n",
       "[3 rows x 24 columns]"
      ]
     },
     "execution_count": 21,
     "metadata": {},
     "output_type": "execute_result"
    }
   ],
   "source": [
    "df = pd.read_csv('database.csv')\n",
    "df.sample(3)"
   ]
  },
  {
   "cell_type": "code",
   "execution_count": 22,
   "metadata": {
    "collapsed": false
   },
   "outputs": [
    {
     "name": "stdout",
     "output_type": "stream",
     "text": [
      "(638454, 24)\n"
     ]
    },
    {
     "data": {
      "text/plain": [
       "Index(['Record ID', 'Agency Code', 'Agency Name', 'Agency Type', 'City',\n",
       "       'State', 'Year', 'Month', 'Incident', 'Crime Type', 'Crime Solved',\n",
       "       'Victim Sex', 'Victim Age', 'Victim Race', 'Victim Ethnicity',\n",
       "       'Perpetrator Sex', 'Perpetrator Age', 'Perpetrator Race',\n",
       "       'Perpetrator Ethnicity', 'Relationship', 'Weapon', 'Victim Count',\n",
       "       'Perpetrator Count', 'Record Source'],\n",
       "      dtype='object')"
      ]
     },
     "execution_count": 22,
     "metadata": {},
     "output_type": "execute_result"
    }
   ],
   "source": [
    "print(df.shape)\n",
    "df.columns"
   ]
  },
  {
   "cell_type": "code",
   "execution_count": 52,
   "metadata": {
    "collapsed": false
   },
   "outputs": [
    {
     "name": "stdout",
     "output_type": "stream",
     "text": [
      "<class 'pandas.core.frame.DataFrame'>\n",
      "RangeIndex: 638454 entries, 0 to 638453\n",
      "Data columns (total 24 columns):\n",
      "Record ID                638454 non-null int64\n",
      "Agency Code              638454 non-null object\n",
      "Agency Name              638454 non-null object\n",
      "Agency Type              638454 non-null object\n",
      "City                     638454 non-null object\n",
      "State                    638454 non-null object\n",
      "Year                     638454 non-null int64\n",
      "Month                    638454 non-null object\n",
      "Incident                 638454 non-null int64\n",
      "Crime Type               638454 non-null object\n",
      "Crime Solved             638454 non-null object\n",
      "Victim Sex               638454 non-null object\n",
      "Victim Age               638454 non-null int64\n",
      "Victim Race              638454 non-null object\n",
      "Victim Ethnicity         638454 non-null object\n",
      "Perpetrator Sex          638454 non-null object\n",
      "Perpetrator Age          638454 non-null object\n",
      "Perpetrator Race         638454 non-null object\n",
      "Perpetrator Ethnicity    638454 non-null object\n",
      "Relationship             638454 non-null object\n",
      "Weapon                   638454 non-null object\n",
      "Victim Count             638454 non-null int64\n",
      "Perpetrator Count        638454 non-null int64\n",
      "Record Source            638454 non-null object\n",
      "dtypes: int64(6), object(18)\n",
      "memory usage: 116.9+ MB\n"
     ]
    }
   ],
   "source": [
    "df.info()"
   ]
  },
  {
   "cell_type": "code",
   "execution_count": null,
   "metadata": {
    "collapsed": true
   },
   "outputs": [],
   "source": [
    "df.describe()"
   ]
  }
 ],
 "metadata": {
  "anaconda-cloud": {},
  "kernelspec": {
   "display_name": "Python [default]",
   "language": "python",
   "name": "python3"
  },
  "language_info": {
   "codemirror_mode": {
    "name": "ipython",
    "version": 3
   },
   "file_extension": ".py",
   "mimetype": "text/x-python",
   "name": "python",
   "nbconvert_exporter": "python",
   "pygments_lexer": "ipython3",
   "version": "3.5.2"
  }
 },
 "nbformat": 4,
 "nbformat_minor": 1
}
