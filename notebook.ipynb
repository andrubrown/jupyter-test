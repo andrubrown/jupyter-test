{
 "cells": [
  {
   "cell_type": "code",
   "execution_count": 1,
   "metadata": {
    "collapsed": false
   },
   "outputs": [],
   "source": [
    "# This Python 3 environment comes with many helpful analytics libraries installed\n",
    "# It is defined by the kaggle/python docker image: https://github.com/kaggle/docker-python\n",
    "# For example, here's several helpful packages to load in \n",
    "\n",
    "import numpy as np # linear algebra\n",
    "import pandas as pd # data processing, CSV file I/O (e.g. pd.read_csv)\n",
    "import matplotlib.pyplot as plt\n",
    "from sklearn import svm, datasets\n",
    "from sklearn.linear_model import LogisticRegression\n",
    "from sklearn.preprocessing import LabelEncoder\n",
    "\n",
    "\n",
    "# Input data files are available in the \"../input/\" directory.\n",
    "# For example, running this (by clicking run or pressing Shift+Enter) will list the files in the input directory\n",
    "\n",
    "from subprocess import check_output\n",
    "#print(check_output([\"ls\", \"../input\"]).decode(\"utf8\"))\n",
    "\n",
    "# Any results you write to the current directory are saved as output.\n"
   ]
  },
  {
   "cell_type": "code",
   "execution_count": 2,
   "metadata": {
    "collapsed": false
   },
   "outputs": [
    {
     "name": "stdout",
     "output_type": "stream",
     "text": [
      "   PassengerId  Survived  Pclass  \\\n",
      "0            1         0       3   \n",
      "1            2         1       1   \n",
      "2            3         1       3   \n",
      "3            4         1       1   \n",
      "4            5         0       3   \n",
      "\n",
      "                                                Name     Sex   Age  SibSp  \\\n",
      "0                            Braund, Mr. Owen Harris    male  22.0      1   \n",
      "1  Cumings, Mrs. John Bradley (Florence Briggs Th...  female  38.0      1   \n",
      "2                             Heikkinen, Miss. Laina  female  26.0      0   \n",
      "3       Futrelle, Mrs. Jacques Heath (Lily May Peel)  female  35.0      1   \n",
      "4                           Allen, Mr. William Henry    male  35.0      0   \n",
      "\n",
      "   Parch            Ticket     Fare Cabin Embarked  \n",
      "0      0         A/5 21171   7.2500   N/A        S  \n",
      "1      0          PC 17599  71.2833   C85        C  \n",
      "2      0  STON/O2. 3101282   7.9250   N/A        S  \n",
      "3      0            113803  53.1000  C123        S  \n",
      "4      0            373450   8.0500   N/A        S  \n",
      "       PassengerId    Survived      Pclass         Age       SibSp  \\\n",
      "count   891.000000  891.000000  891.000000  891.000000  891.000000   \n",
      "mean    446.000000    0.383838    2.308642   29.699118    0.523008   \n",
      "std     257.353842    0.486592    0.836071   13.002015    1.102743   \n",
      "min       1.000000    0.000000    1.000000    0.420000    0.000000   \n",
      "25%     223.500000    0.000000    2.000000   22.000000    0.000000   \n",
      "50%     446.000000    0.000000    3.000000   29.699118    0.000000   \n",
      "75%     668.500000    1.000000    3.000000   35.000000    1.000000   \n",
      "max     891.000000    1.000000    3.000000   80.000000    8.000000   \n",
      "\n",
      "            Parch        Fare  \n",
      "count  891.000000  891.000000  \n",
      "mean     0.381594   32.204208  \n",
      "std      0.806057   49.693429  \n",
      "min      0.000000    0.000000  \n",
      "25%      0.000000    7.910400  \n",
      "50%      0.000000   14.454200  \n",
      "75%      0.000000   31.000000  \n",
      "max      6.000000  512.329200  \n",
      "PassengerId      int64\n",
      "Survived         int64\n",
      "Pclass           int64\n",
      "Name            object\n",
      "Sex             object\n",
      "Age            float64\n",
      "SibSp            int64\n",
      "Parch            int64\n",
      "Ticket          object\n",
      "Fare           float64\n",
      "Cabin           object\n",
      "Embarked        object\n",
      "dtype: object\n"
     ]
    }
   ],
   "source": [
    "#df = pd.read_csv('../input/train.csv')\n",
    "df = pd.read_csv('train.csv')\n",
    "df_test = pd.read_csv('test.csv')\n",
    "\n",
    "# Fill missing fields with columns means\n",
    "df = df.fillna(df.mean())\n",
    "df = df.fillna('N/A')\n",
    "\n",
    "# Fill missing fields with columns means\n",
    "df_test = df_test.fillna(df.mean())\n",
    "df_test = df_test.fillna('N/A')\n",
    "\n",
    "print(df.head())\n",
    "print(df.describe())\n",
    "print(df.dtypes)\n",
    "\n"
   ]
  },
  {
   "cell_type": "markdown",
   "metadata": {},
   "source": [
    "# Labeling"
   ]
  },
  {
   "cell_type": "code",
   "execution_count": 3,
   "metadata": {
    "collapsed": false
   },
   "outputs": [
    {
     "name": "stdout",
     "output_type": "stream",
     "text": [
      "labeling Sex\n",
      "labeling Embarked\n",
      "   PassengerId  Survived  Pclass  \\\n",
      "0            1         0       3   \n",
      "1            2         1       1   \n",
      "2            3         1       3   \n",
      "3            4         1       1   \n",
      "4            5         0       3   \n",
      "\n",
      "                                                Name     Sex   Age  SibSp  \\\n",
      "0                            Braund, Mr. Owen Harris    male  22.0      1   \n",
      "1  Cumings, Mrs. John Bradley (Florence Briggs Th...  female  38.0      1   \n",
      "2                             Heikkinen, Miss. Laina  female  26.0      0   \n",
      "3       Futrelle, Mrs. Jacques Heath (Lily May Peel)  female  35.0      1   \n",
      "4                           Allen, Mr. William Henry    male  35.0      0   \n",
      "\n",
      "   Parch            Ticket     Fare Cabin Embarked  Sex_feat  Embarked_feat  \n",
      "0      0         A/5 21171   7.2500   N/A        S         1              3  \n",
      "1      0          PC 17599  71.2833   C85        C         0              0  \n",
      "2      0  STON/O2. 3101282   7.9250   N/A        S         0              3  \n",
      "3      0            113803  53.1000  C123        S         0              3  \n",
      "4      0            373450   8.0500   N/A        S         1              3  \n"
     ]
    }
   ],
   "source": [
    "labels = ['Sex', 'Embarked']\n",
    "les = {}\n",
    "\n",
    "for l in labels:\n",
    "    print('labeling ' + l)\n",
    "    les[l] = LabelEncoder()\n",
    "    les[l].fit(df[l])\n",
    "    tr = les[l].transform(df[l]) \n",
    "    df.loc[:, l + '_feat'] = pd.Series(tr, index=df.index)\n",
    "\n",
    "    tr_test = les[l].transform(df_test[l]) \n",
    "    df_test.loc[:, l + '_feat'] = pd.Series(tr_test, index=df_test.index)\n",
    "\n",
    "\n",
    "# le.classes_\n",
    "print(df.head())"
   ]
  },
  {
   "cell_type": "markdown",
   "metadata": {},
   "source": [
    "# Preparing datasets"
   ]
  },
  {
   "cell_type": "code",
   "execution_count": null,
   "metadata": {
    "collapsed": false
   },
   "outputs": [
    {
     "name": "stdout",
     "output_type": "stream",
     "text": [
      "   Pclass   Age  SibSp  Parch     Fare  Sex_feat  Embarked_feat\n",
      "0       3  22.0      1      0   7.2500         1              3\n",
      "1       1  38.0      1      0  71.2833         0              0\n",
      "2       3  26.0      0      0   7.9250         0              3\n",
      "3       1  35.0      1      0  53.1000         0              3\n",
      "4       3  35.0      0      0   8.0500         1              3\n",
      "(891,)\n",
      "   Pclass   Age  SibSp  Parch     Fare  Sex_feat  Embarked_feat\n",
      "0       3  34.5      0      0   7.8292         1              2\n",
      "1       3  47.0      1      0   7.0000         0              3\n",
      "2       2  62.0      0      0   9.6875         1              2\n",
      "3       3  27.0      0      0   8.6625         1              3\n",
      "4       3  22.0      1      1  12.2875         0              3\n"
     ]
    }
   ],
   "source": [
    "X_train = df.drop(labels, 1) \\\n",
    "    .drop('Survived', 1) \\\n",
    "    .drop('Cabin', 1) \\\n",
    "    .drop('Ticket', 1) \\\n",
    "    .drop('Name', 1) \\\n",
    "    .drop('PassengerId', 1)\n",
    "y_train = df['Survived']\n",
    "\n",
    "X_test = df_test.drop(labels, 1) \\\n",
    "    .drop('Cabin', 1) \\\n",
    "    .drop('Ticket', 1) \\\n",
    "    .drop('Name', 1) \\\n",
    "    .drop('PassengerId', 1)\n",
    "\n",
    "\n",
    "print(X_train.head())\n",
    "print(y_train.shape)\n",
    "print(X_test.head())\n"
   ]
  },
  {
   "cell_type": "markdown",
   "metadata": {},
   "source": [
    "# Starting training set"
   ]
  },
  {
   "cell_type": "code",
   "execution_count": null,
   "metadata": {
    "collapsed": false
   },
   "outputs": [],
   "source": [
    "\n",
    "C = 1.0  # SVM regularization parameter\n",
    "svc_linear = svm.SVC(kernel='linear', C=C).fit(X_train, y_train)\n"
   ]
  },
  {
   "cell_type": "code",
   "execution_count": null,
   "metadata": {
    "collapsed": false
   },
   "outputs": [],
   "source": [
    "svc_linear.score(X_train, y_train)"
   ]
  },
  {
   "cell_type": "markdown",
   "metadata": {},
   "source": [
    "# Testing on the test set"
   ]
  },
  {
   "cell_type": "code",
   "execution_count": null,
   "metadata": {
    "collapsed": false
   },
   "outputs": [],
   "source": [
    "pred = svc_linear.predict(X_test)\n",
    "print(pred.shape)\n",
    "\n",
    "df_test['Survived'] = pd.Series(pred)\n",
    "sub = df_test[['PassengerId','Survived']]\n",
    "print(sub.head())\n",
    "print(sub.tail())\n",
    "\n",
    "sub.to_csv('submission_linear.csv', index=False)\n"
   ]
  },
  {
   "cell_type": "code",
   "execution_count": null,
   "metadata": {
    "collapsed": false
   },
   "outputs": [],
   "source": [
    "\n",
    "C = 1.0  # SVM regularization parameter\n",
    "svc_rbf = svm.SVC(kernel='rbf', C=C).fit(X_train, y_train)\n",
    "svc_rbf.score(X_train, y_train)\n",
    "\n",
    "pred = svc_rbf.predict(X_test)\n",
    "print(pred.shape)\n",
    "\n",
    "df_test['Survived'] = pd.Series(pred)\n",
    "sub = df_test[['PassengerId','Survived']]\n",
    "print(sub.head())\n",
    "print(sub.tail())\n",
    "\n",
    "\n",
    "sub.to_csv('submission_rbf.csv', index=False)\n"
   ]
  },
  {
   "cell_type": "code",
   "execution_count": null,
   "metadata": {
    "collapsed": false
   },
   "outputs": [],
   "source": [
    "from sklearn.ensemble import RandomForestClassifier\n",
    "\n",
    "forest = RandomForestClassifier(n_estimators = 50)\n",
    "forest.fit(X_train, y_train)"
   ]
  },
  {
   "cell_type": "code",
   "execution_count": null,
   "metadata": {
    "collapsed": false
   },
   "outputs": [],
   "source": [
    "forest.score(X_train, y_train)"
   ]
  },
  {
   "cell_type": "code",
   "execution_count": null,
   "metadata": {
    "collapsed": false
   },
   "outputs": [],
   "source": [
    "pred = forest.predict(X_test)\n",
    "print(pred.shape)\n",
    "\n",
    "df_test['Survived'] = pd.Series(pred)\n",
    "sub = df_test[['PassengerId','Survived']]\n",
    "print(sub.head())\n",
    "print(sub.tail())\n",
    "\n",
    "\n",
    "sub.to_csv('submission_forest.csv', index=False)\n"
   ]
  },
  {
   "cell_type": "code",
   "execution_count": null,
   "metadata": {
    "collapsed": false
   },
   "outputs": [],
   "source": [
    "from sklearn.linear_model import LogisticRegression\n",
    "lr = LogisticRegression()\n",
    "lr.fit(X_train, y_train)\n"
   ]
  },
  {
   "cell_type": "code",
   "execution_count": null,
   "metadata": {
    "collapsed": false
   },
   "outputs": [],
   "source": [
    "lr.score(X_train, y_train)"
   ]
  },
  {
   "cell_type": "code",
   "execution_count": null,
   "metadata": {
    "collapsed": false
   },
   "outputs": [],
   "source": [
    "pred = lr.predict(X_test)\n",
    "print(pred.shape)\n",
    "\n",
    "df_test['Survived'] = pd.Series(pred)\n",
    "sub = df_test[['PassengerId','Survived']]\n",
    "print(sub.head())\n",
    "print(sub.tail())\n",
    "\n",
    "\n",
    "sub.to_csv('submission_lr.csv', index=False)\n"
   ]
  }
 ],
 "metadata": {
  "anaconda-cloud": {},
  "kernelspec": {
   "display_name": "Python [default]",
   "language": "python",
   "name": "python3"
  },
  "language_info": {
   "codemirror_mode": {
    "name": "ipython",
    "version": 3
   },
   "file_extension": ".py",
   "mimetype": "text/x-python",
   "name": "python",
   "nbconvert_exporter": "python",
   "pygments_lexer": "ipython3",
   "version": "3.5.2"
  }
 },
 "nbformat": 4,
 "nbformat_minor": 0
}
