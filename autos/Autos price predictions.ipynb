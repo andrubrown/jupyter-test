{
 "cells": [
  {
   "cell_type": "markdown",
   "metadata": {},
   "source": [
    "# Intro\n",
    "\n",
    "I'm trying to learn the very basics with this exercise. My goal is to train a linear regression model with a subset of columns from this interesting dataset in order to predict the value of a used car.\n",
    "\n",
    "Any help or advice is welcome!!!\n",
    "\n",
    "### Changelist\n",
    "\n",
    "* added name length feature\n",
    "\n",
    "* better study on the data\n",
    "* used seaborn to plot\n",
    "* added random forest and xgboost algorithms"
   ]
  },
  {
   "cell_type": "code",
   "execution_count": 7,
   "metadata": {
    "collapsed": false
   },
   "outputs": [],
   "source": [
    "import pandas as pd\n",
    "\n",
    "import matplotlib.pyplot as plt\n",
    "import numpy as np\n",
    "from sklearn import datasets, linear_model, preprocessing, svm\n",
    "from sklearn.preprocessing import StandardScaler, Normalizer\n",
    "import math\n",
    "import matplotlib\n",
    "import seaborn as sns\n"
   ]
  },
  {
   "cell_type": "markdown",
   "metadata": {},
   "source": [
    "### Useful functions"
   ]
  },
  {
   "cell_type": "code",
   "execution_count": 8,
   "metadata": {
    "collapsed": true
   },
   "outputs": [],
   "source": [
    "def category_values(dataframe, categories):\n",
    "    for c in categories:\n",
    "        print('\\n', dataframe.groupby(by=c)[c].count().sort_values(ascending=False))\n",
    "        print('Nulls: ', dataframe[c].isnull().sum())\n",
    "\n",
    "def plot_correlation_map( df ):\n",
    "    corr = df.corr()\n",
    "    _ , ax = plt.subplots( figsize =( 12 , 10 ) )\n",
    "    cmap = sns.diverging_palette( 220 , 10 , as_cmap = True )\n",
    "    _ = sns.heatmap(\n",
    "        corr, \n",
    "        cmap = cmap,\n",
    "        square=True, \n",
    "        cbar_kws={ 'shrink' : .9 }, \n",
    "        ax=ax, \n",
    "        annot = True, \n",
    "        annot_kws = { 'fontsize' : 12 }\n",
    "    )\n",
    "\n"
   ]
  },
  {
   "cell_type": "markdown",
   "metadata": {},
   "source": [
    "# Preparing data\n",
    "\n",
    "## Reading from file\n",
    "\n",
    "Just reading the file and printing some lines."
   ]
  },
  {
   "cell_type": "code",
   "execution_count": 9,
   "metadata": {
    "collapsed": false
   },
   "outputs": [
    {
     "data": {
      "text/html": [
       "<div>\n",
       "<table border=\"1\" class=\"dataframe\">\n",
       "  <thead>\n",
       "    <tr style=\"text-align: right;\">\n",
       "      <th></th>\n",
       "      <th>dateCrawled</th>\n",
       "      <th>name</th>\n",
       "      <th>seller</th>\n",
       "      <th>offerType</th>\n",
       "      <th>price</th>\n",
       "      <th>abtest</th>\n",
       "      <th>vehicleType</th>\n",
       "      <th>yearOfRegistration</th>\n",
       "      <th>gearbox</th>\n",
       "      <th>powerPS</th>\n",
       "      <th>model</th>\n",
       "      <th>kilometer</th>\n",
       "      <th>monthOfRegistration</th>\n",
       "      <th>fuelType</th>\n",
       "      <th>brand</th>\n",
       "      <th>notRepairedDamage</th>\n",
       "      <th>dateCreated</th>\n",
       "      <th>nrOfPictures</th>\n",
       "      <th>postalCode</th>\n",
       "      <th>lastSeen</th>\n",
       "    </tr>\n",
       "  </thead>\n",
       "  <tbody>\n",
       "    <tr>\n",
       "      <th>122225</th>\n",
       "      <td>2016-03-14 13:57:53</td>\n",
       "      <td>Mercedes_Benz_E_320_T_CDI___Avantgarde_mit_Sta...</td>\n",
       "      <td>privat</td>\n",
       "      <td>Angebot</td>\n",
       "      <td>2900</td>\n",
       "      <td>test</td>\n",
       "      <td>kombi</td>\n",
       "      <td>2001</td>\n",
       "      <td>automatik</td>\n",
       "      <td>197</td>\n",
       "      <td>e_klasse</td>\n",
       "      <td>150000</td>\n",
       "      <td>6</td>\n",
       "      <td>diesel</td>\n",
       "      <td>mercedes_benz</td>\n",
       "      <td>nein</td>\n",
       "      <td>2016-03-14 00:00:00</td>\n",
       "      <td>0</td>\n",
       "      <td>33611</td>\n",
       "      <td>2016-03-16 04:17:06</td>\n",
       "    </tr>\n",
       "    <tr>\n",
       "      <th>181151</th>\n",
       "      <td>2016-03-28 11:57:14</td>\n",
       "      <td>BMW_330d_E46_Diesel_Motor_200_tkm_Scheckheft_B...</td>\n",
       "      <td>privat</td>\n",
       "      <td>Angebot</td>\n",
       "      <td>850</td>\n",
       "      <td>control</td>\n",
       "      <td>kombi</td>\n",
       "      <td>2000</td>\n",
       "      <td>automatik</td>\n",
       "      <td>184</td>\n",
       "      <td>3er</td>\n",
       "      <td>150000</td>\n",
       "      <td>6</td>\n",
       "      <td>NaN</td>\n",
       "      <td>bmw</td>\n",
       "      <td>ja</td>\n",
       "      <td>2016-03-28 00:00:00</td>\n",
       "      <td>0</td>\n",
       "      <td>26624</td>\n",
       "      <td>2016-04-06 15:15:41</td>\n",
       "    </tr>\n",
       "    <tr>\n",
       "      <th>43929</th>\n",
       "      <td>2016-03-22 11:50:15</td>\n",
       "      <td>Volkswagen_Golf_1.9_TDI_DPF_Goal</td>\n",
       "      <td>privat</td>\n",
       "      <td>Angebot</td>\n",
       "      <td>5699</td>\n",
       "      <td>control</td>\n",
       "      <td>limousine</td>\n",
       "      <td>2006</td>\n",
       "      <td>manuell</td>\n",
       "      <td>105</td>\n",
       "      <td>golf</td>\n",
       "      <td>150000</td>\n",
       "      <td>10</td>\n",
       "      <td>diesel</td>\n",
       "      <td>volkswagen</td>\n",
       "      <td>nein</td>\n",
       "      <td>2016-03-22 00:00:00</td>\n",
       "      <td>0</td>\n",
       "      <td>21031</td>\n",
       "      <td>2016-04-06 00:16:14</td>\n",
       "    </tr>\n",
       "    <tr>\n",
       "      <th>56743</th>\n",
       "      <td>2016-03-29 12:52:43</td>\n",
       "      <td>Opel_Astra_G_zu_verkaufen</td>\n",
       "      <td>privat</td>\n",
       "      <td>Angebot</td>\n",
       "      <td>325</td>\n",
       "      <td>test</td>\n",
       "      <td>kleinwagen</td>\n",
       "      <td>1998</td>\n",
       "      <td>manuell</td>\n",
       "      <td>0</td>\n",
       "      <td>astra</td>\n",
       "      <td>150000</td>\n",
       "      <td>0</td>\n",
       "      <td>benzin</td>\n",
       "      <td>opel</td>\n",
       "      <td>NaN</td>\n",
       "      <td>2016-03-29 00:00:00</td>\n",
       "      <td>0</td>\n",
       "      <td>66871</td>\n",
       "      <td>2016-04-02 00:15:42</td>\n",
       "    </tr>\n",
       "    <tr>\n",
       "      <th>168544</th>\n",
       "      <td>2016-04-03 12:40:50</td>\n",
       "      <td>Golf_3_4_Tueren_mit_tuev_bis_2017</td>\n",
       "      <td>privat</td>\n",
       "      <td>Angebot</td>\n",
       "      <td>550</td>\n",
       "      <td>control</td>\n",
       "      <td>limousine</td>\n",
       "      <td>1991</td>\n",
       "      <td>manuell</td>\n",
       "      <td>75</td>\n",
       "      <td>golf</td>\n",
       "      <td>150000</td>\n",
       "      <td>2</td>\n",
       "      <td>NaN</td>\n",
       "      <td>volkswagen</td>\n",
       "      <td>ja</td>\n",
       "      <td>2016-04-03 00:00:00</td>\n",
       "      <td>0</td>\n",
       "      <td>4603</td>\n",
       "      <td>2016-04-03 12:40:50</td>\n",
       "    </tr>\n",
       "    <tr>\n",
       "      <th>55274</th>\n",
       "      <td>2016-03-28 15:59:39</td>\n",
       "      <td>Honda_Shuttle_2.3i_LS</td>\n",
       "      <td>privat</td>\n",
       "      <td>Angebot</td>\n",
       "      <td>1250</td>\n",
       "      <td>control</td>\n",
       "      <td>bus</td>\n",
       "      <td>2000</td>\n",
       "      <td>automatik</td>\n",
       "      <td>150</td>\n",
       "      <td>andere</td>\n",
       "      <td>150000</td>\n",
       "      <td>4</td>\n",
       "      <td>benzin</td>\n",
       "      <td>honda</td>\n",
       "      <td>nein</td>\n",
       "      <td>2016-03-28 00:00:00</td>\n",
       "      <td>0</td>\n",
       "      <td>46238</td>\n",
       "      <td>2016-04-06 20:46:57</td>\n",
       "    </tr>\n",
       "    <tr>\n",
       "      <th>299501</th>\n",
       "      <td>2016-03-13 19:52:38</td>\n",
       "      <td>renault_clio_campus</td>\n",
       "      <td>privat</td>\n",
       "      <td>Angebot</td>\n",
       "      <td>2000</td>\n",
       "      <td>control</td>\n",
       "      <td>kleinwagen</td>\n",
       "      <td>2007</td>\n",
       "      <td>manuell</td>\n",
       "      <td>0</td>\n",
       "      <td>clio</td>\n",
       "      <td>90000</td>\n",
       "      <td>8</td>\n",
       "      <td>benzin</td>\n",
       "      <td>renault</td>\n",
       "      <td>ja</td>\n",
       "      <td>2016-03-13 00:00:00</td>\n",
       "      <td>0</td>\n",
       "      <td>48485</td>\n",
       "      <td>2016-03-27 17:45:09</td>\n",
       "    </tr>\n",
       "    <tr>\n",
       "      <th>84535</th>\n",
       "      <td>2016-03-05 14:17:29</td>\n",
       "      <td>verkaufe_oder_reno_twingo</td>\n",
       "      <td>privat</td>\n",
       "      <td>Angebot</td>\n",
       "      <td>800</td>\n",
       "      <td>test</td>\n",
       "      <td>kleinwagen</td>\n",
       "      <td>2000</td>\n",
       "      <td>manuell</td>\n",
       "      <td>60</td>\n",
       "      <td>twingo</td>\n",
       "      <td>150000</td>\n",
       "      <td>4</td>\n",
       "      <td>benzin</td>\n",
       "      <td>renault</td>\n",
       "      <td>nein</td>\n",
       "      <td>2016-03-04 00:00:00</td>\n",
       "      <td>0</td>\n",
       "      <td>56566</td>\n",
       "      <td>2016-04-05 17:46:28</td>\n",
       "    </tr>\n",
       "    <tr>\n",
       "      <th>142414</th>\n",
       "      <td>2016-03-09 21:49:01</td>\n",
       "      <td>Peugeot_Partner*Kastenwagen*Peugeot*Transporte...</td>\n",
       "      <td>privat</td>\n",
       "      <td>Angebot</td>\n",
       "      <td>500</td>\n",
       "      <td>test</td>\n",
       "      <td>bus</td>\n",
       "      <td>2000</td>\n",
       "      <td>manuell</td>\n",
       "      <td>90</td>\n",
       "      <td>andere</td>\n",
       "      <td>150000</td>\n",
       "      <td>12</td>\n",
       "      <td>benzin</td>\n",
       "      <td>peugeot</td>\n",
       "      <td>ja</td>\n",
       "      <td>2016-03-09 00:00:00</td>\n",
       "      <td>0</td>\n",
       "      <td>51643</td>\n",
       "      <td>2016-03-13 00:44:28</td>\n",
       "    </tr>\n",
       "    <tr>\n",
       "      <th>158702</th>\n",
       "      <td>2016-03-24 13:37:55</td>\n",
       "      <td>Toyota_Avensis_Kombi_zu_verkaufen</td>\n",
       "      <td>privat</td>\n",
       "      <td>Angebot</td>\n",
       "      <td>5000</td>\n",
       "      <td>control</td>\n",
       "      <td>kombi</td>\n",
       "      <td>2006</td>\n",
       "      <td>manuell</td>\n",
       "      <td>177</td>\n",
       "      <td>avensis</td>\n",
       "      <td>150000</td>\n",
       "      <td>5</td>\n",
       "      <td>diesel</td>\n",
       "      <td>toyota</td>\n",
       "      <td>NaN</td>\n",
       "      <td>2016-03-24 00:00:00</td>\n",
       "      <td>0</td>\n",
       "      <td>36391</td>\n",
       "      <td>2016-03-30 14:15:55</td>\n",
       "    </tr>\n",
       "  </tbody>\n",
       "</table>\n",
       "</div>"
      ],
      "text/plain": [
       "                dateCrawled  \\\n",
       "122225  2016-03-14 13:57:53   \n",
       "181151  2016-03-28 11:57:14   \n",
       "43929   2016-03-22 11:50:15   \n",
       "56743   2016-03-29 12:52:43   \n",
       "168544  2016-04-03 12:40:50   \n",
       "55274   2016-03-28 15:59:39   \n",
       "299501  2016-03-13 19:52:38   \n",
       "84535   2016-03-05 14:17:29   \n",
       "142414  2016-03-09 21:49:01   \n",
       "158702  2016-03-24 13:37:55   \n",
       "\n",
       "                                                     name  seller offerType  \\\n",
       "122225  Mercedes_Benz_E_320_T_CDI___Avantgarde_mit_Sta...  privat   Angebot   \n",
       "181151  BMW_330d_E46_Diesel_Motor_200_tkm_Scheckheft_B...  privat   Angebot   \n",
       "43929                    Volkswagen_Golf_1.9_TDI_DPF_Goal  privat   Angebot   \n",
       "56743                           Opel_Astra_G_zu_verkaufen  privat   Angebot   \n",
       "168544                  Golf_3_4_Tueren_mit_tuev_bis_2017  privat   Angebot   \n",
       "55274                               Honda_Shuttle_2.3i_LS  privat   Angebot   \n",
       "299501                                renault_clio_campus  privat   Angebot   \n",
       "84535                           verkaufe_oder_reno_twingo  privat   Angebot   \n",
       "142414  Peugeot_Partner*Kastenwagen*Peugeot*Transporte...  privat   Angebot   \n",
       "158702                  Toyota_Avensis_Kombi_zu_verkaufen  privat   Angebot   \n",
       "\n",
       "        price   abtest vehicleType  yearOfRegistration    gearbox  powerPS  \\\n",
       "122225   2900     test       kombi                2001  automatik      197   \n",
       "181151    850  control       kombi                2000  automatik      184   \n",
       "43929    5699  control   limousine                2006    manuell      105   \n",
       "56743     325     test  kleinwagen                1998    manuell        0   \n",
       "168544    550  control   limousine                1991    manuell       75   \n",
       "55274    1250  control         bus                2000  automatik      150   \n",
       "299501   2000  control  kleinwagen                2007    manuell        0   \n",
       "84535     800     test  kleinwagen                2000    manuell       60   \n",
       "142414    500     test         bus                2000    manuell       90   \n",
       "158702   5000  control       kombi                2006    manuell      177   \n",
       "\n",
       "           model  kilometer  monthOfRegistration fuelType          brand  \\\n",
       "122225  e_klasse     150000                    6   diesel  mercedes_benz   \n",
       "181151       3er     150000                    6      NaN            bmw   \n",
       "43929       golf     150000                   10   diesel     volkswagen   \n",
       "56743      astra     150000                    0   benzin           opel   \n",
       "168544      golf     150000                    2      NaN     volkswagen   \n",
       "55274     andere     150000                    4   benzin          honda   \n",
       "299501      clio      90000                    8   benzin        renault   \n",
       "84535     twingo     150000                    4   benzin        renault   \n",
       "142414    andere     150000                   12   benzin        peugeot   \n",
       "158702   avensis     150000                    5   diesel         toyota   \n",
       "\n",
       "       notRepairedDamage          dateCreated  nrOfPictures  postalCode  \\\n",
       "122225              nein  2016-03-14 00:00:00             0       33611   \n",
       "181151                ja  2016-03-28 00:00:00             0       26624   \n",
       "43929               nein  2016-03-22 00:00:00             0       21031   \n",
       "56743                NaN  2016-03-29 00:00:00             0       66871   \n",
       "168544                ja  2016-04-03 00:00:00             0        4603   \n",
       "55274               nein  2016-03-28 00:00:00             0       46238   \n",
       "299501                ja  2016-03-13 00:00:00             0       48485   \n",
       "84535               nein  2016-03-04 00:00:00             0       56566   \n",
       "142414                ja  2016-03-09 00:00:00             0       51643   \n",
       "158702               NaN  2016-03-24 00:00:00             0       36391   \n",
       "\n",
       "                   lastSeen  \n",
       "122225  2016-03-16 04:17:06  \n",
       "181151  2016-04-06 15:15:41  \n",
       "43929   2016-04-06 00:16:14  \n",
       "56743   2016-04-02 00:15:42  \n",
       "168544  2016-04-03 12:40:50  \n",
       "55274   2016-04-06 20:46:57  \n",
       "299501  2016-03-27 17:45:09  \n",
       "84535   2016-04-05 17:46:28  \n",
       "142414  2016-03-13 00:44:28  \n",
       "158702  2016-03-30 14:15:55  "
      ]
     },
     "execution_count": 9,
     "metadata": {},
     "output_type": "execute_result"
    }
   ],
   "source": [
    "# df = pd.read_csv('../input/autos.csv', sep=',', header=0, encoding='cp1252')\n",
    "df = pd.read_csv('autos.csv.gz', sep=',', header=0, compression='gzip',encoding='cp1252')\n",
    "df.sample(10)"
   ]
  },
  {
   "cell_type": "markdown",
   "metadata": {},
   "source": [
    "Let's see some info from numeric fields"
   ]
  },
  {
   "cell_type": "code",
   "execution_count": 10,
   "metadata": {
    "collapsed": false
   },
   "outputs": [
    {
     "data": {
      "text/html": [
       "<div>\n",
       "<table border=\"1\" class=\"dataframe\">\n",
       "  <thead>\n",
       "    <tr style=\"text-align: right;\">\n",
       "      <th></th>\n",
       "      <th>price</th>\n",
       "      <th>yearOfRegistration</th>\n",
       "      <th>powerPS</th>\n",
       "      <th>kilometer</th>\n",
       "      <th>monthOfRegistration</th>\n",
       "      <th>nrOfPictures</th>\n",
       "      <th>postalCode</th>\n",
       "    </tr>\n",
       "  </thead>\n",
       "  <tbody>\n",
       "    <tr>\n",
       "      <th>count</th>\n",
       "      <td>3.715280e+05</td>\n",
       "      <td>371528.000000</td>\n",
       "      <td>371528.000000</td>\n",
       "      <td>371528.000000</td>\n",
       "      <td>371528.000000</td>\n",
       "      <td>371528.0</td>\n",
       "      <td>371528.00000</td>\n",
       "    </tr>\n",
       "    <tr>\n",
       "      <th>mean</th>\n",
       "      <td>1.729514e+04</td>\n",
       "      <td>2004.577997</td>\n",
       "      <td>115.549477</td>\n",
       "      <td>125618.688228</td>\n",
       "      <td>5.734445</td>\n",
       "      <td>0.0</td>\n",
       "      <td>50820.66764</td>\n",
       "    </tr>\n",
       "    <tr>\n",
       "      <th>std</th>\n",
       "      <td>3.587954e+06</td>\n",
       "      <td>92.866598</td>\n",
       "      <td>192.139578</td>\n",
       "      <td>40112.337051</td>\n",
       "      <td>3.712412</td>\n",
       "      <td>0.0</td>\n",
       "      <td>25799.08247</td>\n",
       "    </tr>\n",
       "    <tr>\n",
       "      <th>min</th>\n",
       "      <td>0.000000e+00</td>\n",
       "      <td>1000.000000</td>\n",
       "      <td>0.000000</td>\n",
       "      <td>5000.000000</td>\n",
       "      <td>0.000000</td>\n",
       "      <td>0.0</td>\n",
       "      <td>1067.00000</td>\n",
       "    </tr>\n",
       "    <tr>\n",
       "      <th>25%</th>\n",
       "      <td>1.150000e+03</td>\n",
       "      <td>1999.000000</td>\n",
       "      <td>70.000000</td>\n",
       "      <td>125000.000000</td>\n",
       "      <td>3.000000</td>\n",
       "      <td>0.0</td>\n",
       "      <td>30459.00000</td>\n",
       "    </tr>\n",
       "    <tr>\n",
       "      <th>50%</th>\n",
       "      <td>2.950000e+03</td>\n",
       "      <td>2003.000000</td>\n",
       "      <td>105.000000</td>\n",
       "      <td>150000.000000</td>\n",
       "      <td>6.000000</td>\n",
       "      <td>0.0</td>\n",
       "      <td>49610.00000</td>\n",
       "    </tr>\n",
       "    <tr>\n",
       "      <th>75%</th>\n",
       "      <td>7.200000e+03</td>\n",
       "      <td>2008.000000</td>\n",
       "      <td>150.000000</td>\n",
       "      <td>150000.000000</td>\n",
       "      <td>9.000000</td>\n",
       "      <td>0.0</td>\n",
       "      <td>71546.00000</td>\n",
       "    </tr>\n",
       "    <tr>\n",
       "      <th>max</th>\n",
       "      <td>2.147484e+09</td>\n",
       "      <td>9999.000000</td>\n",
       "      <td>20000.000000</td>\n",
       "      <td>150000.000000</td>\n",
       "      <td>12.000000</td>\n",
       "      <td>0.0</td>\n",
       "      <td>99998.00000</td>\n",
       "    </tr>\n",
       "  </tbody>\n",
       "</table>\n",
       "</div>"
      ],
      "text/plain": [
       "              price  yearOfRegistration        powerPS      kilometer  \\\n",
       "count  3.715280e+05       371528.000000  371528.000000  371528.000000   \n",
       "mean   1.729514e+04         2004.577997     115.549477  125618.688228   \n",
       "std    3.587954e+06           92.866598     192.139578   40112.337051   \n",
       "min    0.000000e+00         1000.000000       0.000000    5000.000000   \n",
       "25%    1.150000e+03         1999.000000      70.000000  125000.000000   \n",
       "50%    2.950000e+03         2003.000000     105.000000  150000.000000   \n",
       "75%    7.200000e+03         2008.000000     150.000000  150000.000000   \n",
       "max    2.147484e+09         9999.000000   20000.000000  150000.000000   \n",
       "\n",
       "       monthOfRegistration  nrOfPictures    postalCode  \n",
       "count        371528.000000      371528.0  371528.00000  \n",
       "mean              5.734445           0.0   50820.66764  \n",
       "std               3.712412           0.0   25799.08247  \n",
       "min               0.000000           0.0    1067.00000  \n",
       "25%               3.000000           0.0   30459.00000  \n",
       "50%               6.000000           0.0   49610.00000  \n",
       "75%               9.000000           0.0   71546.00000  \n",
       "max              12.000000           0.0   99998.00000  "
      ]
     },
     "execution_count": 10,
     "metadata": {},
     "output_type": "execute_result"
    }
   ],
   "source": [
    "df.describe()\n"
   ]
  },
  {
   "cell_type": "markdown",
   "metadata": {},
   "source": [
    "## Dropping some useless columns\n",
    "\n",
    "Some column can already be dropped."
   ]
  },
  {
   "cell_type": "code",
   "execution_count": 11,
   "metadata": {
    "collapsed": false
   },
   "outputs": [
    {
     "name": "stdout",
     "output_type": "stream",
     "text": [
      "['privat' 'gewerblich']\n",
      "['Angebot' 'Gesuch']\n",
      "['test' 'control']\n",
      "[0]\n"
     ]
    }
   ],
   "source": [
    "print(df.seller.unique())\n",
    "print(df.offerType.unique())\n",
    "print(df.abtest.unique())\n",
    "print(df.nrOfPictures.unique())"
   ]
  },
  {
   "cell_type": "markdown",
   "metadata": {},
   "source": [
    "Seller has only one value, while offerType and abtest has no relevance for the analysis. So far, I still don't know how to use the `dateCrawled` column.\n",
    "\n",
    "Therefore I modify the dataframe dropping all those features.\n",
    "\n",
    "I remove `lastSeen`, `dateCreated` and `postalCode` as well as I don't think they will be useful for a price prediction."
   ]
  },
  {
   "cell_type": "code",
   "execution_count": 12,
   "metadata": {
    "collapsed": false
   },
   "outputs": [],
   "source": [
    "df.drop(['seller', 'offerType', 'abtest', 'dateCrawled', 'nrOfPictures', 'lastSeen', 'postalCode', 'dateCreated'], axis='columns', inplace=True)\n"
   ]
  },
  {
   "cell_type": "markdown",
   "metadata": {},
   "source": [
    "## Cleaning data\n",
    "\n",
    "Cleaning data from duplicates, NaNs and selecting reasonable ranges for columns\n"
   ]
  },
  {
   "cell_type": "code",
   "execution_count": 13,
   "metadata": {
    "collapsed": false
   },
   "outputs": [
    {
     "name": "stdout",
     "output_type": "stream",
     "text": [
      "Too new: 14680\n",
      "Too old: 289\n",
      "Too cheap: 13320\n",
      "Too expensive:  232\n",
      "Too few km:  0\n",
      "Too many km:  0\n",
      "Too few PS:  41040\n",
      "Too many PS:  835\n",
      "Fuel types:  ['benzin' 'diesel' nan 'lpg' 'andere' 'hybrid' 'cng' 'elektro']\n",
      "Damages:  [nan 'ja' 'nein']\n",
      "Vehicle types:  [nan 'coupe' 'suv' 'kleinwagen' 'limousine' 'cabrio' 'bus' 'kombi' 'andere']\n",
      "Brands:  ['volkswagen' 'audi' 'jeep' 'skoda' 'bmw' 'peugeot' 'ford' 'mazda' 'nissan'\n",
      " 'renault' 'mercedes_benz' 'opel' 'seat' 'citroen' 'honda' 'fiat' 'mini'\n",
      " 'smart' 'hyundai' 'sonstige_autos' 'alfa_romeo' 'subaru' 'volvo'\n",
      " 'mitsubishi' 'kia' 'suzuki' 'lancia' 'porsche' 'toyota' 'chevrolet'\n",
      " 'dacia' 'daihatsu' 'trabant' 'saab' 'chrysler' 'jaguar' 'daewoo' 'rover'\n",
      " 'land_rover' 'lada']\n",
      "-----------------\n",
      "Data kept for analisys: 81 percent of the entire set\n",
      "-----------------\n"
     ]
    }
   ],
   "source": [
    "print(\"Too new: %d\" % df.loc[df.yearOfRegistration >= 2017].count()['name'])\n",
    "print(\"Too old: %d\" % df.loc[df.yearOfRegistration < 1950].count()['name'])\n",
    "print(\"Too cheap: %d\" % df.loc[df.price < 100].count()['name'])\n",
    "print(\"Too expensive: \" , df.loc[df.price > 150000].count()['name'])\n",
    "print(\"Too few km: \" , df.loc[df.kilometer < 5000].count()['name'])\n",
    "print(\"Too many km: \" , df.loc[df.kilometer > 200000].count()['name'])\n",
    "print(\"Too few PS: \" , df.loc[df.powerPS < 10].count()['name'])\n",
    "print(\"Too many PS: \" , df.loc[df.powerPS > 500].count()['name'])\n",
    "print(\"Fuel types: \" , df['fuelType'].unique())\n",
    "#print(\"Offer types: \" , df['offerType'].unique())\n",
    "#print(\"Sellers: \" , df['seller'].unique())\n",
    "print(\"Damages: \" , df['notRepairedDamage'].unique())\n",
    "#print(\"Pics: \" , df['nrOfPictures'].unique()) # nrOfPictures : number of pictures in the ad (unfortunately this field contains everywhere a 0 and is thus useless (bug in crawler!) )\n",
    "#print(\"Postale codes: \" , df['postalCode'].unique())\n",
    "print(\"Vehicle types: \" , df['vehicleType'].unique())\n",
    "print(\"Brands: \" , df['brand'].unique())\n",
    "\n",
    "# Cleaning data\n",
    "#valid_models = df.dropna()\n",
    "\n",
    "#### Removing the duplicates\n",
    "dedups = df.drop_duplicates(['name','price','vehicleType','yearOfRegistration'\n",
    "                         ,'gearbox','powerPS','model','kilometer','monthOfRegistration','fuelType'\n",
    "                         ,'notRepairedDamage'])\n",
    "\n",
    "#### Removing the outliers\n",
    "no_outliers = dedups[\n",
    "        (dedups.yearOfRegistration <= 2016) \n",
    "      & (dedups.yearOfRegistration >= 1950) \n",
    "      & (dedups.price >= 100) \n",
    "      & (dedups.price <= 150000) \n",
    "      & (dedups.powerPS >= 10) \n",
    "      & (dedups.powerPS <= 500)]\n",
    "\n",
    "print(\"-----------------\\nData kept for analisys: %d percent of the entire set\\n-----------------\" % (100 * no_outliers['name'].count() / df['name'].count()))\n"
   ]
  },
  {
   "cell_type": "markdown",
   "metadata": {},
   "source": [
    "## Working on the `null` values\n",
    "\n",
    "Checking if theree are NaNs to fix or drop"
   ]
  },
  {
   "cell_type": "code",
   "execution_count": 14,
   "metadata": {
    "collapsed": false
   },
   "outputs": [
    {
     "data": {
      "text/plain": [
       "name                       0\n",
       "price                      0\n",
       "vehicleType            37380\n",
       "yearOfRegistration         0\n",
       "gearbox                19102\n",
       "powerPS                    0\n",
       "model                  20260\n",
       "kilometer                  0\n",
       "monthOfRegistration        0\n",
       "fuelType               33047\n",
       "brand                      0\n",
       "notRepairedDamage      70197\n",
       "dtype: int64"
      ]
     },
     "execution_count": 14,
     "metadata": {},
     "output_type": "execute_result"
    }
   ],
   "source": [
    "dedups.isnull().sum()"
   ]
  },
  {
   "cell_type": "markdown",
   "metadata": {},
   "source": [
    "Some decisions to take for the nulls in the following fields: vehicleType (37422 nulls), gearbox (19803 nulls), model (20288 nulls), fuelType (33081 nulls), notRepairedDamage (70770 nulls).\n",
    "\n",
    "### `model`-`brand`-`vehicleType`\n",
    "If we have the `model` we could determine the `brand` and the `vehicleType` calculating the mode for the corresponding fields in the rest of the dataset. The opposite combinations are not true. So I think the actions should be:\n",
    "\n",
    "| `vehicleType` | `brand` | `model` | Action \n",
    "| ---           | ---     | ---     |\n",
    "| `null`        |  `null` | [value] | Set the other fields\n",
    "| `null`        | [value] | `null`  | Delete\n",
    "| [value]       |  `null` | `null`  | Delete\n",
    "\n",
    "__So far, I'll drop all the NaNs in these 3 fields.__\n",
    "\n",
    "### `notRepairedDamage`\n",
    "Those with null `notRepairedDamage` field could be set to \"`not-declared`\" value for example.\n",
    "\n",
    "### `fuelType`\n",
    "Null `fuelType`s could be set to \"`not-declared`\" value again.\n",
    "\n",
    "### `gearbox`\n",
    "Null `fuelType`s could be set to \"`not-declared`\" value again.\n",
    "\n"
   ]
  },
  {
   "cell_type": "code",
   "execution_count": 15,
   "metadata": {
    "collapsed": false
   },
   "outputs": [
    {
     "name": "stderr",
     "output_type": "stream",
     "text": [
      "/opt/conda/lib/python3.5/site-packages/pandas/core/generic.py:3191: SettingWithCopyWarning: \n",
      "A value is trying to be set on a copy of a slice from a DataFrame\n",
      "\n",
      "See the caveats in the documentation: http://pandas.pydata.org/pandas-docs/stable/indexing.html#indexing-view-versus-copy\n",
      "  self._update_inplace(new_data)\n"
     ]
    }
   ],
   "source": [
    "dedups['notRepairedDamage'].fillna(value='not-declared', inplace=True)\n",
    "dedups['fuelType'].fillna(value='not-declared', inplace=True)\n",
    "dedups['gearbox'].fillna(value='not-declared', inplace=True)\n",
    "dedups['vehicleType'].fillna(value='not-declared', inplace=True)\n",
    "dedups['model'].fillna(value='not-declared', inplace=True)"
   ]
  },
  {
   "cell_type": "markdown",
   "metadata": {},
   "source": [
    "Checking if all the nulls have been filled or dropped."
   ]
  },
  {
   "cell_type": "code",
   "execution_count": 16,
   "metadata": {
    "collapsed": false
   },
   "outputs": [
    {
     "data": {
      "text/plain": [
       "name                   0\n",
       "price                  0\n",
       "vehicleType            0\n",
       "yearOfRegistration     0\n",
       "gearbox                0\n",
       "powerPS                0\n",
       "model                  0\n",
       "kilometer              0\n",
       "monthOfRegistration    0\n",
       "fuelType               0\n",
       "brand                  0\n",
       "notRepairedDamage      0\n",
       "dtype: int64"
      ]
     },
     "execution_count": 16,
     "metadata": {},
     "output_type": "execute_result"
    }
   ],
   "source": [
    "dedups.isnull().sum()"
   ]
  },
  {
   "cell_type": "markdown",
   "metadata": {},
   "source": [
    "OK, we're clear. Let's do some visualization now."
   ]
  },
  {
   "cell_type": "markdown",
   "metadata": {},
   "source": [
    "## Visualizations\n",
    "### Categories distribution\n",
    "Let's see some charts to understand how data is distributed across the categories"
   ]
  },
  {
   "cell_type": "code",
   "execution_count": 17,
   "metadata": {
    "collapsed": false
   },
   "outputs": [
    {
     "name": "stdout",
     "output_type": "stream",
     "text": [
      "gearbox\n",
      "manuell         268589\n",
      "automatik        75079\n",
      "not-declared     19102\n",
      "Name: gearbox, dtype: int64\n"
     ]
    },
    {
     "data": {
      "image/png": "[encoded data removed]",
      "text/plain": [
       "<matplotlib.figure.Figure at 0x7f34b3603f98>"
      ]
     },
     "metadata": {},
     "output_type": "display_data"
    },
    {
     "name": "stdout",
     "output_type": "stream",
     "text": [
      "model\n",
      "golf            29229\n",
      "andere          26042\n",
      "not-declared    20260\n",
      "3er             20043\n",
      "polo            12881\n",
      "Name: model, dtype: int64\n"
     ]
    },
    {
     "data": {
      "image/png": "[encoded data removed]",
      "text/plain": [
       "<matplotlib.figure.Figure at 0x7f34ac90e5c0>"
      ]
     },
     "metadata": {},
     "output_type": "display_data"
    },
    {
     "name": "stdout",
     "output_type": "stream",
     "text": [
      "brand\n",
      "volkswagen       77487\n",
      "opel             39229\n",
      "bmw              39203\n",
      "mercedes_benz    34519\n",
      "audi             31688\n",
      "Name: brand, dtype: int64\n"
     ]
    },
    {
     "data": {
      "image/png": "[encoded data removed]",
      "text/plain": [
       "<matplotlib.figure.Figure at 0x7f34ac339470>"
      ]
     },
     "metadata": {},
     "output_type": "display_data"
    },
    {
     "name": "stdout",
     "output_type": "stream",
     "text": [
      "vehicleType\n",
      "limousine       93021\n",
      "kleinwagen      78387\n",
      "kombi           65658\n",
      "not-declared    37380\n",
      "bus             29579\n",
      "Name: vehicleType, dtype: int64\n"
     ]
    },
    {
     "data": {
      "image/png": "[encoded data removed]",
      "text/plain": [
       "<matplotlib.figure.Figure at 0x7f34af493048>"
      ]
     },
     "metadata": {},
     "output_type": "display_data"
    },
    {
     "name": "stdout",
     "output_type": "stream",
     "text": [
      "fuelType\n",
      "benzin          219793\n",
      "diesel          103505\n",
      "not-declared     33047\n",
      "lpg               5281\n",
      "cng                559\n",
      "Name: fuelType, dtype: int64\n"
     ]
    },
    {
     "data": {
      "image/png": "[encoded data removed]",
      "text/plain": [
       "<matplotlib.figure.Figure at 0x7f34af4a1668>"
      ]
     },
     "metadata": {},
     "output_type": "display_data"
    },
    {
     "name": "stdout",
     "output_type": "stream",
     "text": [
      "notRepairedDamage\n",
      "nein            256776\n",
      "not-declared     70197\n",
      "ja               35797\n",
      "Name: notRepairedDamage, dtype: int64\n"
     ]
    },
    {
     "data": {
      "image/png": "[encoded data removed]",
      "text/plain": [
       "<matplotlib.figure.Figure at 0x7f34af298d68>"
      ]
     },
     "metadata": {},
     "output_type": "display_data"
    }
   ],
   "source": [
    "categories = ['gearbox', 'model', 'brand', 'vehicleType', 'fuelType', 'notRepairedDamage']\n",
    "\n",
    "for i, c in enumerate(categories):\n",
    "    v = dedups[c].unique()\n",
    "    \n",
    "    g = dedups.groupby(by=c)[c].count().sort_values(ascending=False)\n",
    "    r = range(min(len(v), 5))\n",
    "\n",
    "    print( g.head())\n",
    "    plt.figure(figsize=(5,3))\n",
    "    plt.bar(r, g.head()) \n",
    "    plt.xticks(r, v)\n",
    "    plt.show()"
   ]
  },
  {
   "cell_type": "markdown",
   "metadata": {},
   "source": [
    "### Correlations\n",
    "Let's see how features are correlated each other and, more important, with the price."
   ]
  },
  {
   "cell_type": "code",
   "execution_count": 18,
   "metadata": {
    "collapsed": false
   },
   "outputs": [],
   "source": [
    "le = preprocessing.LabelEncoder()\n",
    "\n",
    "dedups = dedups.apply(le.fit_transform)"
   ]
  },
  {
   "cell_type": "code",
   "execution_count": 19,
   "metadata": {
    "collapsed": false
   },
   "outputs": [
    {
     "data": {
      "text/html": [
       "<div>\n",
       "<table border=\"1\" class=\"dataframe\">\n",
       "  <thead>\n",
       "    <tr style=\"text-align: right;\">\n",
       "      <th></th>\n",
       "      <th>name</th>\n",
       "      <th>price</th>\n",
       "      <th>vehicleType</th>\n",
       "      <th>yearOfRegistration</th>\n",
       "      <th>gearbox</th>\n",
       "      <th>powerPS</th>\n",
       "      <th>model</th>\n",
       "      <th>kilometer</th>\n",
       "      <th>monthOfRegistration</th>\n",
       "      <th>fuelType</th>\n",
       "      <th>brand</th>\n",
       "      <th>notRepairedDamage</th>\n",
       "    </tr>\n",
       "  </thead>\n",
       "  <tbody>\n",
       "    <tr>\n",
       "      <th>name</th>\n",
       "      <td>1.000000</td>\n",
       "      <td>-0.114758</td>\n",
       "      <td>-0.094062</td>\n",
       "      <td>-0.012913</td>\n",
       "      <td>0.105457</td>\n",
       "      <td>-0.220164</td>\n",
       "      <td>0.429884</td>\n",
       "      <td>-0.018643</td>\n",
       "      <td>-0.016327</td>\n",
       "      <td>-0.008906</td>\n",
       "      <td>0.811455</td>\n",
       "      <td>0.006945</td>\n",
       "    </tr>\n",
       "    <tr>\n",
       "      <th>price</th>\n",
       "      <td>-0.114758</td>\n",
       "      <td>1.000000</td>\n",
       "      <td>-0.060645</td>\n",
       "      <td>0.380384</td>\n",
       "      <td>-0.332485</td>\n",
       "      <td>0.552233</td>\n",
       "      <td>-0.035720</td>\n",
       "      <td>-0.373347</td>\n",
       "      <td>0.121268</td>\n",
       "      <td>-0.004332</td>\n",
       "      <td>-0.123198</td>\n",
       "      <td>-0.050242</td>\n",
       "    </tr>\n",
       "    <tr>\n",
       "      <th>vehicleType</th>\n",
       "      <td>-0.094062</td>\n",
       "      <td>-0.060645</td>\n",
       "      <td>1.000000</td>\n",
       "      <td>0.139532</td>\n",
       "      <td>-0.005748</td>\n",
       "      <td>0.008694</td>\n",
       "      <td>-0.105433</td>\n",
       "      <td>0.025712</td>\n",
       "      <td>-0.054608</td>\n",
       "      <td>0.163891</td>\n",
       "      <td>-0.081300</td>\n",
       "      <td>0.088099</td>\n",
       "    </tr>\n",
       "    <tr>\n",
       "      <th>yearOfRegistration</th>\n",
       "      <td>-0.012913</td>\n",
       "      <td>0.380384</td>\n",
       "      <td>0.139532</td>\n",
       "      <td>1.000000</td>\n",
       "      <td>-0.087313</td>\n",
       "      <td>0.147156</td>\n",
       "      <td>0.041159</td>\n",
       "      <td>-0.183909</td>\n",
       "      <td>0.050655</td>\n",
       "      <td>0.118120</td>\n",
       "      <td>-0.035316</td>\n",
       "      <td>-0.006534</td>\n",
       "    </tr>\n",
       "    <tr>\n",
       "      <th>gearbox</th>\n",
       "      <td>0.105457</td>\n",
       "      <td>-0.332485</td>\n",
       "      <td>-0.005748</td>\n",
       "      <td>-0.087313</td>\n",
       "      <td>1.000000</td>\n",
       "      <td>-0.441707</td>\n",
       "      <td>0.062894</td>\n",
       "      <td>-0.006050</td>\n",
       "      <td>-0.122136</td>\n",
       "      <td>0.086626</td>\n",
       "      <td>0.122163</td>\n",
       "      <td>0.127645</td>\n",
       "    </tr>\n",
       "    <tr>\n",
       "      <th>powerPS</th>\n",
       "      <td>-0.220164</td>\n",
       "      <td>0.552233</td>\n",
       "      <td>0.008694</td>\n",
       "      <td>0.147156</td>\n",
       "      <td>-0.441707</td>\n",
       "      <td>1.000000</td>\n",
       "      <td>-0.127556</td>\n",
       "      <td>-0.006974</td>\n",
       "      <td>0.123034</td>\n",
       "      <td>-0.053988</td>\n",
       "      <td>-0.250171</td>\n",
       "      <td>-0.128196</td>\n",
       "    </tr>\n",
       "    <tr>\n",
       "      <th>model</th>\n",
       "      <td>0.429884</td>\n",
       "      <td>-0.035720</td>\n",
       "      <td>-0.105433</td>\n",
       "      <td>0.041159</td>\n",
       "      <td>0.062894</td>\n",
       "      <td>-0.127556</td>\n",
       "      <td>1.000000</td>\n",
       "      <td>-0.022115</td>\n",
       "      <td>-0.023663</td>\n",
       "      <td>0.065763</td>\n",
       "      <td>0.461113</td>\n",
       "      <td>0.033612</td>\n",
       "    </tr>\n",
       "    <tr>\n",
       "      <th>kilometer</th>\n",
       "      <td>-0.018643</td>\n",
       "      <td>-0.373347</td>\n",
       "      <td>0.025712</td>\n",
       "      <td>-0.183909</td>\n",
       "      <td>-0.006050</td>\n",
       "      <td>-0.006974</td>\n",
       "      <td>-0.022115</td>\n",
       "      <td>1.000000</td>\n",
       "      <td>0.013742</td>\n",
       "      <td>0.036837</td>\n",
       "      <td>-0.025786</td>\n",
       "      <td>-0.020020</td>\n",
       "    </tr>\n",
       "    <tr>\n",
       "      <th>monthOfRegistration</th>\n",
       "      <td>-0.016327</td>\n",
       "      <td>0.121268</td>\n",
       "      <td>-0.054608</td>\n",
       "      <td>0.050655</td>\n",
       "      <td>-0.122136</td>\n",
       "      <td>0.123034</td>\n",
       "      <td>-0.023663</td>\n",
       "      <td>0.013742</td>\n",
       "      <td>1.000000</td>\n",
       "      <td>-0.111662</td>\n",
       "      <td>-0.020998</td>\n",
       "      <td>-0.106347</td>\n",
       "    </tr>\n",
       "    <tr>\n",
       "      <th>fuelType</th>\n",
       "      <td>-0.008906</td>\n",
       "      <td>-0.004332</td>\n",
       "      <td>0.163891</td>\n",
       "      <td>0.118120</td>\n",
       "      <td>0.086626</td>\n",
       "      <td>-0.053988</td>\n",
       "      <td>0.065763</td>\n",
       "      <td>0.036837</td>\n",
       "      <td>-0.111662</td>\n",
       "      <td>1.000000</td>\n",
       "      <td>-0.004807</td>\n",
       "      <td>0.134253</td>\n",
       "    </tr>\n",
       "    <tr>\n",
       "      <th>brand</th>\n",
       "      <td>0.811455</td>\n",
       "      <td>-0.123198</td>\n",
       "      <td>-0.081300</td>\n",
       "      <td>-0.035316</td>\n",
       "      <td>0.122163</td>\n",
       "      <td>-0.250171</td>\n",
       "      <td>0.461113</td>\n",
       "      <td>-0.025786</td>\n",
       "      <td>-0.020998</td>\n",
       "      <td>-0.004807</td>\n",
       "      <td>1.000000</td>\n",
       "      <td>0.025404</td>\n",
       "    </tr>\n",
       "    <tr>\n",
       "      <th>notRepairedDamage</th>\n",
       "      <td>0.006945</td>\n",
       "      <td>-0.050242</td>\n",
       "      <td>0.088099</td>\n",
       "      <td>-0.006534</td>\n",
       "      <td>0.127645</td>\n",
       "      <td>-0.128196</td>\n",
       "      <td>0.033612</td>\n",
       "      <td>-0.020020</td>\n",
       "      <td>-0.106347</td>\n",
       "      <td>0.134253</td>\n",
       "      <td>0.025404</td>\n",
       "      <td>1.000000</td>\n",
       "    </tr>\n",
       "  </tbody>\n",
       "</table>\n",
       "</div>"
      ],
      "text/plain": [
       "                         name     price  vehicleType  yearOfRegistration  \\\n",
       "name                 1.000000 -0.114758    -0.094062           -0.012913   \n",
       "price               -0.114758  1.000000    -0.060645            0.380384   \n",
       "vehicleType         -0.094062 -0.060645     1.000000            0.139532   \n",
       "yearOfRegistration  -0.012913  0.380384     0.139532            1.000000   \n",
       "gearbox              0.105457 -0.332485    -0.005748           -0.087313   \n",
       "powerPS             -0.220164  0.552233     0.008694            0.147156   \n",
       "model                0.429884 -0.035720    -0.105433            0.041159   \n",
       "kilometer           -0.018643 -0.373347     0.025712           -0.183909   \n",
       "monthOfRegistration -0.016327  0.121268    -0.054608            0.050655   \n",
       "fuelType            -0.008906 -0.004332     0.163891            0.118120   \n",
       "brand                0.811455 -0.123198    -0.081300           -0.035316   \n",
       "notRepairedDamage    0.006945 -0.050242     0.088099           -0.006534   \n",
       "\n",
       "                      gearbox   powerPS     model  kilometer  \\\n",
       "name                 0.105457 -0.220164  0.429884  -0.018643   \n",
       "price               -0.332485  0.552233 -0.035720  -0.373347   \n",
       "vehicleType         -0.005748  0.008694 -0.105433   0.025712   \n",
       "yearOfRegistration  -0.087313  0.147156  0.041159  -0.183909   \n",
       "gearbox              1.000000 -0.441707  0.062894  -0.006050   \n",
       "powerPS             -0.441707  1.000000 -0.127556  -0.006974   \n",
       "model                0.062894 -0.127556  1.000000  -0.022115   \n",
       "kilometer           -0.006050 -0.006974 -0.022115   1.000000   \n",
       "monthOfRegistration -0.122136  0.123034 -0.023663   0.013742   \n",
       "fuelType             0.086626 -0.053988  0.065763   0.036837   \n",
       "brand                0.122163 -0.250171  0.461113  -0.025786   \n",
       "notRepairedDamage    0.127645 -0.128196  0.033612  -0.020020   \n",
       "\n",
       "                     monthOfRegistration  fuelType     brand  \\\n",
       "name                           -0.016327 -0.008906  0.811455   \n",
       "price                           0.121268 -0.004332 -0.123198   \n",
       "vehicleType                    -0.054608  0.163891 -0.081300   \n",
       "yearOfRegistration              0.050655  0.118120 -0.035316   \n",
       "gearbox                        -0.122136  0.086626  0.122163   \n",
       "powerPS                         0.123034 -0.053988 -0.250171   \n",
       "model                          -0.023663  0.065763  0.461113   \n",
       "kilometer                       0.013742  0.036837 -0.025786   \n",
       "monthOfRegistration             1.000000 -0.111662 -0.020998   \n",
       "fuelType                       -0.111662  1.000000 -0.004807   \n",
       "brand                          -0.020998 -0.004807  1.000000   \n",
       "notRepairedDamage              -0.106347  0.134253  0.025404   \n",
       "\n",
       "                     notRepairedDamage  \n",
       "name                          0.006945  \n",
       "price                        -0.050242  \n",
       "vehicleType                   0.088099  \n",
       "yearOfRegistration           -0.006534  \n",
       "gearbox                       0.127645  \n",
       "powerPS                      -0.128196  \n",
       "model                         0.033612  \n",
       "kilometer                    -0.020020  \n",
       "monthOfRegistration          -0.106347  \n",
       "fuelType                      0.134253  \n",
       "brand                         0.025404  \n",
       "notRepairedDamage             1.000000  "
      ]
     },
     "execution_count": 19,
     "metadata": {},
     "output_type": "execute_result"
    },
    {
     "data": {
      "image/png": "[encoded data removed]",
      "text/plain": [
       "<matplotlib.figure.Figure at 0x7f34d060e8d0>"
      ]
     },
     "metadata": {},
     "output_type": "display_data"
    }
   ],
   "source": [
    "plot_correlation_map(dedups)\n",
    "dedups.corr()"
   ]
  },
  {
   "cell_type": "markdown",
   "metadata": {},
   "source": [
    "## Studying correlations between some features and sell price"
   ]
  },
  {
   "cell_type": "markdown",
   "metadata": {},
   "source": [
    "I want to see how data is distributed and how it's related to the sell price. I start considering the numeric fields already present in the dataset, then I'll do other studies after having encoded the string fields."
   ]
  },
  {
   "cell_type": "code",
   "execution_count": null,
   "metadata": {
    "collapsed": false
   },
   "outputs": [],
   "source": [
    "p = no_outliers\n",
    "ax = sns.jointplot(x='powerPS', y='price',data=p[['powerPS','price']], alpha=0.1, size=8)\n",
    "plt.title('Price distribution for car power')\n",
    "\n",
    "plt.xlim(0, 501)\n",
    "plt.ylim(0, 160000)\n"
   ]
  },
  {
   "cell_type": "markdown",
   "metadata": {},
   "source": [
    "Price at varying yearOfRegistration"
   ]
  },
  {
   "cell_type": "code",
   "execution_count": null,
   "metadata": {
    "collapsed": false
   },
   "outputs": [],
   "source": [
    "p = no_outliers\n",
    "#plt.scatter(p['yearOfRegistration'], p['price'], alpha=.1, marker='o', color='b')\n",
    "ax = sns.jointplot(x='yearOfRegistration', \n",
    "                   y='price',\n",
    "                   data=p[['yearOfRegistration','price']], \n",
    "                   alpha=0.1, size=8)\n",
    "\n",
    "plt.title('Price distribution for year')\n",
    "\n",
    "plt.ylim(0, 160000)\n",
    "\n"
   ]
  },
  {
   "cell_type": "markdown",
   "metadata": {},
   "source": [
    "Price at varying kilometers"
   ]
  },
  {
   "cell_type": "code",
   "execution_count": null,
   "metadata": {
    "collapsed": false
   },
   "outputs": [],
   "source": [
    "p = no_outliers\n",
    "#plt.scatter(p['kilometer'], p['price'], alpha=.1, marker='o', color='b')\n",
    "ax = sns.jointplot(x='kilometer', y='price',data=p[['kilometer','price']], alpha=0.1, size=8)\n",
    "\n",
    "plt.title('Price distribution for kilometers')\n",
    "#plt.xlabel('Kilometers')\n",
    "#plt.ylabel('Price (logarithmic)')\n",
    "#plt.yscale('log')\n",
    "plt.ylim(0, 160000)\n",
    "plt.xticks([5000,10000,20000,30000,40000,50000,60000,70000,80000,90000,100000,125000,150000], rotation='vertical')\n"
   ]
  },
  {
   "cell_type": "markdown",
   "metadata": {},
   "source": [
    "### Features engineering"
   ]
  },
  {
   "cell_type": "code",
   "execution_count": null,
   "metadata": {
    "collapsed": false
   },
   "outputs": [],
   "source": [
    "p = no_outliers\n",
    "p['namelen'] = [len(n) for n in p['name']]\n",
    "\n",
    "print(p['namelen'].head())\n",
    "#plt.scatter(p['namelen'][p['model']=='golf'], p['price'][p['model']=='golf'], alpha=.1, marker='o', color='b')\n",
    "ax = sns.jointplot(x='namelen', y='price',data=p[['namelen','price']][p['model']=='golf'], alpha=0.1, size=8)\n",
    "\n",
    "p = p[p.namelen < 100] # removed the 22k chars name\n",
    "\n",
    "plt.title('Price distribution for name length')\n",
    "plt.ylim(0, 45000)\n",
    "plt.xlim(0, 70)\n"
   ]
  },
  {
   "cell_type": "markdown",
   "metadata": {},
   "source": [
    "Here I plotted the name length vs car price for all the vw golfs and it seems that more complete names bring to a bit higher sell price. Another explanation could be that a longer name includes more optionals and accessories and therefore the price is obviously higher.\n",
    "\n",
    "Very short and very long names do not work well."
   ]
  },
  {
   "cell_type": "markdown",
   "metadata": {},
   "source": [
    "## Selecting only relevant columns\n",
    "\n",
    "Here I select the columns that I think are useful for determining a car's price.\n"
   ]
  },
  {
   "cell_type": "code",
   "execution_count": null,
   "metadata": {
    "collapsed": false
   },
   "outputs": [],
   "source": [
    "\n",
    "# only relevant columns\n",
    "rel_cols = no_outliers[['price'\n",
    "                        ,'yearOfRegistration'\n",
    "                        ,'gearbox'\n",
    "                        ,'powerPS'\n",
    "                        ,'model'\n",
    "                        ,'kilometer'\n",
    "                        ,'fuelType'\n",
    "                        ,'vehicleType'\n",
    "                        ,'monthOfRegistration'\n",
    "                        ,'brand'\n",
    "                        ,'notRepairedDamage'\n",
    "                       , 'namelen']]\n",
    "rel_cols.head()"
   ]
  },
  {
   "cell_type": "markdown",
   "metadata": {},
   "source": [
    "## Encoding\n",
    "\n",
    "This part encodes the string fields to numerical values, in order to study the rest of the columns and to make some regressions."
   ]
  },
  {
   "cell_type": "code",
   "execution_count": null,
   "metadata": {
    "collapsed": false
   },
   "outputs": [],
   "source": [
    "labels = ['gearbox', 'notRepairedDamage', 'model', 'brand', 'fuelType', 'vehicleType']\n",
    "les = {}\n",
    "\n",
    "for l in labels:\n",
    "    les[l] = preprocessing.LabelEncoder()\n",
    "    les[l].fit(rel_cols[l])\n",
    "    #print(les[l].classes_)\n",
    "    tr = les[l].transform(rel_cols[l]) \n",
    "    rel_cols.loc[:, l + '_feat'] = pd.Series(tr, index=rel_cols.index)\n",
    "\n",
    "df_autos = rel_cols[ ['price'\n",
    "                        ,'yearOfRegistration'\n",
    "                        ,'powerPS'\n",
    "                        ,'kilometer'\n",
    "                        ,'monthOfRegistration'\n",
    "                        , 'namelen'] \n",
    "                    + [x+\"_feat\" for x in labels]]\n",
    "\n",
    "df_autos['yearOfRegistration'] = df_autos['yearOfRegistration'].apply(lambda x: x-2000)\n",
    "\n",
    "#print(df_autos['yearOfRegistration'])\n",
    "autos = df_autos.values.astype(float)\n",
    "\n",
    "Y = autos[:,0]\n",
    "X = autos[:,1:]\n"
   ]
  },
  {
   "cell_type": "markdown",
   "metadata": {},
   "source": [
    "### Studying the other correlations"
   ]
  },
  {
   "cell_type": "code",
   "execution_count": null,
   "metadata": {
    "collapsed": false
   },
   "outputs": [],
   "source": [
    "plt.title('Pearson Correlation')\n",
    "sns.heatmap(df_autos.astype(float).corr(),\n",
    "            linewidths=0.1,\n",
    "            vmax=1.0, \n",
    "            square=True, \n",
    "            cmap=\"PuBuGn\", \n",
    "            linecolor='w', \n",
    "            annot=False)\n"
   ]
  },
  {
   "cell_type": "code",
   "execution_count": null,
   "metadata": {
    "collapsed": false
   },
   "outputs": [],
   "source": [
    "p = df_autos\n",
    "#plt.scatter(p['powerPS'], p['price'], alpha=.1, marker='o', color='b')\n",
    "ax = sns.jointplot(x='brand_feat', y='price',data=p[['brand_feat','price']], alpha=0.1, size=8)\n",
    "plt.title('Price distribution for brands')\n",
    "#plt.xlabel('Power in HP')\n",
    "#plt.ylabel('Price (logarithmic)')\n",
    "#plt.yscale('log')\n",
    "\n",
    "brands = zip(range(0, len(les['brand'].classes_)), les['brand'].classes_)\n",
    "\n",
    "s = ''\n",
    "for b in brands:\n",
    "    s = s + ' ' + str(b)\n",
    "\n",
    "print(\"brands: \" + s)\n",
    "\n",
    "plt.xlim(0, 41)\n",
    "plt.ylim(0, 160000)"
   ]
  },
  {
   "cell_type": "code",
   "execution_count": null,
   "metadata": {
    "collapsed": false
   },
   "outputs": [],
   "source": [
    "p = df_autos[df_autos['brand_feat']==37]\n",
    "#plt.scatter(p['powerPS'], p['price'], alpha=.1, marker='o', color='b')\n",
    "ax = sns.jointplot(x='model_feat', y='price',data=p[['model_feat','price']], alpha=0.1, size=8)\n",
    "plt.title('Price distribution for VW models')\n",
    "#plt.xlabel('Power in HP')\n",
    "#plt.ylabel('Price (logarithmic)')\n",
    "#plt.yscale('log')\n",
    "\n",
    "model = zip(range(0, len(les['model'].classes_)), les['model'].classes_)\n",
    "\n",
    "s = ''\n",
    "for b in model:\n",
    "    s = s + ' ' + str(b)\n",
    "\n",
    "print(\"models: \" + s)\n",
    "\n",
    "#plt.xlim(0, 41)\n",
    "plt.ylim(0, 160000)"
   ]
  },
  {
   "cell_type": "code",
   "execution_count": null,
   "metadata": {
    "collapsed": false
   },
   "outputs": [],
   "source": [
    "p = df_autos\n",
    "f = plt.figure()\n",
    "\n",
    "JG1 = sns.jointplot(x='fuelType_feat', y='price',data=p[['fuelType_feat','price']], alpha=0.1, size=4)\n",
    "JG2 = sns.jointplot(x='vehicleType_feat', y='price',data=p[['vehicleType_feat','price']], alpha=0.1, size=4)\n",
    "JG3 = sns.jointplot(x='gearbox_feat', y='price',data=p[['gearbox_feat','price']], alpha=0.1, size=4)\n",
    "JG4 = sns.jointplot(x='notRepairedDamage_feat', y='price',data=p[['notRepairedDamage_feat','price']], alpha=0.1, size=4)\n",
    "\n",
    "fuelTypes = zip(range(0, len(les['fuelType'].classes_)), les['fuelType'].classes_)\n",
    "s = ''\n",
    "for b in fuelTypes:\n",
    "    s = s + ' ' + str(b)\n",
    "print(\"Fuels: \" + s)\n",
    "\n",
    "vehicleTypes = zip(range(0, len(les['vehicleType'].classes_)), les['vehicleType'].classes_)\n",
    "s = ''\n",
    "for b in vehicleTypes:\n",
    "    s = s + ' ' + str(b)\n",
    "print(\"vehicleType: \" + s)\n",
    "\n",
    "gearboxes = zip(range(0, len(les['gearbox'].classes_)), les['gearbox'].classes_)\n",
    "s = ''\n",
    "for b in gearboxes:\n",
    "    s = s + ' ' + str(b)\n",
    "print(\"gearbox: \" + s)\n",
    "\n",
    "fuelTypes = zip(range(0, len(les['notRepairedDamage'].classes_)), les['notRepairedDamage'].classes_)\n",
    "s = ''\n",
    "for b in fuelTypes:\n",
    "    s = s + ' ' + str(b)\n",
    "print(\"notRepairedDamage: \" + s)\n",
    "\n",
    "#plt.xlim(0, 41)\n",
    "plt.ylim(0, 160000)"
   ]
  },
  {
   "cell_type": "markdown",
   "metadata": {},
   "source": [
    "## Correction\n",
    "\n",
    "Transforming the right-skewed sale price column.\n"
   ]
  },
  {
   "cell_type": "code",
   "execution_count": null,
   "metadata": {
    "collapsed": false
   },
   "outputs": [],
   "source": [
    "matplotlib.rcParams['figure.figsize'] = (12.0, 6.0)\n",
    "prices = pd.DataFrame({\"1. Before\":Y, \"2. After\":np.log1p(Y)})\n",
    "prices.hist()\n",
    "\n",
    "Y = np.log1p(Y)"
   ]
  },
  {
   "cell_type": "markdown",
   "metadata": {},
   "source": [
    "# Playing with different models\n",
    "\n",
    "Trying with some model from scikit learn: LinearRegression, LR with L2 regularization and others."
   ]
  },
  {
   "cell_type": "code",
   "execution_count": null,
   "metadata": {
    "collapsed": true
   },
   "outputs": [],
   "source": [
    "from sklearn.linear_model import Ridge, RidgeCV, ElasticNet, Lasso, LassoCV, LassoLarsCV\n",
    "from sklearn.model_selection import cross_val_score, train_test_split\n",
    "\n",
    "\n",
    "def cv_rmse(model, x, y):\n",
    "    r = np.sqrt(-cross_val_score(model, x, y, scoring=\"neg_mean_squared_error\", cv = 5))\n",
    "    return r\n",
    "\n",
    "r = range(2003, 2017)\n",
    "km_year = 10000\n",
    "\n"
   ]
  },
  {
   "cell_type": "markdown",
   "metadata": {},
   "source": [
    "## Linear Regression"
   ]
  },
  {
   "cell_type": "code",
   "execution_count": null,
   "metadata": {
    "collapsed": false
   },
   "outputs": [],
   "source": [
    "linear = linear_model.LinearRegression()\n",
    "\n",
    "# Percent of the X array to use as training set. This implies that the rest will be test set\n",
    "test_size = .2\n",
    "\n",
    "#Split into train and validation\n",
    "X_train, X_test, y_train, y_test = train_test_split(X, Y, test_size=test_size, random_state = 3)\n",
    "print(X_train.shape, X_test.shape, y_train.shape, y_test.shape)\n",
    "linear.fit(X_train, y_train)\n",
    "\n",
    "# Explained variance score: 1 is perfect prediction\n",
    "score = linear.score(X_test, y_test)\n",
    "print('Variance score: %.2f' % score)\n",
    "\n",
    "print(\"rmse on validation set\", cv_rmse(linear, X_test, y_test).mean())\n",
    "\n",
    "# Last version results:\n",
    "# Variance score: 0.68\n",
    "# rmse on validation set 0.639555427197\n"
   ]
  },
  {
   "cell_type": "markdown",
   "metadata": {},
   "source": [
    "#### Predicting samples"
   ]
  },
  {
   "cell_type": "code",
   "execution_count": null,
   "metadata": {
    "collapsed": false
   },
   "outputs": [],
   "source": [
    "\n",
    "def calc_values(model, year, brand, car_model, vehicle, gearbox, fuel, powerPS, km, not_repaired_damage):\n",
    "    sample = [year\n",
    "          , powerPS\n",
    "          , km\n",
    "          , 1 # month\n",
    "          , 35 # namelen\n",
    "          , les['gearbox'].transform([gearbox])\n",
    "          , les['notRepairedDamage'].transform([not_repaired_damage])\n",
    "          , les['model'].transform([car_model])\n",
    "          , les['brand'].transform([brand])\n",
    "          , les['fuelType'].transform([fuel])\n",
    "          , les['vehicleType'].transform([vehicle])]\n",
    "    s_predict = np.expm1(model.predict([sample]))\n",
    "    return s_predict\n",
    "\n",
    "# [nan 'coupe' 'suv' 'kleinwagen' 'limousine' 'cabrio' 'bus' 'kombi' 'andere']\n",
    "vw1 = calc_values(linear, 2016, 'volkswagen', 'touran', 'bus', 'manuell', 'diesel', 105, 10000, 'nein')\n",
    "bmw  = calc_values(linear, 2016, 'bmw', '3er', 'limousine', 'manuell', 'diesel', 150, 10000, 'nein')\n",
    "fiat  = calc_values(linear, 2016, 'fiat', 'punto', 'kleinwagen', 'manuell', 'benzin', 60, 10000, 'nein')\n",
    "vw2 = calc_values(linear, 2016, 'volkswagen', 'tiguan', 'suv', 'manuell', 'diesel', 130, 10000, 'nein')\n",
    "\n",
    "print(vw1)\n",
    "print(bmw)\n",
    "print(fiat)\n",
    "print(vw2)\n",
    "\n",
    "values_linear  = [calc_values(linear, y, 'volkswagen', 'touran', 'bus', 'manuell', 'diesel', 120, km_year * (2017-y), 'nein') for y in r]\n",
    "values_linear2  = [calc_values(linear, y, 'volkswagen', 'touran', 'bus', 'manuell', 'diesel', 120, km_year * 2 * (2017-y), 'nein') for y in r]\n",
    "values_linear3  = [calc_values(linear, y, 'volkswagen', 'touran', 'bus', 'manuell', 'diesel', 120, km_year * 3 * (2017-y), 'nein') for y in r]\n",
    "plt.plot(r, values_linear, label='linear')\n",
    "plt.plot(r, values_linear2, label='linear 20000km_x_y')\n",
    "plt.plot(r, values_linear3, label='linear 30000km_x_y')\n",
    "\n",
    "#plt.grid()\n",
    "plt.legend(bbox_to_anchor=(1.05, 1), loc=2, borderaxespad=0.)\n"
   ]
  },
  {
   "cell_type": "markdown",
   "metadata": {},
   "source": [
    "## L1 regularized LR\n"
   ]
  },
  {
   "cell_type": "code",
   "execution_count": null,
   "metadata": {
    "collapsed": false
   },
   "outputs": [],
   "source": [
    "\n",
    "alphas = [0.005,0.05, 0.1, 0.3, 0.5, 0.7, 1, 2, 3, 5, 10, 20, 25, 30, 50]\n",
    "cv_lasso = [cv_rmse(Lasso(alpha = alpha), X_train, y_train).mean() for alpha in alphas]\n",
    "\n",
    "cv_lasso = pd.Series(cv_lasso, index = alphas)\n",
    "cv_lasso.plot(title = \"Validation\", figsize=(5,5))\n",
    "plt.xlabel(\"alpha\")\n",
    "plt.ylabel(\"rmse\")\n",
    "\n",
    "model_lasso = Lasso(alpha = cv_lasso.min()).fit(X_train, y_train)\n",
    "\n",
    "# Explained variance score: 1 is perfect prediction\n",
    "print('Variance score: %.2f' % model_lasso.score(X_test, y_test))\n",
    "\n",
    "coef = pd.Series(model_lasso.coef_, index = df_autos.iloc[:,1:].columns)\n",
    "\n",
    "imp_coef = pd.concat([coef.sort_values()])\n",
    "\n",
    "print(imp_coef)\n",
    "\n",
    "print(np.sqrt(np.mean((y_test - model_lasso.predict(X_test))**2)))\n",
    "print(\"rmse on validation set\", cv_rmse(model_lasso, X_test, y_test).mean())\n",
    "\n",
    "# Last version results:\n",
    "# 0.707839916347\n",
    "# rmse on validation set 0.708803418524\n"
   ]
  },
  {
   "cell_type": "markdown",
   "metadata": {},
   "source": [
    "#### Predicting samples"
   ]
  },
  {
   "cell_type": "code",
   "execution_count": null,
   "metadata": {
    "collapsed": false
   },
   "outputs": [],
   "source": [
    "vw1 = calc_values(model_lasso, 2016, 'volkswagen', 'touran', 'bus', 'manuell', 'diesel', 105, 10000, 'nein')\n",
    "bmw  = calc_values(model_lasso, 2016, 'bmw', '3er', 'limousine', 'manuell', 'diesel', 150, 10000, 'nein')\n",
    "fiat  = calc_values(model_lasso, 2016, 'fiat', 'punto', 'kleinwagen', 'manuell', 'benzin', 60, 10000, 'nein')\n",
    "vw2 = calc_values(model_lasso, 2016, 'volkswagen', 'tiguan', 'suv', 'manuell', 'diesel', 130, 10000, 'nein')\n",
    "\n",
    "print(vw1)\n",
    "print(bmw)\n",
    "print(fiat)\n",
    "print(vw2)\n",
    "\n",
    "values_lasso  = [calc_values(model_lasso, y, 'volkswagen', 'touran', 'bus', 'manuell', 'diesel', 120, km_year * (2017-y), 'nein') for y in r]\n",
    "values_lasso2  = [calc_values(model_lasso, y, 'volkswagen', 'touran', 'bus', 'manuell', 'diesel', 120, km_year * 2 * (2017-y), 'nein') for y in r]\n",
    "values_lasso3  = [calc_values(model_lasso, y, 'volkswagen', 'touran', 'bus', 'manuell', 'diesel', 120, km_year * 3 * (2017-y), 'nein') for y in r]\n",
    "plt.plot(r, values_lasso, label='lasso')\n",
    "plt.plot(r, values_lasso2, label='lasso 20000km_x_y')\n",
    "plt.plot(r, values_lasso3, label='lasso 30000km_x_y')\n",
    "\n",
    "#plt.grid()\n",
    "plt.legend(bbox_to_anchor=(1.05, 1), loc=2, borderaxespad=0.)\n"
   ]
  },
  {
   "cell_type": "markdown",
   "metadata": {},
   "source": [
    "## L2 regularized LR"
   ]
  },
  {
   "cell_type": "code",
   "execution_count": null,
   "metadata": {
    "collapsed": false
   },
   "outputs": [],
   "source": [
    "\n",
    "alphas = [-10, -5, -2, -1, 0, 0.005,0.05, 0.1, 0.3, 1, 3, 5, 10, 20, 25, 30, 50]\n",
    "cv_ridge = [cv_rmse(Ridge(alpha = alpha), X_train, y_train).mean() for alpha in alphas]\n",
    "\n",
    "cv_ridge = pd.Series(cv_ridge, index = alphas)\n",
    "cv_ridge.plot(title = \"Validation\", figsize=(5,5))\n",
    "plt.xlabel(\"alpha\")\n",
    "plt.ylabel(\"rmse\")\n",
    "\n",
    "model_ridge = Ridge(alpha = cv_ridge.min()).fit(X_train, y_train)\n",
    "\n",
    "# Explained variance score: 1 is perfect prediction\n",
    "print('Variance score: %.2f' % model_ridge.score(X_test, y_test))\n",
    "\n",
    "coef = pd.Series(model_ridge.coef_, index = df_autos.iloc[:,1:].columns)\n",
    "\n",
    "imp_coef = pd.concat([coef.sort_values()])\n",
    "\n",
    "print(imp_coef)\n",
    "\n",
    "print(np.sqrt(np.mean((y_test - model_ridge.predict(X_test))**2)))\n",
    "print(\"rmse on validation set\", cv_rmse(model_ridge, X_test, y_test).mean())\n",
    "\n",
    "# Last version results:\n",
    "# 0.639334838313\n",
    "# rmse on validation set 0.639555431574\n"
   ]
  },
  {
   "cell_type": "markdown",
   "metadata": {},
   "source": [
    "#### Predicting samples"
   ]
  },
  {
   "cell_type": "code",
   "execution_count": null,
   "metadata": {
    "collapsed": false
   },
   "outputs": [],
   "source": [
    "vw1 = calc_values(model_ridge, 2016, 'volkswagen', 'touran', 'bus', 'manuell', 'diesel', 105, 10000, 'nein')\n",
    "bmw  = calc_values(model_ridge, 2016, 'bmw', '3er', 'limousine', 'manuell', 'diesel', 150, 10000, 'nein')\n",
    "fiat  = calc_values(model_ridge, 2016, 'fiat', 'punto', 'kleinwagen', 'manuell', 'benzin', 60, 10000, 'nein')\n",
    "vw2 = calc_values(model_ridge, 2016, 'volkswagen', 'tiguan', 'suv', 'manuell', 'diesel', 130, 10000, 'nein')\n",
    "\n",
    "print(vw1)\n",
    "print(bmw)\n",
    "print(fiat)\n",
    "print(vw2)\n",
    "\n",
    "values_ridge  = [calc_values(model_ridge, y, 'volkswagen', 'touran', 'bus', 'manuell', 'diesel', 120, km_year * (2017-y), 'nein') for y in r]\n",
    "values_ridge2  = [calc_values(model_ridge, y, 'volkswagen', 'touran', 'bus', 'manuell', 'diesel', 120, km_year * 2 * (2017-y), 'nein') for y in r]\n",
    "values_ridge3  = [calc_values(model_ridge, y, 'volkswagen', 'touran', 'bus', 'manuell', 'diesel', 120, km_year * 3 * (2017-y), 'nein') for y in r]\n",
    "plt.plot(r, values_ridge, label='ridge')\n",
    "plt.plot(r, values_ridge2, label='ridge 20000km_x_y')\n",
    "plt.plot(r, values_ridge3, label='ridge 30000km_x_y')\n",
    "\n",
    "#plt.grid()\n",
    "plt.legend(bbox_to_anchor=(1.05, 1), loc=2, borderaxespad=0.)\n"
   ]
  },
  {
   "cell_type": "markdown",
   "metadata": {},
   "source": [
    "## Random forests"
   ]
  },
  {
   "cell_type": "code",
   "execution_count": null,
   "metadata": {
    "collapsed": false
   },
   "outputs": [],
   "source": [
    "from sklearn.ensemble import RandomForestRegressor\n",
    "forest = RandomForestRegressor(n_estimators = 50)\n",
    "forest.fit(X_train, y_train)"
   ]
  },
  {
   "cell_type": "code",
   "execution_count": null,
   "metadata": {
    "collapsed": false
   },
   "outputs": [],
   "source": [
    "# Explained variance score: 1 is perfect prediction\n",
    "print('Variance score: %.2f' % forest.score(X_test, y_test))\n",
    "\n",
    "print(np.sqrt(np.mean((y_test - forest.predict(X_test))**2)))\n",
    "print(\"rmse on validation set\", cv_rmse(forest, X_test, y_test).mean())\n",
    "\n",
    "# Last version results\n",
    "# Variance score: 0.88\n",
    "# 0.391895988852\n",
    "# rmse on validation set 0.426248010639\n"
   ]
  },
  {
   "cell_type": "markdown",
   "metadata": {},
   "source": [
    "#### Predicting samples"
   ]
  },
  {
   "cell_type": "code",
   "execution_count": null,
   "metadata": {
    "collapsed": false
   },
   "outputs": [],
   "source": [
    "vw1 = calc_values(forest, 2016, 'volkswagen', 'touran', 'bus', 'manuell', 'diesel', 105, 10000, 'nein')\n",
    "bmw  = calc_values(forest, 2016, 'bmw', '3er', 'limousine', 'manuell', 'diesel', 150, 10000, 'nein')\n",
    "fiat  = calc_values(forest, 2016, 'fiat', 'punto', 'kleinwagen', 'manuell', 'benzin', 60, 10000, 'nein')\n",
    "vw2 = calc_values(forest, 2016, 'volkswagen', 'tiguan', 'suv', 'manuell', 'diesel', 130, 10000, 'nein')\n",
    "\n",
    "print(vw1)\n",
    "print(bmw)\n",
    "print(fiat)\n",
    "print(vw2)\n",
    "\n",
    "#values_forest = [calc_values(forest     , y, 'volkswagen', 'touran', 'bus', 'manuell', 'diesel', 120, km_year * (2017-y), 'nein') for y in r]\n",
    "#values_forest2 = [calc_values(forest     , y, 'volkswagen', 'touran', 'bus', 'manuell', 'diesel', 120, km_year* 2 * (2017-y), 'nein') for y in r]\n",
    "#values_forest3 = [calc_values(forest     , y, 'volkswagen', 'touran', 'bus', 'manuell', 'diesel', 120, km_year* 3 * (2017-y), 'nein') for y in r]\n",
    "\n",
    "values_forest  = [calc_values(forest, y, 'audi', 'a3', 'coupe', 'manuell', 'diesel', 140, km_year * (2017-y), 'nein') for y in r]\n",
    "values_forest4 = [calc_values(forest, y, 'volkswagen', 'golf', 'coupe', 'manuell', 'diesel', 140, km_year * (2017-y), 'nein') for y in r]\n",
    "values_forest5 = [calc_values(forest, y, 'seat', 'ibiza', 'coupe', 'manuell', 'diesel', 140, km_year * (2017-y), 'nein') for y in r]\n",
    "values_forest6 = [calc_values(forest, y, 'dacia', 'logan', 'coupe', 'manuell', 'diesel', 140, km_year * (2017-y), 'nein') for y in r]\n",
    "\n",
    "\n",
    "plt.plot(r, values_forest, label='audi')\n",
    "plt.plot(r, values_forest4, label='vw')\n",
    "plt.plot(r, values_forest5, label='seat')\n",
    "plt.plot(r, values_forest6, label='dacia')\n",
    "\n",
    "#plt.grid()\n",
    "plt.legend(bbox_to_anchor=(1.05, 1), loc=2, borderaxespad=0.)\n"
   ]
  },
  {
   "cell_type": "markdown",
   "metadata": {},
   "source": [
    "## Testing XGBoost"
   ]
  },
  {
   "cell_type": "code",
   "execution_count": null,
   "metadata": {
    "collapsed": false
   },
   "outputs": [],
   "source": [
    "from xgboost import XGBRegressor\n",
    "import xgboost as xgb\n",
    "from sklearn.metrics import accuracy_score\n",
    "from sklearn.model_selection import KFold\n",
    "\n",
    "clf = XGBRegressor()\n",
    "clf.fit(X_train, y_train)\n"
   ]
  },
  {
   "cell_type": "code",
   "execution_count": null,
   "metadata": {
    "collapsed": false
   },
   "outputs": [],
   "source": [
    "xgb.plot_importance(clf)\n",
    "\n",
    "#f0 = year\n",
    "#f1 = powerPS\n",
    "#f2 = km\n",
    "#f3 = month\n",
    "#f4 = namelen\n",
    "#f5 = gearbox\n",
    "#f6 = notRepairedDamage\n",
    "#f7 = model\n",
    "#f8 = brand\n",
    "#f9 = fuelType\n",
    "#f10 = vehicleType\n",
    "\n",
    "# make predictions for test data\n",
    "y_pred = clf.predict(X_test)\n",
    "print(np.sqrt(np.mean((y_test - y_pred)**2)))\n",
    "\n",
    "# Last version results\n",
    "# 0.433305159267\n"
   ]
  },
  {
   "cell_type": "markdown",
   "metadata": {},
   "source": [
    "#### Predicting samples"
   ]
  },
  {
   "cell_type": "code",
   "execution_count": null,
   "metadata": {
    "collapsed": false
   },
   "outputs": [],
   "source": [
    "values_clf  = [calc_values(clf, y, 'audi', 'a3', 'coupe', 'manuell', 'diesel', 140, km_year * (2017-y), 'nein') for y in r]\n",
    "values_clf2 = [calc_values(clf, y, 'audi', 'a3', 'coupe', 'manuell', 'diesel', 105, km_year * (2017-y), 'nein') for y in r]\n",
    "values_clf3 = [calc_values(clf, y, 'audi', 'a3', 'coupe', 'manuell', 'diesel', 200, km_year * (2017-y), 'nein') for y in r]\n",
    "values_clf  = [calc_values(clf, y, 'audi', 'a3', 'coupe', 'manuell', 'diesel', 140, km_year * (2017-y), 'nein') for y in r]\n",
    "values_clf4 = [calc_values(clf, y, 'volkswagen', 'golf', 'coupe', 'manuell', 'diesel', 140, km_year * (2017-y), 'nein') for y in r]\n",
    "values_clf5 = [calc_values(clf, y, 'seat', 'ibiza', 'coupe', 'manuell', 'diesel', 140, km_year * (2017-y), 'nein') for y in r]\n",
    "values_clf6 = [calc_values(clf, y, 'dacia', 'logan', 'coupe', 'manuell', 'diesel', 140, km_year * (2017-y), 'nein') for y in r]\n",
    "#plt.plot(r, values_clf2, label='audi 105cv')\n",
    "#plt.plot(r, values_clf3, label='audi 200cv')\n",
    "plt.plot(r, values_clf , label='audi 140cv')\n",
    "plt.plot(r, values_clf4, label='golf ')\n",
    "plt.plot(r, values_clf5, label='ibiza ')\n",
    "plt.plot(r, values_clf6, label='dacia ')\n",
    "\n",
    "#plt.grid()\n",
    "plt.legend(bbox_to_anchor=(1.05, 1), loc=2, borderaxespad=0.)\n"
   ]
  },
  {
   "cell_type": "markdown",
   "metadata": {},
   "source": [
    "# Conclusions\n",
    "\n",
    "I've tried to play with as much stuff as I could with this dataset in order to understand the very basic topics about:\n",
    "\n",
    "* data interpretation and selection\n",
    "* feature selection and labeling\n",
    "* data visualization\n",
    "* very rough ML algorithms application\n",
    "\n",
    "There's very much to improve both in how I managed all these steps and in the different outcomes of the predictions on the sell price. I'll experiment a bit more in the next few days, then I'll move on another dataset to learn more.\n"
   ]
  }
 ],
 "metadata": {
  "anaconda-cloud": {},
  "kernelspec": {
   "display_name": "Python [conda root]",
   "language": "python",
   "name": "conda-root-py"
  },
  "language_info": {
   "codemirror_mode": {
    "name": "ipython",
    "version": 3
   },
   "file_extension": ".py",
   "mimetype": "text/x-python",
   "name": "python",
   "nbconvert_exporter": "python",
   "pygments_lexer": "ipython3",
   "version": "3.5.2"
  }
 },
 "nbformat": 4,
 "nbformat_minor": 2
}
