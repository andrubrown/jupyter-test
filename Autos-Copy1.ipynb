{
 "cells": [
  {
   "cell_type": "markdown",
   "metadata": {},
   "source": [
    "# Intro\n",
    "\n",
    "I'm trying to learn the very basics with this exercise. My goal is to train a linear regression model with a subset of columns from this interesting dataset in order to predict the value of a used car.\n",
    "\n",
    "Any help or advice is welcome!!!\n",
    "\n",
    "### Changelist\n",
    "\n",
    "* removed feature regularization for Linear regression\n",
    "* corrected Y values skewing\n",
    "* added L2 regularized LR model\n",
    "* added a neural net model\n",
    "* added chart to visualize prediction samples"
   ]
  },
  {
   "cell_type": "code",
   "execution_count": 1,
   "metadata": {
    "collapsed": false
   },
   "outputs": [],
   "source": [
    "import pandas as pd\n",
    "\n",
    "import matplotlib.pyplot as plt\n",
    "import numpy as np\n",
    "from sklearn import datasets, linear_model, preprocessing, svm\n",
    "from sklearn.preprocessing import StandardScaler, Normalizer\n",
    "import math\n",
    "import matplotlib"
   ]
  },
  {
   "cell_type": "markdown",
   "metadata": {},
   "source": [
    "# Preparing data\n",
    "\n",
    "## Reading from file\n",
    "\n",
    "Just reading the file and printing some lines."
   ]
  },
  {
   "cell_type": "code",
   "execution_count": 2,
   "metadata": {
    "collapsed": false
   },
   "outputs": [
    {
     "data": {
      "text/html": [
       "<div>\n",
       "<table border=\"1\" class=\"dataframe\">\n",
       "  <thead>\n",
       "    <tr style=\"text-align: right;\">\n",
       "      <th></th>\n",
       "      <th>dateCrawled</th>\n",
       "      <th>name</th>\n",
       "      <th>seller</th>\n",
       "      <th>offerType</th>\n",
       "      <th>price</th>\n",
       "      <th>abtest</th>\n",
       "      <th>vehicleType</th>\n",
       "      <th>yearOfRegistration</th>\n",
       "      <th>gearbox</th>\n",
       "      <th>powerPS</th>\n",
       "      <th>model</th>\n",
       "      <th>kilometer</th>\n",
       "      <th>monthOfRegistration</th>\n",
       "      <th>fuelType</th>\n",
       "      <th>brand</th>\n",
       "      <th>notRepairedDamage</th>\n",
       "      <th>dateCreated</th>\n",
       "      <th>nrOfPictures</th>\n",
       "      <th>postalCode</th>\n",
       "      <th>lastSeen</th>\n",
       "    </tr>\n",
       "  </thead>\n",
       "  <tbody>\n",
       "    <tr>\n",
       "      <th>0</th>\n",
       "      <td>2016-03-24 11:52:17</td>\n",
       "      <td>Golf_3_1.6</td>\n",
       "      <td>privat</td>\n",
       "      <td>Angebot</td>\n",
       "      <td>480</td>\n",
       "      <td>test</td>\n",
       "      <td>NaN</td>\n",
       "      <td>1993</td>\n",
       "      <td>manuell</td>\n",
       "      <td>0</td>\n",
       "      <td>golf</td>\n",
       "      <td>150000</td>\n",
       "      <td>0</td>\n",
       "      <td>benzin</td>\n",
       "      <td>volkswagen</td>\n",
       "      <td>NaN</td>\n",
       "      <td>2016-03-24 00:00:00</td>\n",
       "      <td>0</td>\n",
       "      <td>70435</td>\n",
       "      <td>2016-04-07 03:16:57</td>\n",
       "    </tr>\n",
       "    <tr>\n",
       "      <th>1</th>\n",
       "      <td>2016-03-24 10:58:45</td>\n",
       "      <td>A5_Sportback_2.7_Tdi</td>\n",
       "      <td>privat</td>\n",
       "      <td>Angebot</td>\n",
       "      <td>18300</td>\n",
       "      <td>test</td>\n",
       "      <td>coupe</td>\n",
       "      <td>2011</td>\n",
       "      <td>manuell</td>\n",
       "      <td>190</td>\n",
       "      <td>NaN</td>\n",
       "      <td>125000</td>\n",
       "      <td>5</td>\n",
       "      <td>diesel</td>\n",
       "      <td>audi</td>\n",
       "      <td>ja</td>\n",
       "      <td>2016-03-24 00:00:00</td>\n",
       "      <td>0</td>\n",
       "      <td>66954</td>\n",
       "      <td>2016-04-07 01:46:50</td>\n",
       "    </tr>\n",
       "    <tr>\n",
       "      <th>2</th>\n",
       "      <td>2016-03-14 12:52:21</td>\n",
       "      <td>Jeep_Grand_Cherokee_\"Overland\"</td>\n",
       "      <td>privat</td>\n",
       "      <td>Angebot</td>\n",
       "      <td>9800</td>\n",
       "      <td>test</td>\n",
       "      <td>suv</td>\n",
       "      <td>2004</td>\n",
       "      <td>automatik</td>\n",
       "      <td>163</td>\n",
       "      <td>grand</td>\n",
       "      <td>125000</td>\n",
       "      <td>8</td>\n",
       "      <td>diesel</td>\n",
       "      <td>jeep</td>\n",
       "      <td>NaN</td>\n",
       "      <td>2016-03-14 00:00:00</td>\n",
       "      <td>0</td>\n",
       "      <td>90480</td>\n",
       "      <td>2016-04-05 12:47:46</td>\n",
       "    </tr>\n",
       "    <tr>\n",
       "      <th>3</th>\n",
       "      <td>2016-03-17 16:54:04</td>\n",
       "      <td>GOLF_4_1_4__3TÜRER</td>\n",
       "      <td>privat</td>\n",
       "      <td>Angebot</td>\n",
       "      <td>1500</td>\n",
       "      <td>test</td>\n",
       "      <td>kleinwagen</td>\n",
       "      <td>2001</td>\n",
       "      <td>manuell</td>\n",
       "      <td>75</td>\n",
       "      <td>golf</td>\n",
       "      <td>150000</td>\n",
       "      <td>6</td>\n",
       "      <td>benzin</td>\n",
       "      <td>volkswagen</td>\n",
       "      <td>nein</td>\n",
       "      <td>2016-03-17 00:00:00</td>\n",
       "      <td>0</td>\n",
       "      <td>91074</td>\n",
       "      <td>2016-03-17 17:40:17</td>\n",
       "    </tr>\n",
       "    <tr>\n",
       "      <th>4</th>\n",
       "      <td>2016-03-31 17:25:20</td>\n",
       "      <td>Skoda_Fabia_1.4_TDI_PD_Classic</td>\n",
       "      <td>privat</td>\n",
       "      <td>Angebot</td>\n",
       "      <td>3600</td>\n",
       "      <td>test</td>\n",
       "      <td>kleinwagen</td>\n",
       "      <td>2008</td>\n",
       "      <td>manuell</td>\n",
       "      <td>69</td>\n",
       "      <td>fabia</td>\n",
       "      <td>90000</td>\n",
       "      <td>7</td>\n",
       "      <td>diesel</td>\n",
       "      <td>skoda</td>\n",
       "      <td>nein</td>\n",
       "      <td>2016-03-31 00:00:00</td>\n",
       "      <td>0</td>\n",
       "      <td>60437</td>\n",
       "      <td>2016-04-06 10:17:21</td>\n",
       "    </tr>\n",
       "  </tbody>\n",
       "</table>\n",
       "</div>"
      ],
      "text/plain": [
       "           dateCrawled                            name  seller offerType  \\\n",
       "0  2016-03-24 11:52:17                      Golf_3_1.6  privat   Angebot   \n",
       "1  2016-03-24 10:58:45            A5_Sportback_2.7_Tdi  privat   Angebot   \n",
       "2  2016-03-14 12:52:21  Jeep_Grand_Cherokee_\"Overland\"  privat   Angebot   \n",
       "3  2016-03-17 16:54:04              GOLF_4_1_4__3TÜRER  privat   Angebot   \n",
       "4  2016-03-31 17:25:20  Skoda_Fabia_1.4_TDI_PD_Classic  privat   Angebot   \n",
       "\n",
       "   price abtest vehicleType  yearOfRegistration    gearbox  powerPS  model  \\\n",
       "0    480   test         NaN                1993    manuell        0   golf   \n",
       "1  18300   test       coupe                2011    manuell      190    NaN   \n",
       "2   9800   test         suv                2004  automatik      163  grand   \n",
       "3   1500   test  kleinwagen                2001    manuell       75   golf   \n",
       "4   3600   test  kleinwagen                2008    manuell       69  fabia   \n",
       "\n",
       "   kilometer  monthOfRegistration fuelType       brand notRepairedDamage  \\\n",
       "0     150000                    0   benzin  volkswagen               NaN   \n",
       "1     125000                    5   diesel        audi                ja   \n",
       "2     125000                    8   diesel        jeep               NaN   \n",
       "3     150000                    6   benzin  volkswagen              nein   \n",
       "4      90000                    7   diesel       skoda              nein   \n",
       "\n",
       "           dateCreated  nrOfPictures  postalCode             lastSeen  \n",
       "0  2016-03-24 00:00:00             0       70435  2016-04-07 03:16:57  \n",
       "1  2016-03-24 00:00:00             0       66954  2016-04-07 01:46:50  \n",
       "2  2016-03-14 00:00:00             0       90480  2016-04-05 12:47:46  \n",
       "3  2016-03-17 00:00:00             0       91074  2016-03-17 17:40:17  \n",
       "4  2016-03-31 00:00:00             0       60437  2016-04-06 10:17:21  "
      ]
     },
     "execution_count": 2,
     "metadata": {},
     "output_type": "execute_result"
    }
   ],
   "source": [
    "df = pd.read_csv('autos.csv.gz', sep=',', header=0, compression='gzip',encoding='cp1252')\n",
    "df.head()"
   ]
  },
  {
   "cell_type": "markdown",
   "metadata": {},
   "source": [
    "## Cleaning data from outliers and dirty values\n",
    "\n",
    "Cleaning data from duplicates, NaNs and selecting reasonable ranges for columns\n"
   ]
  },
  {
   "cell_type": "code",
   "execution_count": 3,
   "metadata": {
    "collapsed": false
   },
   "outputs": [
    {
     "name": "stdout",
     "output_type": "stream",
     "text": [
      "Too new: 14680\n",
      "Too old: 289\n",
      "Too cheap: 13320\n",
      "Too expensive:  232\n",
      "Too few km:  0\n",
      "Too many km:  0\n",
      "Too few PS:  41040\n",
      "Too many PS:  835\n",
      "Fuel types:  ['benzin' 'diesel' nan 'lpg' 'andere' 'hybrid' 'cng' 'elektro']\n",
      "Offer types:  ['Angebot' 'Gesuch']\n",
      "Sellers:  ['privat' 'gewerblich']\n",
      "Damages:  [nan 'ja' 'nein']\n",
      "Pics:  [0]\n",
      "Postale codes:  [70435 66954 90480 ..., 38528 38325 31096]\n",
      "Vehicle types:  [nan 'coupe' 'suv' 'kleinwagen' 'limousine' 'cabrio' 'bus' 'kombi' 'andere']\n",
      "\n",
      "Data kept for analisys: 65 percent of the entire set\n"
     ]
    },
    {
     "name": "stderr",
     "output_type": "stream",
     "text": [
      "/opt/conda/lib/python3.5/site-packages/ipykernel/__main__.py:32: UserWarning: Boolean Series key will be reindexed to match DataFrame index.\n"
     ]
    }
   ],
   "source": [
    "print(\"Too new: %d\" % df.loc[df.yearOfRegistration >= 2017].count()['name'])\n",
    "print(\"Too old: %d\" % df.loc[df.yearOfRegistration < 1950].count()['name'])\n",
    "print(\"Too cheap: %d\" % df.loc[df.price < 100].count()['name'])\n",
    "print(\"Too expensive: \" , df.loc[df.price > 150000].count()['name'])\n",
    "print(\"Too few km: \" , df.loc[df.kilometer < 5000].count()['name'])\n",
    "print(\"Too many km: \" , df.loc[df.kilometer > 200000].count()['name'])\n",
    "print(\"Too few PS: \" , df.loc[df.powerPS < 10].count()['name'])\n",
    "print(\"Too many PS: \" , df.loc[df.powerPS > 500].count()['name'])\n",
    "print(\"Fuel types: \" , df['fuelType'].unique())\n",
    "print(\"Offer types: \" , df['offerType'].unique())\n",
    "print(\"Sellers: \" , df['seller'].unique())\n",
    "print(\"Damages: \" , df['notRepairedDamage'].unique())\n",
    "print(\"Pics: \" , df['nrOfPictures'].unique()) # nrOfPictures : number of pictures in the ad (unfortunately this field contains everywhere a 0 and is thus useless (bug in crawler!) )\n",
    "print(\"Postale codes: \" , df['postalCode'].unique())\n",
    "print(\"Vehicle types: \" , df['vehicleType'].unique())\n",
    "\n",
    "# Cleaning data\n",
    "valid_models = df.dropna()\n",
    "\n",
    "#### Removing the duplicates\n",
    "dedups = valid_models.drop_duplicates(['name','seller','offerType','price','abtest','vehicleType','yearOfRegistration'\n",
    "                         ,'gearbox','powerPS','model','kilometer','monthOfRegistration','fuelType'\n",
    "                         ,'notRepairedDamage','postalCode'])\n",
    "\n",
    "#### Removing the outliers\n",
    "no_outliers = dedups[\n",
    "        (valid_models.yearOfRegistration <= 2016) \n",
    "      & (valid_models.yearOfRegistration >= 1950) \n",
    "      & (valid_models.price >= 100) \n",
    "      & (valid_models.price <= 150000) \n",
    "      & (valid_models.powerPS >= 10) \n",
    "      & (valid_models.powerPS <= 500)]\n",
    "\n",
    "print(\"\\nData kept for analisys: %d percent of the entire set\" % (100 * no_outliers['name'].count() / df['name'].count()))"
   ]
  },
  {
   "cell_type": "markdown",
   "metadata": {},
   "source": [
    "## Selecting only relevant columns\n",
    "\n",
    "Here I select the columns that I think are useful for determining a car's price.\n"
   ]
  },
  {
   "cell_type": "code",
   "execution_count": 4,
   "metadata": {
    "collapsed": false
   },
   "outputs": [
    {
     "data": {
      "text/html": [
       "<div>\n",
       "<table border=\"1\" class=\"dataframe\">\n",
       "  <thead>\n",
       "    <tr style=\"text-align: right;\">\n",
       "      <th></th>\n",
       "      <th>price</th>\n",
       "      <th>yearOfRegistration</th>\n",
       "      <th>gearbox</th>\n",
       "      <th>powerPS</th>\n",
       "      <th>model</th>\n",
       "      <th>kilometer</th>\n",
       "      <th>fuelType</th>\n",
       "      <th>vehicleType</th>\n",
       "      <th>monthOfRegistration</th>\n",
       "      <th>brand</th>\n",
       "      <th>notRepairedDamage</th>\n",
       "    </tr>\n",
       "  </thead>\n",
       "  <tbody>\n",
       "    <tr>\n",
       "      <th>3</th>\n",
       "      <td>1500</td>\n",
       "      <td>2001</td>\n",
       "      <td>manuell</td>\n",
       "      <td>75</td>\n",
       "      <td>golf</td>\n",
       "      <td>150000</td>\n",
       "      <td>benzin</td>\n",
       "      <td>kleinwagen</td>\n",
       "      <td>6</td>\n",
       "      <td>volkswagen</td>\n",
       "      <td>nein</td>\n",
       "    </tr>\n",
       "    <tr>\n",
       "      <th>4</th>\n",
       "      <td>3600</td>\n",
       "      <td>2008</td>\n",
       "      <td>manuell</td>\n",
       "      <td>69</td>\n",
       "      <td>fabia</td>\n",
       "      <td>90000</td>\n",
       "      <td>diesel</td>\n",
       "      <td>kleinwagen</td>\n",
       "      <td>7</td>\n",
       "      <td>skoda</td>\n",
       "      <td>nein</td>\n",
       "    </tr>\n",
       "    <tr>\n",
       "      <th>5</th>\n",
       "      <td>650</td>\n",
       "      <td>1995</td>\n",
       "      <td>manuell</td>\n",
       "      <td>102</td>\n",
       "      <td>3er</td>\n",
       "      <td>150000</td>\n",
       "      <td>benzin</td>\n",
       "      <td>limousine</td>\n",
       "      <td>10</td>\n",
       "      <td>bmw</td>\n",
       "      <td>ja</td>\n",
       "    </tr>\n",
       "    <tr>\n",
       "      <th>6</th>\n",
       "      <td>2200</td>\n",
       "      <td>2004</td>\n",
       "      <td>manuell</td>\n",
       "      <td>109</td>\n",
       "      <td>2_reihe</td>\n",
       "      <td>150000</td>\n",
       "      <td>benzin</td>\n",
       "      <td>cabrio</td>\n",
       "      <td>8</td>\n",
       "      <td>peugeot</td>\n",
       "      <td>nein</td>\n",
       "    </tr>\n",
       "    <tr>\n",
       "      <th>10</th>\n",
       "      <td>2000</td>\n",
       "      <td>2004</td>\n",
       "      <td>manuell</td>\n",
       "      <td>105</td>\n",
       "      <td>3_reihe</td>\n",
       "      <td>150000</td>\n",
       "      <td>benzin</td>\n",
       "      <td>limousine</td>\n",
       "      <td>12</td>\n",
       "      <td>mazda</td>\n",
       "      <td>nein</td>\n",
       "    </tr>\n",
       "  </tbody>\n",
       "</table>\n",
       "</div>"
      ],
      "text/plain": [
       "    price  yearOfRegistration  gearbox  powerPS    model  kilometer fuelType  \\\n",
       "3    1500                2001  manuell       75     golf     150000   benzin   \n",
       "4    3600                2008  manuell       69    fabia      90000   diesel   \n",
       "5     650                1995  manuell      102      3er     150000   benzin   \n",
       "6    2200                2004  manuell      109  2_reihe     150000   benzin   \n",
       "10   2000                2004  manuell      105  3_reihe     150000   benzin   \n",
       "\n",
       "   vehicleType  monthOfRegistration       brand notRepairedDamage  \n",
       "3   kleinwagen                    6  volkswagen              nein  \n",
       "4   kleinwagen                    7       skoda              nein  \n",
       "5    limousine                   10         bmw                ja  \n",
       "6       cabrio                    8     peugeot              nein  \n",
       "10   limousine                   12       mazda              nein  "
      ]
     },
     "execution_count": 4,
     "metadata": {},
     "output_type": "execute_result"
    }
   ],
   "source": [
    "\n",
    "# only relevant columns\n",
    "rel_cols = no_outliers[['price'\n",
    "                        ,'yearOfRegistration'\n",
    "                        ,'gearbox'\n",
    "                        ,'powerPS'\n",
    "                        ,'model'\n",
    "                        ,'kilometer'\n",
    "                        ,'fuelType'\n",
    "                        ,'vehicleType'\n",
    "                        ,'monthOfRegistration'\n",
    "                        ,'brand'\n",
    "                        ,'notRepairedDamage']]\n",
    "rel_cols.head()"
   ]
  },
  {
   "cell_type": "markdown",
   "metadata": {},
   "source": [
    "## Encoding\n",
    "\n",
    "This part encodes the string fields to numerical values."
   ]
  },
  {
   "cell_type": "code",
   "execution_count": 5,
   "metadata": {
    "collapsed": false
   },
   "outputs": [
    {
     "name": "stderr",
     "output_type": "stream",
     "text": [
      "/opt/conda/lib/python3.5/site-packages/pandas/core/indexing.py:288: SettingWithCopyWarning: \n",
      "A value is trying to be set on a copy of a slice from a DataFrame.\n",
      "Try using .loc[row_indexer,col_indexer] = value instead\n",
      "\n",
      "See the caveats in the documentation: http://pandas.pydata.org/pandas-docs/stable/indexing.html#indexing-view-versus-copy\n",
      "  self.obj[key] = _infer_fill_value(value)\n",
      "/opt/conda/lib/python3.5/site-packages/pandas/core/indexing.py:465: SettingWithCopyWarning: \n",
      "A value is trying to be set on a copy of a slice from a DataFrame.\n",
      "Try using .loc[row_indexer,col_indexer] = value instead\n",
      "\n",
      "See the caveats in the documentation: http://pandas.pydata.org/pandas-docs/stable/indexing.html#indexing-view-versus-copy\n",
      "  self.obj[item] = s\n"
     ]
    },
    {
     "name": "stdout",
     "output_type": "stream",
     "text": [
      "    price  yearOfRegistration  powerPS  kilometer  monthOfRegistration  \\\n",
      "3    1500                2001       75     150000                    6   \n",
      "4    3600                2008       69      90000                    7   \n",
      "5     650                1995      102     150000                   10   \n",
      "6    2200                2004      109     150000                    8   \n",
      "10   2000                2004      105     150000                   12   \n",
      "\n",
      "    gearbox_feat  notRepairedDamage_feat  model_feat  brand_feat  \\\n",
      "3              1                       1         118          37   \n",
      "4              1                       1         103          31   \n",
      "5              1                       0          11           2   \n",
      "6              1                       1           8          25   \n",
      "10             1                       1          10          19   \n",
      "\n",
      "    fuelType_feat  vehicleType_feat  \n",
      "3               1                 4  \n",
      "4               3                 4  \n",
      "5               1                 6  \n",
      "6               1                 2  \n",
      "10              1                 6  \n",
      "X (243888, 10)\n",
      "Y (243888,)\n"
     ]
    }
   ],
   "source": [
    "labels = ['gearbox', 'notRepairedDamage', 'model', 'brand', 'fuelType', 'vehicleType']\n",
    "les = {}\n",
    "\n",
    "for l in labels:\n",
    "    les[l] = preprocessing.LabelEncoder()\n",
    "    les[l].fit(rel_cols[l])\n",
    "    tr = les[l].transform(rel_cols[l]) \n",
    "    rel_cols.loc[:, l + '_feat'] = pd.Series(tr, index=rel_cols.index)\n",
    "\n",
    "df_autos = rel_cols[ ['price'\n",
    "                        ,'yearOfRegistration'\n",
    "                        ,'powerPS'\n",
    "                        ,'kilometer'\n",
    "                        ,'monthOfRegistration'] \n",
    "                    + [x+\"_feat\" for x in labels]]\n",
    "print(df_autos.head())\n",
    "autos = df_autos.values.astype(float)\n",
    "\n",
    "Y = autos[:,0]\n",
    "X = autos[:,1:]\n",
    "\n",
    "print(\"X\", X.shape)\n",
    "print(\"Y\", Y.shape)\n"
   ]
  },
  {
   "cell_type": "markdown",
   "metadata": {},
   "source": [
    "## Correction\n",
    "\n",
    "Transforming the right-skewed sale price column.\n",
    "\n",
    "**TODO**: leave test w/ and w/o correction"
   ]
  },
  {
   "cell_type": "code",
   "execution_count": 6,
   "metadata": {
    "collapsed": false
   },
   "outputs": [
    {
     "data": {
      "image/png": "[encoded data removed]",
      "text/plain": [
       "<matplotlib.figure.Figure at 0x7fac1fe67780>"
      ]
     },
     "metadata": {},
     "output_type": "display_data"
    }
   ],
   "source": [
    "matplotlib.rcParams['figure.figsize'] = (12.0, 6.0)\n",
    "prices = pd.DataFrame({\"1. Before\":Y, \"2. After\":np.log1p(Y)})\n",
    "prices.hist()\n",
    "\n",
    "Y = np.log1p(Y)"
   ]
  },
  {
   "cell_type": "markdown",
   "metadata": {},
   "source": [
    "# Trying out models\n",
    "\n",
    "Trying with some model from scikit learn: LinearRegression, LR with L2 regularization and a Neural network."
   ]
  },
  {
   "cell_type": "code",
   "execution_count": 7,
   "metadata": {
    "collapsed": true
   },
   "outputs": [],
   "source": [
    "from sklearn.linear_model import Ridge, RidgeCV, ElasticNet, Lasso, LassoCV, LassoLarsCV\n",
    "from sklearn.model_selection import cross_val_score, train_test_split\n",
    "\n",
    "\n",
    "def cv_rmse(model, x, y):\n",
    "    r = np.sqrt(-cross_val_score(model, x, y, scoring=\"neg_mean_squared_error\", cv = 5))\n",
    "    return r\n",
    "\n"
   ]
  },
  {
   "cell_type": "markdown",
   "metadata": {},
   "source": [
    "## Linear Regression"
   ]
  },
  {
   "cell_type": "code",
   "execution_count": 8,
   "metadata": {
    "collapsed": false
   },
   "outputs": [
    {
     "name": "stdout",
     "output_type": "stream",
     "text": [
      "(195110, 10) (48778, 10) (195110,) (48778,)\n",
      "Variance score: 0.68\n",
      "rmse on validation set 0.639555427197\n"
     ]
    }
   ],
   "source": [
    "linear = linear_model.LinearRegression()\n",
    "\n",
    "# Percent of the X array to use as training set. This implies that the rest will be test set\n",
    "test_size = .2\n",
    "\n",
    "#Split into train and validation\n",
    "X_train, X_test, y_train, y_test = train_test_split(X, Y, test_size=test_size, random_state = 3)\n",
    "print(X_train.shape, X_test.shape, y_train.shape, y_test.shape)\n",
    "linear.fit(X_train, y_train)\n",
    "\n",
    "# Explained variance score: 1 is perfect prediction\n",
    "score = linear.score(X_test, y_test)\n",
    "print('Variance score: %.2f' % score)\n",
    "\n",
    "print(\"rmse on validation set\", cv_rmse(linear, X_test, y_test).mean())\n"
   ]
  },
  {
   "cell_type": "markdown",
   "metadata": {},
   "source": [
    "## Predicting samples"
   ]
  },
  {
   "cell_type": "code",
   "execution_count": 9,
   "metadata": {
    "collapsed": false
   },
   "outputs": [
    {
     "name": "stdout",
     "output_type": "stream",
     "text": [
      "[ 24547.88933013]\n",
      "[ 28021.04561071]\n",
      "[ 10082.71193557]\n",
      "[ 23878.09002551]\n"
     ]
    }
   ],
   "source": [
    "\n",
    "def calc_values(model, year, brand, car_model, vehicle, gearbox, fuel, powerPS, km, not_repaired_damage):\n",
    "    sample = [year\n",
    "          , powerPS\n",
    "          , km\n",
    "          , 1 # month\n",
    "          , les['gearbox'].transform([gearbox])\n",
    "          , les['notRepairedDamage'].transform([not_repaired_damage])\n",
    "          , les['model'].transform([car_model])\n",
    "          , les['brand'].transform([brand])\n",
    "          , les['fuelType'].transform([fuel])\n",
    "          , les['vehicleType'].transform([vehicle])]\n",
    "    s_predict = np.expm1(model.predict([sample]))\n",
    "    return s_predict\n",
    "\n",
    "# [nan 'coupe' 'suv' 'kleinwagen' 'limousine' 'cabrio' 'bus' 'kombi' 'andere']\n",
    "vw1 = calc_values(linear, 2016, 'volkswagen', 'touran', 'bus', 'manuell', 'diesel', 105, 10000, 'nein')\n",
    "bmw  = calc_values(linear, 2016, 'bmw', '3er', 'limousine', 'manuell', 'diesel', 150, 10000, 'nein')\n",
    "fiat  = calc_values(linear, 2016, 'fiat', 'punto', 'kleinwagen', 'manuell', 'benzin', 60, 10000, 'nein')\n",
    "vw2 = calc_values(linear, 2016, 'volkswagen', 'tiguan', 'suv', 'manuell', 'diesel', 130, 10000, 'nein')\n",
    "\n",
    "print(vw1)\n",
    "print(bmw)\n",
    "print(fiat)\n",
    "print(vw2)"
   ]
  },
  {
   "cell_type": "markdown",
   "metadata": {},
   "source": [
    "## L1 regularized LR\n"
   ]
  },
  {
   "cell_type": "code",
   "execution_count": 10,
   "metadata": {
    "collapsed": false
   },
   "outputs": [
    {
     "name": "stdout",
     "output_type": "stream",
     "text": [
      "Variance score: 0.61\n",
      "kilometer                -0.000009\n",
      "monthOfRegistration       0.000000\n",
      "gearbox_feat             -0.000000\n",
      "notRepairedDamage_feat    0.000000\n",
      "brand_feat                0.000000\n",
      "fuelType_feat             0.000000\n",
      "vehicleType_feat         -0.000000\n",
      "model_feat                0.000232\n",
      "powerPS                   0.009325\n",
      "yearOfRegistration        0.049206\n",
      "dtype: float64\n",
      "0.707839916347\n",
      "rmse on validation set 0.708803418524\n"
     ]
    },
    {
     "data": {
      "image/png": "[encoded data removed]",
      "text/plain": [
       "<matplotlib.figure.Figure at 0x7fac19e98dd8>"
      ]
     },
     "metadata": {},
     "output_type": "display_data"
    }
   ],
   "source": [
    "\n",
    "alphas = [0.005,0.05, 0.1, 0.3, 0.5, 0.7, 1, 2, 3, 5, 10, 20, 25, 30, 50]\n",
    "cv_lasso = [cv_rmse(Lasso(alpha = alpha), X_train, y_train).mean() for alpha in alphas]\n",
    "\n",
    "cv_lasso = pd.Series(cv_lasso, index = alphas)\n",
    "cv_lasso.plot(title = \"Validation\", figsize=(5,5))\n",
    "plt.xlabel(\"alpha\")\n",
    "plt.ylabel(\"rmse\")\n",
    "\n",
    "model_lasso = Lasso(alpha = cv_lasso.min()).fit(X_train, y_train)\n",
    "\n",
    "# Explained variance score: 1 is perfect prediction\n",
    "print('Variance score: %.2f' % model_lasso.score(X_test, y_test))\n",
    "\n",
    "coef = pd.Series(model_lasso.coef_, index = df_autos.iloc[:,1:].columns)\n",
    "\n",
    "imp_coef = pd.concat([coef.sort_values()])\n",
    "\n",
    "print(imp_coef)\n",
    "\n",
    "print(np.sqrt(np.mean((y_test - model_lasso.predict(X_test))**2)))\n",
    "print(\"rmse on validation set\", cv_rmse(model_lasso, X_test, y_test).mean())\n"
   ]
  },
  {
   "cell_type": "code",
   "execution_count": 11,
   "metadata": {
    "collapsed": false
   },
   "outputs": [
    {
     "name": "stdout",
     "output_type": "stream",
     "text": [
      "[ 16610.43495931]\n",
      "[ 24063.59282806]\n",
      "[ 10804.11801494]\n",
      "[ 20957.00514208]\n"
     ]
    }
   ],
   "source": [
    "vw1 = calc_values(model_lasso, 2016, 'volkswagen', 'touran', 'bus', 'manuell', 'diesel', 105, 10000, 'nein')\n",
    "bmw  = calc_values(model_lasso, 2016, 'bmw', '3er', 'limousine', 'manuell', 'diesel', 150, 10000, 'nein')\n",
    "fiat  = calc_values(model_lasso, 2016, 'fiat', 'punto', 'kleinwagen', 'manuell', 'benzin', 60, 10000, 'nein')\n",
    "vw2 = calc_values(model_lasso, 2016, 'volkswagen', 'tiguan', 'suv', 'manuell', 'diesel', 130, 10000, 'nein')\n",
    "\n",
    "print(vw1)\n",
    "print(bmw)\n",
    "print(fiat)\n",
    "print(vw2)"
   ]
  },
  {
   "cell_type": "markdown",
   "metadata": {},
   "source": [
    "## L2 regularized LR"
   ]
  },
  {
   "cell_type": "code",
   "execution_count": 12,
   "metadata": {
    "collapsed": false
   },
   "outputs": [
    {
     "name": "stdout",
     "output_type": "stream",
     "text": [
      "Variance score: 0.68\n",
      "gearbox_feat             -0.062801\n",
      "vehicleType_feat         -0.040712\n",
      "model_feat               -0.000271\n",
      "kilometer                -0.000009\n",
      "brand_feat                0.003133\n",
      "monthOfRegistration       0.005054\n",
      "powerPS                   0.008632\n",
      "yearOfRegistration        0.056789\n",
      "fuelType_feat             0.151817\n",
      "notRepairedDamage_feat    0.751482\n",
      "dtype: float64\n",
      "0.639334838313\n",
      "rmse on validation set 0.639555431574\n"
     ]
    },
    {
     "data": {
      "image/png": "[encoded data removed]",
      "text/plain": [
       "<matplotlib.figure.Figure at 0x7fac1faa5710>"
      ]
     },
     "metadata": {},
     "output_type": "display_data"
    }
   ],
   "source": [
    "\n",
    "alphas = [-10, -5, -2, -1, 0, 0.005,0.05, 0.1, 0.3, 1, 3, 5, 10, 20, 25, 30, 50]\n",
    "cv_ridge = [cv_rmse(Ridge(alpha = alpha), X_train, y_train).mean() for alpha in alphas]\n",
    "\n",
    "cv_ridge = pd.Series(cv_ridge, index = alphas)\n",
    "cv_ridge.plot(title = \"Validation\", figsize=(5,5))\n",
    "plt.xlabel(\"alpha\")\n",
    "plt.ylabel(\"rmse\")\n",
    "\n",
    "model_ridge = Ridge(alpha = cv_ridge.min()).fit(X_train, y_train)\n",
    "\n",
    "# Explained variance score: 1 is perfect prediction\n",
    "print('Variance score: %.2f' % model_ridge.score(X_test, y_test))\n",
    "\n",
    "coef = pd.Series(model_ridge.coef_, index = df_autos.iloc[:,1:].columns)\n",
    "\n",
    "imp_coef = pd.concat([coef.sort_values()])\n",
    "\n",
    "print(imp_coef)\n",
    "\n",
    "print(np.sqrt(np.mean((y_test - model_ridge.predict(X_test))**2)))\n",
    "print(\"rmse on validation set\", cv_rmse(model_ridge, X_test, y_test).mean())\n"
   ]
  },
  {
   "cell_type": "code",
   "execution_count": 13,
   "metadata": {
    "collapsed": false
   },
   "outputs": [
    {
     "name": "stdout",
     "output_type": "stream",
     "text": [
      "[ 24547.87387523]\n",
      "[ 28021.04106493]\n",
      "[ 10082.7060047]\n",
      "[ 23878.09077935]\n"
     ]
    }
   ],
   "source": [
    "vw1 = calc_values(model_ridge, 2016, 'volkswagen', 'touran', 'bus', 'manuell', 'diesel', 105, 10000, 'nein')\n",
    "bmw  = calc_values(model_ridge, 2016, 'bmw', '3er', 'limousine', 'manuell', 'diesel', 150, 10000, 'nein')\n",
    "fiat  = calc_values(model_ridge, 2016, 'fiat', 'punto', 'kleinwagen', 'manuell', 'benzin', 60, 10000, 'nein')\n",
    "vw2 = calc_values(model_ridge, 2016, 'volkswagen', 'tiguan', 'suv', 'manuell', 'diesel', 130, 10000, 'nein')\n",
    "\n",
    "print(vw1)\n",
    "print(bmw)\n",
    "print(fiat)\n",
    "print(vw2)"
   ]
  },
  {
   "cell_type": "markdown",
   "metadata": {},
   "source": [
    "## Random forests"
   ]
  },
  {
   "cell_type": "code",
   "execution_count": 18,
   "metadata": {
    "collapsed": false
   },
   "outputs": [
    {
     "data": {
      "text/plain": [
       "RandomForestRegressor(bootstrap=True, criterion='mse', max_depth=None,\n",
       "           max_features='auto', max_leaf_nodes=None,\n",
       "           min_impurity_split=1e-07, min_samples_leaf=1,\n",
       "           min_samples_split=2, min_weight_fraction_leaf=0.0,\n",
       "           n_estimators=20, n_jobs=1, oob_score=False, random_state=None,\n",
       "           verbose=0, warm_start=False)"
      ]
     },
     "execution_count": 18,
     "metadata": {},
     "output_type": "execute_result"
    }
   ],
   "source": [
    "from sklearn.ensemble import RandomForestRegressor\n",
    "forest = RandomForestRegressor(n_estimators = 20)\n",
    "forest.fit(X_train, y_train)"
   ]
  },
  {
   "cell_type": "code",
   "execution_count": 19,
   "metadata": {
    "collapsed": false
   },
   "outputs": [
    {
     "name": "stdout",
     "output_type": "stream",
     "text": [
      "Variance score: 0.88\n",
      "0.398211807061\n",
      "rmse on validation set 0.434121905243\n"
     ]
    }
   ],
   "source": [
    "# Explained variance score: 1 is perfect prediction\n",
    "print('Variance score: %.2f' % forest.score(X_test, y_test))\n",
    "\n",
    "print(np.sqrt(np.mean((y_test - forest.predict(X_test))**2)))\n",
    "print(\"rmse on validation set\", cv_rmse(forest, X_test, y_test).mean())\n"
   ]
  },
  {
   "cell_type": "code",
   "execution_count": 20,
   "metadata": {
    "collapsed": false
   },
   "outputs": [
    {
     "name": "stdout",
     "output_type": "stream",
     "text": [
      "[ 26414.74484305]\n",
      "[ 20901.56403436]\n",
      "[ 9748.64599123]\n",
      "[ 26507.52268106]\n"
     ]
    }
   ],
   "source": [
    "vw1 = calc_values(forest, 2016, 'volkswagen', 'touran', 'bus', 'manuell', 'diesel', 105, 10000, 'nein')\n",
    "bmw  = calc_values(forest, 2016, 'bmw', '3er', 'limousine', 'manuell', 'diesel', 150, 10000, 'nein')\n",
    "fiat  = calc_values(forest, 2016, 'fiat', 'punto', 'kleinwagen', 'manuell', 'benzin', 60, 10000, 'nein')\n",
    "vw2 = calc_values(forest, 2016, 'volkswagen', 'tiguan', 'suv', 'manuell', 'diesel', 130, 10000, 'nein')\n",
    "\n",
    "print(vw1)\n",
    "print(bmw)\n",
    "print(fiat)\n",
    "print(vw2)"
   ]
  },
  {
   "cell_type": "code",
   "execution_count": 21,
   "metadata": {
    "collapsed": false
   },
   "outputs": [
    {
     "data": {
      "text/plain": [
       "<matplotlib.legend.Legend at 0x7fac0c25e518>"
      ]
     },
     "execution_count": 21,
     "metadata": {},
     "output_type": "execute_result"
    },
    {
     "data": {
      "image/png": "[encoded data removed]",
      "text/plain": [
       "<matplotlib.figure.Figure at 0x7fac1f8db6a0>"
      ]
     },
     "metadata": {},
     "output_type": "display_data"
    }
   ],
   "source": [
    "r = range(1995, 2017)\n",
    "km_year = 10000\n",
    "\n",
    "values_forest = [calc_values(forest, y, 'volkswagen', 'touran', 'bus', 'manuell', 'diesel', 105, km_year * (2017-y), 'nein') for y in r]\n",
    "values_ridge = [calc_values(model_ridge, y, 'volkswagen', 'touran', 'bus', 'manuell', 'diesel', 105, km_year * (2017-y), 'nein') for y in r]\n",
    "values_lasso = [calc_values(model_lasso, y, 'volkswagen', 'touran', 'bus', 'manuell', 'diesel', 105, km_year * (2017-y), 'nein') for y in r]\n",
    "values_linear = [calc_values(linear, y, 'volkswagen', 'touran', 'bus', 'manuell', 'diesel', 105, km_year * (2017-y), 'nein') for y in r]\n",
    "\n",
    "plt.plot(r, values_forest, label='forest')\n",
    "plt.plot(r, values_ridge, label='ridge')\n",
    "plt.plot(r, values_lasso, label='lasso')\n",
    "plt.plot(r, values_linear, label='linear')\n",
    "plt.grid()\n",
    "plt.legend(bbox_to_anchor=(1.05, 1), loc=2, borderaxespad=0.)\n"
   ]
  }
 ],
 "metadata": {
  "anaconda-cloud": {},
  "kernelspec": {
   "display_name": "Python [conda root]",
   "language": "python",
   "name": "conda-root-py"
  },
  "language_info": {
   "codemirror_mode": {
    "name": "ipython",
    "version": 3
   },
   "file_extension": ".py",
   "mimetype": "text/x-python",
   "name": "python",
   "nbconvert_exporter": "python",
   "pygments_lexer": "ipython3",
   "version": "3.5.2"
  }
 },
 "nbformat": 4,
 "nbformat_minor": 2
}
