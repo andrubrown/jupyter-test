{
 "cells": [
  {
   "cell_type": "markdown",
   "metadata": {},
   "source": [
    "# Intro\n",
    "\n",
    "I'm trying to learn the very basics with this exercise. My goal is to train a linear regression model with a subset of columns from this interesting dataset in order to predict the value of a used car.\n",
    "\n",
    "Any help or advice is welcome!!!\n",
    "\n",
    "### Changelist\n",
    "\n",
    "* removed feature regularization for Linear regression\n",
    "* corrected Y values skewing\n",
    "* added L2 regularized LR model\n",
    "* added a neural net model\n",
    "* added chart to visualize prediction samples"
   ]
  },
  {
   "cell_type": "code",
   "execution_count": 74,
   "metadata": {
    "collapsed": false
   },
   "outputs": [],
   "source": [
    "import pandas as pd\n",
    "\n",
    "import matplotlib.pyplot as plt\n",
    "import numpy as np\n",
    "from sklearn import datasets, linear_model, preprocessing, svm\n",
    "from sklearn.preprocessing import StandardScaler, Normalizer\n",
    "import math\n",
    "import matplotlib"
   ]
  },
  {
   "cell_type": "markdown",
   "metadata": {},
   "source": [
    "# Preparing data\n",
    "\n",
    "## Reading from file\n",
    "\n",
    "Just reading the file and printing some lines."
   ]
  },
  {
   "cell_type": "code",
   "execution_count": 75,
   "metadata": {
    "collapsed": false
   },
   "outputs": [
    {
     "data": {
      "text/html": [
       "<div>\n",
       "<table border=\"1\" class=\"dataframe\">\n",
       "  <thead>\n",
       "    <tr style=\"text-align: right;\">\n",
       "      <th></th>\n",
       "      <th>dateCrawled</th>\n",
       "      <th>name</th>\n",
       "      <th>seller</th>\n",
       "      <th>offerType</th>\n",
       "      <th>price</th>\n",
       "      <th>abtest</th>\n",
       "      <th>vehicleType</th>\n",
       "      <th>yearOfRegistration</th>\n",
       "      <th>gearbox</th>\n",
       "      <th>powerPS</th>\n",
       "      <th>model</th>\n",
       "      <th>kilometer</th>\n",
       "      <th>monthOfRegistration</th>\n",
       "      <th>fuelType</th>\n",
       "      <th>brand</th>\n",
       "      <th>notRepairedDamage</th>\n",
       "      <th>dateCreated</th>\n",
       "      <th>nrOfPictures</th>\n",
       "      <th>postalCode</th>\n",
       "      <th>lastSeen</th>\n",
       "    </tr>\n",
       "  </thead>\n",
       "  <tbody>\n",
       "    <tr>\n",
       "      <th>0</th>\n",
       "      <td>2016-03-24 11:52:17</td>\n",
       "      <td>Golf_3_1.6</td>\n",
       "      <td>privat</td>\n",
       "      <td>Angebot</td>\n",
       "      <td>480</td>\n",
       "      <td>test</td>\n",
       "      <td>NaN</td>\n",
       "      <td>1993</td>\n",
       "      <td>manuell</td>\n",
       "      <td>0</td>\n",
       "      <td>golf</td>\n",
       "      <td>150000</td>\n",
       "      <td>0</td>\n",
       "      <td>benzin</td>\n",
       "      <td>volkswagen</td>\n",
       "      <td>NaN</td>\n",
       "      <td>2016-03-24 00:00:00</td>\n",
       "      <td>0</td>\n",
       "      <td>70435</td>\n",
       "      <td>2016-04-07 03:16:57</td>\n",
       "    </tr>\n",
       "    <tr>\n",
       "      <th>1</th>\n",
       "      <td>2016-03-24 10:58:45</td>\n",
       "      <td>A5_Sportback_2.7_Tdi</td>\n",
       "      <td>privat</td>\n",
       "      <td>Angebot</td>\n",
       "      <td>18300</td>\n",
       "      <td>test</td>\n",
       "      <td>coupe</td>\n",
       "      <td>2011</td>\n",
       "      <td>manuell</td>\n",
       "      <td>190</td>\n",
       "      <td>NaN</td>\n",
       "      <td>125000</td>\n",
       "      <td>5</td>\n",
       "      <td>diesel</td>\n",
       "      <td>audi</td>\n",
       "      <td>ja</td>\n",
       "      <td>2016-03-24 00:00:00</td>\n",
       "      <td>0</td>\n",
       "      <td>66954</td>\n",
       "      <td>2016-04-07 01:46:50</td>\n",
       "    </tr>\n",
       "    <tr>\n",
       "      <th>2</th>\n",
       "      <td>2016-03-14 12:52:21</td>\n",
       "      <td>Jeep_Grand_Cherokee_\"Overland\"</td>\n",
       "      <td>privat</td>\n",
       "      <td>Angebot</td>\n",
       "      <td>9800</td>\n",
       "      <td>test</td>\n",
       "      <td>suv</td>\n",
       "      <td>2004</td>\n",
       "      <td>automatik</td>\n",
       "      <td>163</td>\n",
       "      <td>grand</td>\n",
       "      <td>125000</td>\n",
       "      <td>8</td>\n",
       "      <td>diesel</td>\n",
       "      <td>jeep</td>\n",
       "      <td>NaN</td>\n",
       "      <td>2016-03-14 00:00:00</td>\n",
       "      <td>0</td>\n",
       "      <td>90480</td>\n",
       "      <td>2016-04-05 12:47:46</td>\n",
       "    </tr>\n",
       "    <tr>\n",
       "      <th>3</th>\n",
       "      <td>2016-03-17 16:54:04</td>\n",
       "      <td>GOLF_4_1_4__3TÜRER</td>\n",
       "      <td>privat</td>\n",
       "      <td>Angebot</td>\n",
       "      <td>1500</td>\n",
       "      <td>test</td>\n",
       "      <td>kleinwagen</td>\n",
       "      <td>2001</td>\n",
       "      <td>manuell</td>\n",
       "      <td>75</td>\n",
       "      <td>golf</td>\n",
       "      <td>150000</td>\n",
       "      <td>6</td>\n",
       "      <td>benzin</td>\n",
       "      <td>volkswagen</td>\n",
       "      <td>nein</td>\n",
       "      <td>2016-03-17 00:00:00</td>\n",
       "      <td>0</td>\n",
       "      <td>91074</td>\n",
       "      <td>2016-03-17 17:40:17</td>\n",
       "    </tr>\n",
       "    <tr>\n",
       "      <th>4</th>\n",
       "      <td>2016-03-31 17:25:20</td>\n",
       "      <td>Skoda_Fabia_1.4_TDI_PD_Classic</td>\n",
       "      <td>privat</td>\n",
       "      <td>Angebot</td>\n",
       "      <td>3600</td>\n",
       "      <td>test</td>\n",
       "      <td>kleinwagen</td>\n",
       "      <td>2008</td>\n",
       "      <td>manuell</td>\n",
       "      <td>69</td>\n",
       "      <td>fabia</td>\n",
       "      <td>90000</td>\n",
       "      <td>7</td>\n",
       "      <td>diesel</td>\n",
       "      <td>skoda</td>\n",
       "      <td>nein</td>\n",
       "      <td>2016-03-31 00:00:00</td>\n",
       "      <td>0</td>\n",
       "      <td>60437</td>\n",
       "      <td>2016-04-06 10:17:21</td>\n",
       "    </tr>\n",
       "  </tbody>\n",
       "</table>\n",
       "</div>"
      ],
      "text/plain": [
       "           dateCrawled                            name  seller offerType  \\\n",
       "0  2016-03-24 11:52:17                      Golf_3_1.6  privat   Angebot   \n",
       "1  2016-03-24 10:58:45            A5_Sportback_2.7_Tdi  privat   Angebot   \n",
       "2  2016-03-14 12:52:21  Jeep_Grand_Cherokee_\"Overland\"  privat   Angebot   \n",
       "3  2016-03-17 16:54:04              GOLF_4_1_4__3TÜRER  privat   Angebot   \n",
       "4  2016-03-31 17:25:20  Skoda_Fabia_1.4_TDI_PD_Classic  privat   Angebot   \n",
       "\n",
       "   price abtest vehicleType  yearOfRegistration    gearbox  powerPS  model  \\\n",
       "0    480   test         NaN                1993    manuell        0   golf   \n",
       "1  18300   test       coupe                2011    manuell      190    NaN   \n",
       "2   9800   test         suv                2004  automatik      163  grand   \n",
       "3   1500   test  kleinwagen                2001    manuell       75   golf   \n",
       "4   3600   test  kleinwagen                2008    manuell       69  fabia   \n",
       "\n",
       "   kilometer  monthOfRegistration fuelType       brand notRepairedDamage  \\\n",
       "0     150000                    0   benzin  volkswagen               NaN   \n",
       "1     125000                    5   diesel        audi                ja   \n",
       "2     125000                    8   diesel        jeep               NaN   \n",
       "3     150000                    6   benzin  volkswagen              nein   \n",
       "4      90000                    7   diesel       skoda              nein   \n",
       "\n",
       "           dateCreated  nrOfPictures  postalCode             lastSeen  \n",
       "0  2016-03-24 00:00:00             0       70435  2016-04-07 03:16:57  \n",
       "1  2016-03-24 00:00:00             0       66954  2016-04-07 01:46:50  \n",
       "2  2016-03-14 00:00:00             0       90480  2016-04-05 12:47:46  \n",
       "3  2016-03-17 00:00:00             0       91074  2016-03-17 17:40:17  \n",
       "4  2016-03-31 00:00:00             0       60437  2016-04-06 10:17:21  "
      ]
     },
     "execution_count": 75,
     "metadata": {},
     "output_type": "execute_result"
    }
   ],
   "source": [
    "df = pd.read_csv('autos.csv.gz', sep=',', header=0, compression='gzip',encoding='cp1252')\n",
    "df.head()"
   ]
  },
  {
   "cell_type": "markdown",
   "metadata": {},
   "source": [
    "## Cleaning data from outliers and dirty values\n",
    "\n",
    "Cleaning data from duplicates, NaNs and selecting reasonable ranges for columns\n"
   ]
  },
  {
   "cell_type": "code",
   "execution_count": 76,
   "metadata": {
    "collapsed": false
   },
   "outputs": [
    {
     "name": "stderr",
     "output_type": "stream",
     "text": [
      "/opt/conda/lib/python3.5/site-packages/ipykernel/__main__.py:17: UserWarning: Boolean Series key will be reindexed to match DataFrame index.\n"
     ]
    }
   ],
   "source": [
    "# Cleaning data\n",
    "valid_models = df.dropna()\n",
    "\n",
    "#### Removing the duplicates\n",
    "dedups = valid_models.drop_duplicates(['name','seller','offerType','price','abtest','vehicleType','yearOfRegistration'\n",
    "                         ,'gearbox','powerPS','model','kilometer','monthOfRegistration','fuelType'\n",
    "                         ,'notRepairedDamage','postalCode'])\n",
    "\n",
    "#### Removing the outliers\n",
    "no_outliers = dedups[(df.yearOfRegistration <=  2016) \n",
    "      & (df.yearOfRegistration >= 1950) \n",
    "      & (df.price >= 200) \n",
    "      & (df.price <= 50000) \n",
    "      & (df.powerPS >= 30) \n",
    "      & (df.powerPS <= 500) \n",
    "      & (df.kilometer >= 1000) \n",
    "      & (df.kilometer <= 300000)]\n",
    "\n",
    "#rel_cols['price'].unique()\n",
    "#rel_cols['yearOfRegistration'].unique()\n",
    "#rel_cols['gearbox'].unique()\n",
    "#rel_cols['powerPS'].unique()\n",
    "#rel_cols['model'].unique()\n",
    "#rel_cols['kilometer'].unique()\n",
    "#rel_cols['monthOfRegistration'].unique()\n",
    "#rel_cols['brand'].unique()\n",
    "#rel_cols['notRepairedDamage'].unique()\n"
   ]
  },
  {
   "cell_type": "markdown",
   "metadata": {},
   "source": [
    "## Selecting only relevant columns\n",
    "\n",
    "Here I select the columns that I think are useful for determining a car's price.\n"
   ]
  },
  {
   "cell_type": "code",
   "execution_count": 77,
   "metadata": {
    "collapsed": false
   },
   "outputs": [
    {
     "data": {
      "text/html": [
       "<div>\n",
       "<table border=\"1\" class=\"dataframe\">\n",
       "  <thead>\n",
       "    <tr style=\"text-align: right;\">\n",
       "      <th></th>\n",
       "      <th>price</th>\n",
       "      <th>yearOfRegistration</th>\n",
       "      <th>gearbox</th>\n",
       "      <th>powerPS</th>\n",
       "      <th>model</th>\n",
       "      <th>kilometer</th>\n",
       "      <th>fuelType</th>\n",
       "      <th>vehicleType</th>\n",
       "      <th>monthOfRegistration</th>\n",
       "      <th>brand</th>\n",
       "      <th>notRepairedDamage</th>\n",
       "    </tr>\n",
       "  </thead>\n",
       "  <tbody>\n",
       "    <tr>\n",
       "      <th>3</th>\n",
       "      <td>1500</td>\n",
       "      <td>2001</td>\n",
       "      <td>manuell</td>\n",
       "      <td>75</td>\n",
       "      <td>golf</td>\n",
       "      <td>150000</td>\n",
       "      <td>benzin</td>\n",
       "      <td>kleinwagen</td>\n",
       "      <td>6</td>\n",
       "      <td>volkswagen</td>\n",
       "      <td>nein</td>\n",
       "    </tr>\n",
       "    <tr>\n",
       "      <th>4</th>\n",
       "      <td>3600</td>\n",
       "      <td>2008</td>\n",
       "      <td>manuell</td>\n",
       "      <td>69</td>\n",
       "      <td>fabia</td>\n",
       "      <td>90000</td>\n",
       "      <td>diesel</td>\n",
       "      <td>kleinwagen</td>\n",
       "      <td>7</td>\n",
       "      <td>skoda</td>\n",
       "      <td>nein</td>\n",
       "    </tr>\n",
       "    <tr>\n",
       "      <th>5</th>\n",
       "      <td>650</td>\n",
       "      <td>1995</td>\n",
       "      <td>manuell</td>\n",
       "      <td>102</td>\n",
       "      <td>3er</td>\n",
       "      <td>150000</td>\n",
       "      <td>benzin</td>\n",
       "      <td>limousine</td>\n",
       "      <td>10</td>\n",
       "      <td>bmw</td>\n",
       "      <td>ja</td>\n",
       "    </tr>\n",
       "    <tr>\n",
       "      <th>6</th>\n",
       "      <td>2200</td>\n",
       "      <td>2004</td>\n",
       "      <td>manuell</td>\n",
       "      <td>109</td>\n",
       "      <td>2_reihe</td>\n",
       "      <td>150000</td>\n",
       "      <td>benzin</td>\n",
       "      <td>cabrio</td>\n",
       "      <td>8</td>\n",
       "      <td>peugeot</td>\n",
       "      <td>nein</td>\n",
       "    </tr>\n",
       "    <tr>\n",
       "      <th>10</th>\n",
       "      <td>2000</td>\n",
       "      <td>2004</td>\n",
       "      <td>manuell</td>\n",
       "      <td>105</td>\n",
       "      <td>3_reihe</td>\n",
       "      <td>150000</td>\n",
       "      <td>benzin</td>\n",
       "      <td>limousine</td>\n",
       "      <td>12</td>\n",
       "      <td>mazda</td>\n",
       "      <td>nein</td>\n",
       "    </tr>\n",
       "  </tbody>\n",
       "</table>\n",
       "</div>"
      ],
      "text/plain": [
       "    price  yearOfRegistration  gearbox  powerPS    model  kilometer fuelType  \\\n",
       "3    1500                2001  manuell       75     golf     150000   benzin   \n",
       "4    3600                2008  manuell       69    fabia      90000   diesel   \n",
       "5     650                1995  manuell      102      3er     150000   benzin   \n",
       "6    2200                2004  manuell      109  2_reihe     150000   benzin   \n",
       "10   2000                2004  manuell      105  3_reihe     150000   benzin   \n",
       "\n",
       "   vehicleType  monthOfRegistration       brand notRepairedDamage  \n",
       "3   kleinwagen                    6  volkswagen              nein  \n",
       "4   kleinwagen                    7       skoda              nein  \n",
       "5    limousine                   10         bmw                ja  \n",
       "6       cabrio                    8     peugeot              nein  \n",
       "10   limousine                   12       mazda              nein  "
      ]
     },
     "execution_count": 77,
     "metadata": {},
     "output_type": "execute_result"
    }
   ],
   "source": [
    "\n",
    "# only relevant columns\n",
    "rel_cols = no_outliers[['price'\n",
    "                        ,'yearOfRegistration'\n",
    "                        ,'gearbox'\n",
    "                        ,'powerPS'\n",
    "                        ,'model'\n",
    "                        ,'kilometer'\n",
    "                        ,'fuelType'\n",
    "                        ,'vehicleType'\n",
    "                        ,'monthOfRegistration'\n",
    "                        ,'brand'\n",
    "                        ,'notRepairedDamage']]\n",
    "rel_cols.head()"
   ]
  },
  {
   "cell_type": "markdown",
   "metadata": {},
   "source": [
    "## Encoding\n",
    "\n",
    "This part encodes the string fields to numerical values."
   ]
  },
  {
   "cell_type": "code",
   "execution_count": 78,
   "metadata": {
    "collapsed": false
   },
   "outputs": [
    {
     "name": "stderr",
     "output_type": "stream",
     "text": [
      "/opt/conda/lib/python3.5/site-packages/pandas/core/indexing.py:288: SettingWithCopyWarning: \n",
      "A value is trying to be set on a copy of a slice from a DataFrame.\n",
      "Try using .loc[row_indexer,col_indexer] = value instead\n",
      "\n",
      "See the caveats in the documentation: http://pandas.pydata.org/pandas-docs/stable/indexing.html#indexing-view-versus-copy\n",
      "  self.obj[key] = _infer_fill_value(value)\n",
      "/opt/conda/lib/python3.5/site-packages/pandas/core/indexing.py:465: SettingWithCopyWarning: \n",
      "A value is trying to be set on a copy of a slice from a DataFrame.\n",
      "Try using .loc[row_indexer,col_indexer] = value instead\n",
      "\n",
      "See the caveats in the documentation: http://pandas.pydata.org/pandas-docs/stable/indexing.html#indexing-view-versus-copy\n",
      "  self.obj[item] = s\n"
     ]
    },
    {
     "name": "stdout",
     "output_type": "stream",
     "text": [
      "(241445,)\n",
      "(241445, 10)\n"
     ]
    }
   ],
   "source": [
    "le_gearbox = preprocessing.LabelEncoder()\n",
    "le_notRepairedDamage = preprocessing.LabelEncoder()\n",
    "le_model = preprocessing.LabelEncoder()\n",
    "le_brand = preprocessing.LabelEncoder()\n",
    "le_fuelType = preprocessing.LabelEncoder()\n",
    "le_vehicleType = preprocessing.LabelEncoder()\n",
    "\n",
    "le_gearbox.fit(rel_cols['gearbox'])\n",
    "tr = le_gearbox.transform(rel_cols['gearbox']) \n",
    "rel_cols.loc[:, 'gearbox_feat'] = pd.Series(tr, index=rel_cols.index)\n",
    "\n",
    "le_notRepairedDamage.fit(rel_cols['notRepairedDamage'])\n",
    "tr = le_notRepairedDamage.transform(rel_cols['notRepairedDamage']) \n",
    "rel_cols.loc[:, 'notRepairedDamage_feat'] = pd.Series(tr, index=rel_cols.index)\n",
    "\n",
    "le_model.fit(rel_cols['model'])\n",
    "tr = le_model.transform(rel_cols['model']) \n",
    "rel_cols.loc[:, 'model_feat'] = pd.Series(tr, index=rel_cols.index)\n",
    "\n",
    "le_brand.fit(rel_cols['brand'])\n",
    "tr = le_brand.transform(rel_cols['brand']) \n",
    "rel_cols.loc[:, 'brand_feat'] = pd.Series(tr, index=rel_cols.index)\n",
    "\n",
    "le_fuelType.fit(rel_cols['fuelType'])\n",
    "tr = le_fuelType.transform(rel_cols['fuelType']) \n",
    "rel_cols.loc[:, 'fuel_feat'] = pd.Series(tr, index=rel_cols.index)\n",
    "\n",
    "le_vehicleType.fit(rel_cols['vehicleType'])\n",
    "tr = le_vehicleType.transform(rel_cols['vehicleType']) \n",
    "rel_cols.loc[:, 'vehicle_feat'] = pd.Series(tr, index=rel_cols.index)\n",
    "\n",
    "df_autos = rel_cols[ ['price'\n",
    "                        ,'yearOfRegistration'\n",
    "                        ,'gearbox_feat'\n",
    "                        ,'powerPS'\n",
    "                        ,'model_feat'\n",
    "                        ,'fuel_feat'\n",
    "                        ,'vehicle_feat'\n",
    "                        ,'kilometer'\n",
    "                        ,'monthOfRegistration'\n",
    "                        ,'brand_feat'\n",
    "                        ,'notRepairedDamage_feat']]\n",
    "\n",
    "#autos_norm = normalizer.transform(autos)\n",
    "autos = df_autos.values.astype(float) #scaler.transform(autos)\n",
    "\n",
    "Y = autos[:,0]\n",
    "X = autos[:,1:]\n",
    "\n",
    "print(Y.shape)\n",
    "print(X.shape)\n"
   ]
  },
  {
   "cell_type": "markdown",
   "metadata": {},
   "source": [
    "## Correction\n",
    "\n",
    "Transforming the right-skewed sale price column.\n",
    "\n",
    "**TODO**: leave test w/ and w/o correction"
   ]
  },
  {
   "cell_type": "code",
   "execution_count": 79,
   "metadata": {
    "collapsed": false
   },
   "outputs": [
    {
     "data": {
      "image/png": "[encoded data removed]",
      "text/plain": [
       "<matplotlib.figure.Figure at 0x7f63bf2f9fd0>"
      ]
     },
     "metadata": {},
     "output_type": "display_data"
    }
   ],
   "source": [
    "matplotlib.rcParams['figure.figsize'] = (12.0, 6.0)\n",
    "prices = pd.DataFrame({\"price\":Y, \"log(price + 1)\":np.log1p(Y)})\n",
    "prices.hist()\n",
    "\n",
    "Y = np.log1p(Y)"
   ]
  },
  {
   "cell_type": "markdown",
   "metadata": {},
   "source": [
    "# Trying out models\n",
    "\n",
    "Trying with some model from scikit learn: LinearRegression, LR with L2 regularization and a Neural network."
   ]
  },
  {
   "cell_type": "code",
   "execution_count": 80,
   "metadata": {
    "collapsed": true
   },
   "outputs": [],
   "source": [
    "from sklearn.linear_model import Ridge, RidgeCV, ElasticNet, LassoCV, LassoLarsCV\n",
    "from sklearn.model_selection import cross_val_score\n",
    "\n",
    "\n",
    "def cv_rmse(model, x, y):\n",
    "    r = np.sqrt(-cross_val_score(model, x, y, scoring=\"neg_mean_squared_error\", cv = 5))\n",
    "    return r\n",
    "\n"
   ]
  },
  {
   "cell_type": "markdown",
   "metadata": {},
   "source": [
    "## Linear Regression"
   ]
  },
  {
   "cell_type": "code",
   "execution_count": 81,
   "metadata": {
    "collapsed": false
   },
   "outputs": [
    {
     "name": "stdout",
     "output_type": "stream",
     "text": [
      "Variance score: 0.68\n"
     ]
    },
    {
     "data": {
      "text/plain": [
       "0.60818953224820371"
      ]
     },
     "execution_count": 81,
     "metadata": {},
     "output_type": "execute_result"
    }
   ],
   "source": [
    "linear = linear_model.LinearRegression()\n",
    "\n",
    "# Percent of the X array to use as training set. This implies that the rest will be test set\n",
    "training_set_size = .9\n",
    "\n",
    "train_len = int(X.shape[0] * training_set_size)\n",
    "X_train = X[:train_len]\n",
    "Y_train = Y[:train_len]\n",
    "\n",
    "X_test = X[train_len+1:]\n",
    "Y_test = Y[train_len+1:]\n",
    "\n",
    "linear.fit(X_train,Y_train)\n",
    "\n",
    "# Explained variance score: 1 is perfect prediction\n",
    "print('Variance score: %.2f' % linear.score(X_test, Y_test))\n",
    "\n",
    "cv_rmse(linear, X_train, Y_train).mean()\n"
   ]
  },
  {
   "cell_type": "markdown",
   "metadata": {},
   "source": [
    "# L2 regularized LR"
   ]
  },
  {
   "cell_type": "code",
   "execution_count": 82,
   "metadata": {
    "collapsed": false
   },
   "outputs": [
    {
     "name": "stdout",
     "output_type": "stream",
     "text": [
      "Variance score: 0.68\n",
      "Picked 10 variables and removed 0 variables\n",
      "gearbox_feat             -0.069052\n",
      "vehicle_feat             -0.039007\n",
      "model_feat               -0.000202\n",
      "kilometer                -0.000008\n",
      "brand_feat                0.002911\n",
      "monthOfRegistration       0.004737\n",
      "powerPS                   0.008520\n",
      "yearOfRegistration        0.060676\n",
      "fuel_feat                 0.143854\n",
      "notRepairedDamage_feat    0.706191\n",
      "dtype: float64\n"
     ]
    },
    {
     "data": {
      "image/png": "[encoded data removed]",
      "text/plain": [
       "<matplotlib.figure.Figure at 0x7f643f338668>"
      ]
     },
     "metadata": {},
     "output_type": "display_data"
    }
   ],
   "source": [
    "\n",
    "alphas = [-10, -5, -2, -1, 0, 0.005,0.05, 0.1, 0.3, 1, 3, 5, 10, 20, 25, 30, 50]\n",
    "cv_ridge = [cv_rmse(Ridge(alpha = alpha), X_train, Y_train).mean() for alpha in alphas]\n",
    "\n",
    "cv_ridge = pd.Series(cv_ridge, index = alphas)\n",
    "cv_ridge.plot(title = \"Validation\")\n",
    "plt.xlabel(\"alpha\")\n",
    "plt.ylabel(\"rmse\")\n",
    "\n",
    "model_ridge = Ridge(alpha = cv_ridge.min()).fit(X_train, Y_train)\n",
    "\n",
    "# Explained variance score: 1 is perfect prediction\n",
    "print('Variance score: %.2f' % model_ridge.score(X_test, Y_test))\n",
    "\n",
    "coef = pd.Series(model_ridge.coef_, index = df_autos.iloc[:,1:].columns)\n",
    "\n",
    "print(\"Picked \" + str(sum(coef != 0)) + \" variables and removed \" +  str(sum(coef == 0)) + \" variables\")\n",
    "\n",
    "imp_coef = pd.concat([coef.sort_values()])\n",
    "\n",
    "print(imp_coef)"
   ]
  },
  {
   "cell_type": "markdown",
   "metadata": {},
   "source": [
    "## Testing with a neural net\n"
   ]
  },
  {
   "cell_type": "code",
   "execution_count": 83,
   "metadata": {
    "collapsed": false
   },
   "outputs": [
    {
     "name": "stdout",
     "output_type": "stream",
     "text": [
      "Training set:  (181083, 10)\n",
      "Validation set:  (60362, 10)\n"
     ]
    }
   ],
   "source": [
    "from keras.layers import Dense\n",
    "from keras.models import Sequential\n",
    "from keras.regularizers import l1\n",
    "from sklearn.preprocessing import StandardScaler\n",
    "from sklearn.model_selection import train_test_split\n",
    "\n",
    "# Splitting training and validation set\n",
    "X_tr, X_val, y_tr, y_val = train_test_split(X, Y, random_state = 3)\n",
    "print(\"Training set: \", X_tr.shape)\n",
    "print(\"Validation set: \", X_val.shape)\n",
    "\n",
    "# Scaling features\n",
    "scaler = StandardScaler().fit(X_tr)\n",
    "X_tr = scaler.transform(X_tr)\n",
    "X_val = StandardScaler().fit_transform(X_val)\n"
   ]
  },
  {
   "cell_type": "code",
   "execution_count": 84,
   "metadata": {
    "collapsed": false
   },
   "outputs": [
    {
     "name": "stdout",
     "output_type": "stream",
     "text": [
      "____________________________________________________________________________________________________\n",
      "Layer (type)                     Output Shape          Param #     Connected to                     \n",
      "====================================================================================================\n",
      "dense_7 (Dense)                  (None, 128)           1408        dense_input_3[0][0]              \n",
      "____________________________________________________________________________________________________\n",
      "dense_8 (Dense)                  (None, 16)            2064        dense_7[0][0]                    \n",
      "____________________________________________________________________________________________________\n",
      "dense_9 (Dense)                  (None, 1)             17          dense_8[0][0]                    \n",
      "====================================================================================================\n",
      "Total params: 3,489\n",
      "Trainable params: 3,489\n",
      "Non-trainable params: 0\n",
      "____________________________________________________________________________________________________\n",
      "Train on 181083 samples, validate on 60362 samples\n",
      "Epoch 1/10\n",
      "181083/181083 [==============================] - 6s - loss: 1.3871 - val_loss: 0.5531\n",
      "Epoch 2/10\n",
      "181083/181083 [==============================] - 6s - loss: 0.4946 - val_loss: 0.4500\n",
      "Epoch 3/10\n",
      "181083/181083 [==============================] - 6s - loss: 0.4304 - val_loss: 0.4153\n",
      "Epoch 4/10\n",
      "181083/181083 [==============================] - 6s - loss: 0.4155 - val_loss: 0.4117\n",
      "Epoch 5/10\n",
      "181083/181083 [==============================] - 7s - loss: 0.4057 - val_loss: 0.4109\n",
      "Epoch 6/10\n",
      "181083/181083 [==============================] - 7s - loss: 0.4003 - val_loss: 0.3971\n",
      "Epoch 7/10\n",
      "181083/181083 [==============================] - 6s - loss: 0.3961 - val_loss: 0.3932\n",
      "Epoch 8/10\n",
      "181083/181083 [==============================] - 7s - loss: 0.3921 - val_loss: 0.3929\n",
      "Epoch 9/10\n",
      "181083/181083 [==============================] - 6s - loss: 0.3893 - val_loss: 0.3897\n",
      "Epoch 10/10\n",
      "181083/181083 [==============================] - 6s - loss: 0.3877 - val_loss: 0.3908\n"
     ]
    }
   ],
   "source": [
    "# Preparing model\n",
    "model = Sequential()\n",
    "model.add(Dense(128, input_dim = X_tr.shape[1], W_regularizer=l1(0.001)))\n",
    "model.add(Dense(16,  W_regularizer=l1(0.001)))\n",
    "model.add(Dense(1,  W_regularizer=l1(0.001)))\n",
    "\n",
    "model.compile(loss = \"mse\", optimizer = \"adam\")\n",
    "\n",
    "model.summary()\n",
    "\n",
    "# Fitting...\n",
    "hist = model.fit(X_tr, y_tr, validation_data = (X_val, y_val), nb_epoch=10)"
   ]
  },
  {
   "cell_type": "code",
   "execution_count": 85,
   "metadata": {
    "collapsed": false
   },
   "outputs": [
    {
     "data": {
      "text/plain": [
       "<matplotlib.axes._subplots.AxesSubplot at 0x7f643f4d5a90>"
      ]
     },
     "execution_count": 85,
     "metadata": {},
     "output_type": "execute_result"
    },
    {
     "data": {
      "image/png": "[encoded data removed]",
      "text/plain": [
       "<matplotlib.figure.Figure at 0x7f643f410780>"
      ]
     },
     "metadata": {},
     "output_type": "display_data"
    }
   ],
   "source": [
    "# Printing predictions on the validation set\n",
    "pd.Series((model.predict(X_val)[:,0]) ).hist()\n",
    "#pd.Series(np.expm1(model.predict(X_val)[:,0]) ).hist()"
   ]
  },
  {
   "cell_type": "markdown",
   "metadata": {},
   "source": [
    "# Trying some prediction"
   ]
  },
  {
   "cell_type": "code",
   "execution_count": 86,
   "metadata": {
    "collapsed": false
   },
   "outputs": [
    {
     "name": "stdout",
     "output_type": "stream",
     "text": [
      "This 2016's volkswagen touran is supposed to cost € 18885 in the used market.\n"
     ]
    }
   ],
   "source": [
    "# Fields:\n",
    "#                        ,'yearOfRegistration'\n",
    "#                        ,'gearbox_feat'\n",
    "#                        ,'powerPS'\n",
    "#                        ,'model_feat'\n",
    "#                        ,'fuel_feat'\n",
    "#                        ,'vehicle_feat'\n",
    "#                        ,'kilometer'\n",
    "#                        ,'monthOfRegistration'\n",
    "#                        ,'brand_feat'\n",
    "#                        ,'notRepairedDamage_feat'\n",
    "\n",
    "year = 2016\n",
    "gearbox = 'manuell'\n",
    "powerPS = 115\n",
    "car_model = 'touran'\n",
    "fuel = 'benzin'\n",
    "vehicle = 'bus'\n",
    "km = 10000\n",
    "reg_month = 1\n",
    "brand = 'volkswagen'\n",
    "not_repaired_damage = 'nein'\n",
    "\n",
    "sample = [year\n",
    "          , le_gearbox.transform([gearbox])\n",
    "          , powerPS\n",
    "          , le_model.transform([car_model])\n",
    "          , le_fuelType.transform([fuel])\n",
    "          , le_vehicleType.transform([vehicle])\n",
    "          , km\n",
    "          , reg_month\n",
    "          , le_brand.transform([brand])\n",
    "          , le_notRepairedDamage.transform([not_repaired_damage])]\n",
    "\n",
    "# Scaling sample to feature's scale\n",
    "sample = scaler.transform([sample])\n",
    "s_predict = np.expm1(model.predict(sample))\n",
    "\n",
    "print(\"This %d's %s %s is supposed to cost € %d in the used market.\" % (year , brand, car_model, s_predict))\n"
   ]
  },
  {
   "cell_type": "markdown",
   "metadata": {},
   "source": [
    "## Plotting sample predictions on a chart\n",
    "\n",
    "I'd like to plot how the car values changes over the years"
   ]
  },
  {
   "cell_type": "code",
   "execution_count": 87,
   "metadata": {
    "collapsed": false
   },
   "outputs": [
    {
     "name": "stdout",
     "output_type": "stream",
     "text": [
      "1378 - 1568 - 927\n",
      "25124 - 28583 - 16909\n"
     ]
    },
    {
     "data": {
      "image/png": "[encoded data removed]",
      "text/plain": [
       "<matplotlib.figure.Figure at 0x7f643f2d1cf8>"
      ]
     },
     "metadata": {},
     "output_type": "display_data"
    }
   ],
   "source": [
    "years = np.array(range(1995, 2017, 1))\n",
    "\n",
    "def calc_values(brand, car_model, gearbox, fuel, powerPS):\n",
    "    s = np.array([])\n",
    "    for year in years:\n",
    "        sample = [year\n",
    "              , le_gearbox.transform([gearbox])\n",
    "              , powerPS\n",
    "              , le_model.transform([car_model])\n",
    "              , le_fuelType.transform([fuel])\n",
    "              , le_vehicleType.transform([vehicle])\n",
    "              , 10000*(2017-year)\n",
    "              , reg_month\n",
    "              , le_brand.transform([brand])\n",
    "              , le_notRepairedDamage.transform([not_repaired_damage])]\n",
    "        sample = scaler.transform([sample])\n",
    "        s_predict = np.expm1(model.predict(sample))\n",
    "        s = np.append(s, s_predict[0][0])\n",
    "    return s\n",
    "\n",
    "vw = calc_values('volkswagen', 'touran', 'manuell', 'diesel', 115)\n",
    "bmw  = calc_values('bmw', '3er', 'manuell', 'diesel', 150)\n",
    "fiat  = calc_values('fiat', 'punto', 'manuell', 'diesel', 80)\n",
    "\n",
    "print(\"%d - %d - %d\" % (vw[0], bmw[0], fiat[0]))\n",
    "print(\"%d - %d - %d\" % (vw[-1], bmw[-1], fiat[-1]))\n",
    "\n",
    "plt.plot(years, vw, 'r.', years ,bmw, 'g*', years, fiat, 'k^')\n",
    "plt.legend([\"vw\", \"bmw\", 'fiat'], loc = 'upper left')\n",
    "plt.grid(True)\n"
   ]
  }
 ],
 "metadata": {
  "anaconda-cloud": {},
  "kernelspec": {
   "display_name": "Python [conda root]",
   "language": "python",
   "name": "conda-root-py"
  },
  "language_info": {
   "codemirror_mode": {
    "name": "ipython",
    "version": 3
   },
   "file_extension": ".py",
   "mimetype": "text/x-python",
   "name": "python",
   "nbconvert_exporter": "python",
   "pygments_lexer": "ipython3",
   "version": "3.5.2"
  }
 },
 "nbformat": 4,
 "nbformat_minor": 2
}
