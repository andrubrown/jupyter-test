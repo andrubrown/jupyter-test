{
 "cells": [
  {
   "cell_type": "markdown",
   "metadata": {},
   "source": [
    "# Intro\n",
    "\n",
    "blah blaj"
   ]
  },
  {
   "cell_type": "code",
   "execution_count": 1,
   "metadata": {
    "collapsed": true
   },
   "outputs": [],
   "source": [
    "import pandas as pd\n",
    "\n",
    "import matplotlib.pyplot as plt\n",
    "import numpy as np\n",
    "from sklearn import datasets, linear_model, preprocessing\n",
    "import math\n",
    "from sklearn import svm\n"
   ]
  },
  {
   "cell_type": "markdown",
   "metadata": {},
   "source": [
    "## Reading file from gzip"
   ]
  },
  {
   "cell_type": "code",
   "execution_count": 2,
   "metadata": {
    "collapsed": false
   },
   "outputs": [],
   "source": [
    "df = pd.read_csv('autos.csv.gz', sep=',', header=0, compression='gzip',encoding='cp1252')"
   ]
  },
  {
   "cell_type": "markdown",
   "metadata": {},
   "source": [
    "## Cleaning data from outliers and dirty values"
   ]
  },
  {
   "cell_type": "code",
   "execution_count": 3,
   "metadata": {
    "collapsed": false
   },
   "outputs": [
    {
     "name": "stderr",
     "output_type": "stream",
     "text": [
      "/opt/conda/envs/python2/lib/python2.7/site-packages/ipykernel/__main__.py:17: UserWarning: Boolean Series key will be reindexed to match DataFrame index.\n"
     ]
    }
   ],
   "source": [
    "# Cleaning data\n",
    "valid_models = df.loc[df['model'] != 'NaN']\n",
    "\n",
    "#### Removing the duplicates\n",
    "dedups = valid_models.drop_duplicates(['name','seller','offerType','price','abtest','vehicleType','yearOfRegistration'\n",
    "                         ,'gearbox','powerPS','model','kilometer','monthOfRegistration','fuelType'\n",
    "                         ,'notRepairedDamage','postalCode'])\n",
    "\n",
    "#### Removing the outliers\n",
    "no_outliers = dedups[(df.yearOfRegistration <=  2016) \n",
    "      & (df.yearOfRegistration >= 1950) \n",
    "      & (df.price >= 500) \n",
    "      & (df.price <= 50000) \n",
    "      & (df.powerPS >= 30) \n",
    "      & (df.powerPS <= 500) \n",
    "      & (df.kilometer >= 1000) \n",
    "      & (df.kilometer <= 200000)]\n",
    "\n",
    "#rel_cols['price'].unique()\n",
    "#rel_cols['yearOfRegistration'].unique()\n",
    "#rel_cols['gearbox'].unique()\n",
    "#rel_cols['powerPS'].unique()\n",
    "#rel_cols['model'].unique()\n",
    "#rel_cols['kilometer'].unique()\n",
    "#rel_cols['monthOfRegistration'].unique()\n",
    "#rel_cols['brand'].unique()\n",
    "#rel_cols['notRepairedDamage'].unique()\n"
   ]
  },
  {
   "cell_type": "markdown",
   "metadata": {},
   "source": [
    "## Selecting only relevant columns"
   ]
  },
  {
   "cell_type": "code",
   "execution_count": 4,
   "metadata": {
    "collapsed": true
   },
   "outputs": [],
   "source": [
    "\n",
    "# only relevant columns\n",
    "rel_cols = no_outliers[['price'\n",
    "                        ,'yearOfRegistration'\n",
    "                        ,'gearbox'\n",
    "                        ,'powerPS'\n",
    "                        ,'model'\n",
    "                        ,'kilometer'\n",
    "                        ,'monthOfRegistration'\n",
    "                        ,'brand'\n",
    "                        ,'notRepairedDamage']]\n"
   ]
  },
  {
   "cell_type": "code",
   "execution_count": 5,
   "metadata": {
    "collapsed": false
   },
   "outputs": [
    {
     "name": "stderr",
     "output_type": "stream",
     "text": [
      "/opt/conda/envs/python2/lib/python2.7/site-packages/numpy/lib/arraysetops.py:200: FutureWarning: numpy not_equal will not check object identity in the future. The comparison did not return the same result as suggested by the identity (`is`)) and will change.\n",
      "  flag = np.concatenate(([True], aux[1:] != aux[:-1]))\n",
      "/opt/conda/envs/python2/lib/python2.7/site-packages/numpy/lib/arraysetops.py:259: FutureWarning: numpy equal will not check object identity in the future. The comparison did not return the same result as suggested by the identity (`is`)) and will change.\n",
      "  return aux[:-1][aux[1:] == aux[:-1]]\n",
      "/opt/conda/envs/python2/lib/python2.7/site-packages/pandas/core/indexing.py:297: SettingWithCopyWarning: \n",
      "A value is trying to be set on a copy of a slice from a DataFrame.\n",
      "Try using .loc[row_indexer,col_indexer] = value instead\n",
      "\n",
      "See the caveats in the documentation: http://pandas.pydata.org/pandas-docs/stable/indexing.html#indexing-view-versus-copy\n",
      "  self.obj[key] = _infer_fill_value(value)\n",
      "/opt/conda/envs/python2/lib/python2.7/site-packages/pandas/core/indexing.py:477: SettingWithCopyWarning: \n",
      "A value is trying to be set on a copy of a slice from a DataFrame.\n",
      "Try using .loc[row_indexer,col_indexer] = value instead\n",
      "\n",
      "See the caveats in the documentation: http://pandas.pydata.org/pandas-docs/stable/indexing.html#indexing-view-versus-copy\n",
      "  self.obj[item] = s\n"
     ]
    },
    {
     "name": "stdout",
     "output_type": "stream",
     "text": [
      "289893\n",
      "289893\n"
     ]
    }
   ],
   "source": [
    "\n",
    "le_gearbox = preprocessing.LabelEncoder()\n",
    "le_notRepairedDamage = preprocessing.LabelEncoder()\n",
    "le_model = preprocessing.LabelEncoder()\n",
    "le_brand = preprocessing.LabelEncoder()\n",
    "\n",
    "le_gearbox.fit(rel_cols['gearbox'])\n",
    "tr = le_gearbox.transform(rel_cols['gearbox']) \n",
    "rel_cols.loc[:, 'gearbox_feat'] = pd.Series(tr, index=rel_cols.index)\n",
    "\n",
    "le_notRepairedDamage.fit(rel_cols['notRepairedDamage'])\n",
    "tr = le_notRepairedDamage.transform(rel_cols['notRepairedDamage']) \n",
    "rel_cols.loc[:, 'notRepairedDamage_feat'] = pd.Series(tr, index=rel_cols.index)\n",
    "\n",
    "le_model.fit(rel_cols['model'])\n",
    "tr = le_model.transform(rel_cols['model']) \n",
    "rel_cols.loc[:, 'model_feat'] = pd.Series(tr, index=rel_cols.index)\n",
    "\n",
    "le_brand.fit(rel_cols['brand'])\n",
    "tr = le_brand.transform(rel_cols['brand']) \n",
    "rel_cols.loc[:, 'brand_feat'] = pd.Series(tr, index=rel_cols.index)\n",
    "\n",
    "autos = rel_cols[ ['price'\n",
    "                        ,'yearOfRegistration'\n",
    "                        ,'gearbox_feat'\n",
    "                        ,'powerPS'\n",
    "                        ,'model_feat'\n",
    "                        ,'kilometer'\n",
    "                        ,'monthOfRegistration'\n",
    "                        ,'brand_feat'\n",
    "                        ,'notRepairedDamage_feat']]\n",
    "\n",
    "Y = autos['price']\n",
    "X = autos.drop(['price'], axis=1)\n",
    "\n",
    "print(len(Y))\n",
    "print(len(X))"
   ]
  },
  {
   "cell_type": "markdown",
   "metadata": {},
   "source": [
    "## Linear Regression test without normalization"
   ]
  },
  {
   "cell_type": "code",
   "execution_count": 7,
   "metadata": {
    "collapsed": false
   },
   "outputs": [
    {
     "data": {
      "text/plain": [
       "LinearRegression(copy_X=True, fit_intercept=True, n_jobs=1, normalize=False)"
      ]
     },
     "execution_count": 7,
     "metadata": {},
     "output_type": "execute_result"
    }
   ],
   "source": [
    "linear = linear_model.LinearRegression()\n",
    "train_len = int(len(X)*.8)\n",
    "X_train = X[:train_len]\n",
    "Y_train = Y[:train_len]\n",
    "linear.fit(X_train,Y_train)"
   ]
  },
  {
   "cell_type": "code",
   "execution_count": 8,
   "metadata": {
    "collapsed": false
   },
   "outputs": [
    {
     "name": "stdout",
     "output_type": "stream",
     "text": [
      "0.60166638059\n"
     ]
    }
   ],
   "source": [
    "#print(X, Y)\n",
    "\n",
    "X_test = X[train_len+1:]\n",
    "Y_test = Y[train_len+1:]\n",
    "\n",
    "Y_predict = linear.predict(X_test)\n",
    "print(linear.score(X_test, Y_test) ) "
   ]
  },
  {
   "cell_type": "markdown",
   "metadata": {},
   "source": [
    "## SVR without normalization"
   ]
  },
  {
   "cell_type": "code",
   "execution_count": null,
   "metadata": {
    "collapsed": false
   },
   "outputs": [
    {
     "name": "stdout",
     "output_type": "stream",
     "text": [
      "[LibSVM]"
     ]
    }
   ],
   "source": [
    "svr_poly = svm.SVR(kernel='linear', C=1e2, degree=2, verbose=True)\n",
    "svr_poly.fit(X,Y)\n",
    "\n",
    "\n",
    "Y_predict = svr_poly.predict(X_test)\n",
    "print(svr_poly.score(X_test, Y_test) ) "
   ]
  }
 ],
 "metadata": {
  "kernelspec": {
   "display_name": "Python 2",
   "language": "python",
   "name": "python2"
  },
  "language_info": {
   "codemirror_mode": {
    "name": "ipython",
    "version": 2
   },
   "file_extension": ".py",
   "mimetype": "text/x-python",
   "name": "python",
   "nbconvert_exporter": "python",
   "pygments_lexer": "ipython2",
   "version": "2.7.12"
  }
 },
 "nbformat": 4,
 "nbformat_minor": 2
}
