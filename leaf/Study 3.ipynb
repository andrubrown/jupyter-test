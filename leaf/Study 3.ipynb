{
 "cells": [
  {
   "cell_type": "code",
   "execution_count": 1,
   "metadata": {
    "collapsed": false
   },
   "outputs": [
    {
     "name": "stderr",
     "output_type": "stream",
     "text": [
      "Using TensorFlow backend.\n",
      "/opt/conda/lib/python3.5/site-packages/sklearn/cross_validation.py:44: DeprecationWarning: This module was deprecated in version 0.18 in favor of the model_selection module into which all the refactored classes and functions are moved. Also note that the interface of the new CV iterators are different from that of this module. This module will be removed in 0.20.\n",
      "  \"This module will be removed in 0.20.\", DeprecationWarning)\n",
      "/opt/conda/lib/python3.5/site-packages/sklearn/grid_search.py:43: DeprecationWarning: This module was deprecated in version 0.18 in favor of the model_selection module into which all the refactored classes and functions are moved. This module will be removed in 0.20.\n",
      "  DeprecationWarning)\n"
     ]
    },
    {
     "name": "stdout",
     "output_type": "stream",
     "text": [
      "Train on 663 samples, validate on 327 samples\n",
      "Epoch 1/32\n",
      "663/663 [==============================] - 0s - loss: 3.8639 - acc: 0.2293 - val_loss: 2.9486 - val_acc: 0.4924\n",
      "Epoch 2/32\n",
      "663/663 [==============================] - 0s - loss: 2.2043 - acc: 0.5958 - val_loss: 1.9978 - val_acc: 0.6942\n",
      "Epoch 3/32\n",
      "663/663 [==============================] - 0s - loss: 1.4087 - acc: 0.8100 - val_loss: 1.3406 - val_acc: 0.8104\n",
      "Epoch 4/32\n",
      "663/663 [==============================] - 0s - loss: 0.8852 - acc: 0.8974 - val_loss: 0.8356 - val_acc: 0.9327\n",
      "Epoch 5/32\n",
      "663/663 [==============================] - 0s - loss: 0.5468 - acc: 0.9457 - val_loss: 0.5327 - val_acc: 0.9664\n",
      "Epoch 6/32\n",
      "663/663 [==============================] - 0s - loss: 0.3233 - acc: 0.9789 - val_loss: 0.3647 - val_acc: 0.9602\n",
      "Epoch 7/32\n",
      "663/663 [==============================] - 0s - loss: 0.2182 - acc: 0.9804 - val_loss: 0.2442 - val_acc: 0.9817\n",
      "Epoch 8/32\n",
      "663/663 [==============================] - 0s - loss: 0.1373 - acc: 0.9879 - val_loss: 0.2098 - val_acc: 0.9786\n",
      "Epoch 9/32\n",
      "663/663 [==============================] - 0s - loss: 0.0899 - acc: 0.9940 - val_loss: 0.1497 - val_acc: 0.9847\n",
      "Epoch 10/32\n",
      "663/663 [==============================] - 0s - loss: 0.0563 - acc: 0.9985 - val_loss: 0.1231 - val_acc: 0.9878\n",
      "Epoch 11/32\n",
      "663/663 [==============================] - 0s - loss: 0.0417 - acc: 0.9970 - val_loss: 0.0882 - val_acc: 0.9878\n",
      "Epoch 12/32\n",
      "663/663 [==============================] - 0s - loss: 0.0252 - acc: 0.9985 - val_loss: 0.0811 - val_acc: 0.9939\n",
      "Epoch 13/32\n",
      "663/663 [==============================] - 0s - loss: 0.0206 - acc: 0.9985 - val_loss: 0.0769 - val_acc: 0.9847\n",
      "Epoch 14/32\n",
      "663/663 [==============================] - 0s - loss: 0.0118 - acc: 1.0000 - val_loss: 0.0706 - val_acc: 0.9817\n",
      "Epoch 15/32\n",
      "663/663 [==============================] - 0s - loss: 0.0128 - acc: 0.9985 - val_loss: 0.0530 - val_acc: 0.9908\n",
      "Epoch 16/32\n",
      "663/663 [==============================] - 0s - loss: 0.0051 - acc: 1.0000 - val_loss: 0.0433 - val_acc: 0.9878\n",
      "Epoch 17/32\n",
      "663/663 [==============================] - 0s - loss: 0.0037 - acc: 1.0000 - val_loss: 0.0508 - val_acc: 0.9847\n",
      "Epoch 18/32\n",
      "663/663 [==============================] - 0s - loss: 0.0028 - acc: 1.0000 - val_loss: 0.0397 - val_acc: 0.9969\n",
      "Epoch 19/32\n",
      "663/663 [==============================] - 0s - loss: 0.0019 - acc: 1.0000 - val_loss: 0.0498 - val_acc: 0.9939\n",
      "Epoch 20/32\n",
      "663/663 [==============================] - 0s - loss: 0.0012 - acc: 1.0000 - val_loss: 0.0256 - val_acc: 0.9939\n",
      "Epoch 21/32\n",
      "663/663 [==============================] - 0s - loss: 8.2036e-04 - acc: 1.0000 - val_loss: 0.0322 - val_acc: 0.9908\n",
      "Epoch 22/32\n",
      "663/663 [==============================] - 0s - loss: 9.4241e-04 - acc: 1.0000 - val_loss: 0.0259 - val_acc: 0.9939\n",
      "Epoch 23/32\n",
      "663/663 [==============================] - 0s - loss: 5.8569e-04 - acc: 1.0000 - val_loss: 0.0299 - val_acc: 0.9908\n",
      "Epoch 24/32\n",
      "663/663 [==============================] - 0s - loss: 6.1753e-04 - acc: 1.0000 - val_loss: 0.0230 - val_acc: 0.9939\n",
      "Epoch 25/32\n",
      "663/663 [==============================] - 0s - loss: 2.4453e-04 - acc: 1.0000 - val_loss: 0.0295 - val_acc: 0.9908\n",
      "Epoch 26/32\n",
      "663/663 [==============================] - 0s - loss: 1.9109e-04 - acc: 1.0000 - val_loss: 0.0181 - val_acc: 0.9939\n",
      "Epoch 27/32\n",
      "663/663 [==============================] - 0s - loss: 1.1995e-04 - acc: 1.0000 - val_loss: 0.0159 - val_acc: 0.9939\n",
      "Epoch 28/32\n",
      "663/663 [==============================] - 0s - loss: 9.6458e-05 - acc: 1.0000 - val_loss: 0.0306 - val_acc: 0.9908\n",
      "Epoch 29/32\n",
      "663/663 [==============================] - 0s - loss: 7.0842e-05 - acc: 1.0000 - val_loss: 0.0354 - val_acc: 0.9908\n",
      "Epoch 30/32\n",
      "663/663 [==============================] - 0s - loss: 8.1418e-05 - acc: 1.0000 - val_loss: 0.0473 - val_acc: 0.9878\n",
      "Epoch 31/32\n",
      "663/663 [==============================] - 0s - loss: 5.0483e-05 - acc: 1.0000 - val_loss: 0.0201 - val_acc: 0.9908\n",
      "Epoch 32/32\n",
      "663/663 [==============================] - 0s - loss: 3.1091e-05 - acc: 1.0000 - val_loss: 0.0157 - val_acc: 0.9939\n",
      "594/594 [==============================] - 0s     \n"
     ]
    }
   ],
   "source": [
    "from keras.models import Sequential\n",
    "import pandas as pd\n",
    "import numpy as np\n",
    "from sklearn.linear_model import LogisticRegression\n",
    "from sklearn.grid_search import GridSearchCV\n",
    "from sklearn.preprocessing import LabelEncoder\n",
    "from sklearn.preprocessing import StandardScaler\n",
    "from keras.layers import Dense, Activation, Dropout\n",
    "\n",
    "np.random.seed(42)\n",
    "\n",
    "train = pd.read_csv('train.csv.zip', compression='zip')\n",
    "X_train = train.drop(['id', 'species'], axis=1).values\n",
    "le = LabelEncoder().fit(train['species'])\n",
    "Y_train = le.transform(train['species'])\n",
    "\n",
    "scaler = StandardScaler().fit(X_train)\n",
    "X_train = scaler.transform(X_train)\n",
    "\n",
    "model = Sequential()\n",
    "model.add(Dense(1024,input_dim=192, init='uniform', activation='tanh'))\n",
    "model.add(Dropout(0.2))\n",
    "model.add(Dense(512, activation='sigmoid'))\n",
    "model.add(Dropout(0.3))\n",
    "model.add(Dense(99, activation='softmax'))\n",
    "\n",
    "model.compile(loss='sparse_categorical_crossentropy', optimizer='rmsprop', metrics=['accuracy'])\n",
    "\n",
    "model.fit(X_train, Y_train, nb_epoch=32, batch_size=32, validation_split=0.33)\n",
    "\n",
    "test = pd.read_csv('test.csv.zip', compression='zip')\n",
    "test_ids = test.pop('id')\n",
    "X_test = test.values\n",
    "X_test = scaler.transform(X_test)\n",
    "\n",
    "Y_test = model.predict_proba(X_test)\n",
    "\n",
    "submission = pd.DataFrame(Y_test, index=test_ids, columns=le.classes_)\n",
    "submission.to_csv('submission_nn.csv')"
   ]
  },
  {
   "cell_type": "code",
   "execution_count": 2,
   "metadata": {
    "collapsed": true
   },
   "outputs": [],
   "source": [
    "# 663/663 [==============================] - 0s - loss: 3.1089e-05 - acc: 1.0000 - val_loss: 0.0157 - val_acc: 0.9939\n"
   ]
  },
  {
   "cell_type": "code",
   "execution_count": 6,
   "metadata": {
    "collapsed": false
   },
   "outputs": [
    {
     "name": "stdout",
     "output_type": "stream",
     "text": [
      "Epoch 1/50\n",
      "990/990 [==============================] - 1s - loss: 3.1298 - acc: 0.3717     \n",
      "Epoch 2/50\n",
      "990/990 [==============================] - 0s - loss: 0.9141 - acc: 0.8515     \n",
      "Epoch 3/50\n",
      "990/990 [==============================] - 0s - loss: 0.2934 - acc: 0.9626     \n",
      "Epoch 4/50\n",
      "990/990 [==============================] - 0s - loss: 0.1207 - acc: 0.9848     \n",
      "Epoch 5/50\n",
      "990/990 [==============================] - 0s - loss: 0.0545 - acc: 0.9939     \n",
      "Epoch 6/50\n",
      "990/990 [==============================] - 0s - loss: 0.0286 - acc: 0.9949     \n",
      "Epoch 7/50\n",
      "990/990 [==============================] - 0s - loss: 0.0181 - acc: 0.9949     \n",
      "Epoch 8/50\n",
      "990/990 [==============================] - 0s - loss: 0.0088 - acc: 0.9980     \n",
      "Epoch 9/50\n",
      "990/990 [==============================] - 0s - loss: 0.0078 - acc: 0.9970     \n",
      "Epoch 10/50\n",
      "990/990 [==============================] - 0s - loss: 0.0074 - acc: 0.9970     \n",
      "Epoch 11/50\n",
      "990/990 [==============================] - 0s - loss: 0.0017 - acc: 1.0000     \n",
      "Epoch 12/50\n",
      "990/990 [==============================] - 0s - loss: 0.0013 - acc: 1.0000     \n",
      "Epoch 13/50\n",
      "990/990 [==============================] - 0s - loss: 0.0104 - acc: 0.9980     \n",
      "Epoch 14/50\n",
      "990/990 [==============================] - 0s - loss: 4.1767e-04 - acc: 1.0000     \n",
      "Epoch 15/50\n",
      "990/990 [==============================] - 0s - loss: 2.5523e-04 - acc: 1.0000     \n",
      "Epoch 16/50\n",
      "990/990 [==============================] - 0s - loss: 9.1690e-05 - acc: 1.0000     \n",
      "Epoch 17/50\n",
      "990/990 [==============================] - 0s - loss: 2.5057e-04 - acc: 1.0000     \n",
      "Epoch 18/50\n",
      "990/990 [==============================] - 0s - loss: 4.5299e-05 - acc: 1.0000     \n",
      "Epoch 19/50\n",
      "990/990 [==============================] - 0s - loss: 5.9660e-05 - acc: 1.0000     \n",
      "Epoch 20/50\n",
      "990/990 [==============================] - 0s - loss: 2.2115e-04 - acc: 1.0000     \n",
      "Epoch 21/50\n",
      "990/990 [==============================] - 0s - loss: 1.7065e-05 - acc: 1.0000     \n",
      "Epoch 22/50\n",
      "990/990 [==============================] - 0s - loss: 1.2590e-04 - acc: 1.0000     \n",
      "Epoch 23/50\n",
      "990/990 [==============================] - 0s - loss: 4.5032e-05 - acc: 1.0000     \n",
      "Epoch 24/50\n",
      "990/990 [==============================] - 0s - loss: 1.2667e-05 - acc: 1.0000     \n",
      "Epoch 25/50\n",
      "180/990 [====>.........................] - ETA: 0s - loss: 1.0786e-05 - acc: 1.0000"
     ]
    },
    {
     "ename": "KeyboardInterrupt",
     "evalue": "",
     "output_type": "error",
     "traceback": [
      "\u001b[0;31m\u001b[0m",
      "\u001b[0;31mKeyboardInterrupt\u001b[0mTraceback (most recent call last)",
      "\u001b[0;32m<ipython-input-6-931cfc4c2719>\u001b[0m in \u001b[0;36m<module>\u001b[0;34m()\u001b[0m\n\u001b[1;32m     17\u001b[0m     \u001b[0mmodel\u001b[0m\u001b[0;34m.\u001b[0m\u001b[0mcompile\u001b[0m\u001b[0;34m(\u001b[0m\u001b[0mloss\u001b[0m\u001b[0;34m=\u001b[0m\u001b[0;34m'sparse_categorical_crossentropy'\u001b[0m\u001b[0;34m,\u001b[0m \u001b[0moptimizer\u001b[0m\u001b[0;34m=\u001b[0m\u001b[0;34m'rmsprop'\u001b[0m\u001b[0;34m,\u001b[0m \u001b[0mmetrics\u001b[0m\u001b[0;34m=\u001b[0m\u001b[0;34m[\u001b[0m\u001b[0;34m'accuracy'\u001b[0m\u001b[0;34m]\u001b[0m\u001b[0;34m)\u001b[0m\u001b[0;34m\u001b[0m\u001b[0m\n\u001b[1;32m     18\u001b[0m     \u001b[0;31m# Fit the model\u001b[0m\u001b[0;34m\u001b[0m\u001b[0;34m\u001b[0m\u001b[0m\n\u001b[0;32m---> 19\u001b[0;31m     \u001b[0mmodel\u001b[0m\u001b[0;34m.\u001b[0m\u001b[0mfit\u001b[0m\u001b[0;34m(\u001b[0m\u001b[0mX_train\u001b[0m\u001b[0;34m,\u001b[0m \u001b[0mY_train\u001b[0m\u001b[0;34m,\u001b[0m \u001b[0mnb_epoch\u001b[0m\u001b[0;34m=\u001b[0m\u001b[0;36m50\u001b[0m\u001b[0;34m,\u001b[0m \u001b[0mbatch_size\u001b[0m\u001b[0;34m=\u001b[0m\u001b[0;36m10\u001b[0m\u001b[0;34m,\u001b[0m \u001b[0mverbose\u001b[0m\u001b[0;34m=\u001b[0m\u001b[0;32mTrue\u001b[0m\u001b[0;34m)\u001b[0m\u001b[0;34m\u001b[0m\u001b[0m\n\u001b[0m\u001b[1;32m     20\u001b[0m     \u001b[0;31m# evaluate the model\u001b[0m\u001b[0;34m\u001b[0m\u001b[0;34m\u001b[0m\u001b[0m\n\u001b[1;32m     21\u001b[0m     \u001b[0;31m#scores = model.evaluate(X_test, Y_test, verbose=True)\u001b[0m\u001b[0;34m\u001b[0m\u001b[0;34m\u001b[0m\u001b[0m\n",
      "\u001b[0;32m/opt/conda/lib/python3.5/site-packages/Keras-1.2.1-py3.5.egg/keras/models.py\u001b[0m in \u001b[0;36mfit\u001b[0;34m(self, x, y, batch_size, nb_epoch, verbose, callbacks, validation_split, validation_data, shuffle, class_weight, sample_weight, initial_epoch, **kwargs)\u001b[0m\n\u001b[1;32m    670\u001b[0m                               \u001b[0mclass_weight\u001b[0m\u001b[0;34m=\u001b[0m\u001b[0mclass_weight\u001b[0m\u001b[0;34m,\u001b[0m\u001b[0;34m\u001b[0m\u001b[0m\n\u001b[1;32m    671\u001b[0m                               \u001b[0msample_weight\u001b[0m\u001b[0;34m=\u001b[0m\u001b[0msample_weight\u001b[0m\u001b[0;34m,\u001b[0m\u001b[0;34m\u001b[0m\u001b[0m\n\u001b[0;32m--> 672\u001b[0;31m                               initial_epoch=initial_epoch)\n\u001b[0m\u001b[1;32m    673\u001b[0m \u001b[0;34m\u001b[0m\u001b[0m\n\u001b[1;32m    674\u001b[0m     def evaluate(self, x, y, batch_size=32, verbose=1,\n",
      "\u001b[0;32m/opt/conda/lib/python3.5/site-packages/Keras-1.2.1-py3.5.egg/keras/engine/training.py\u001b[0m in \u001b[0;36mfit\u001b[0;34m(self, x, y, batch_size, nb_epoch, verbose, callbacks, validation_split, validation_data, shuffle, class_weight, sample_weight, initial_epoch)\u001b[0m\n\u001b[1;32m   1195\u001b[0m                               \u001b[0mval_f\u001b[0m\u001b[0;34m=\u001b[0m\u001b[0mval_f\u001b[0m\u001b[0;34m,\u001b[0m \u001b[0mval_ins\u001b[0m\u001b[0;34m=\u001b[0m\u001b[0mval_ins\u001b[0m\u001b[0;34m,\u001b[0m \u001b[0mshuffle\u001b[0m\u001b[0;34m=\u001b[0m\u001b[0mshuffle\u001b[0m\u001b[0;34m,\u001b[0m\u001b[0;34m\u001b[0m\u001b[0m\n\u001b[1;32m   1196\u001b[0m                               \u001b[0mcallback_metrics\u001b[0m\u001b[0;34m=\u001b[0m\u001b[0mcallback_metrics\u001b[0m\u001b[0;34m,\u001b[0m\u001b[0;34m\u001b[0m\u001b[0m\n\u001b[0;32m-> 1197\u001b[0;31m                               initial_epoch=initial_epoch)\n\u001b[0m\u001b[1;32m   1198\u001b[0m \u001b[0;34m\u001b[0m\u001b[0m\n\u001b[1;32m   1199\u001b[0m     \u001b[0;32mdef\u001b[0m \u001b[0mevaluate\u001b[0m\u001b[0;34m(\u001b[0m\u001b[0mself\u001b[0m\u001b[0;34m,\u001b[0m \u001b[0mx\u001b[0m\u001b[0;34m,\u001b[0m \u001b[0my\u001b[0m\u001b[0;34m,\u001b[0m \u001b[0mbatch_size\u001b[0m\u001b[0;34m=\u001b[0m\u001b[0;36m32\u001b[0m\u001b[0;34m,\u001b[0m \u001b[0mverbose\u001b[0m\u001b[0;34m=\u001b[0m\u001b[0;36m1\u001b[0m\u001b[0;34m,\u001b[0m \u001b[0msample_weight\u001b[0m\u001b[0;34m=\u001b[0m\u001b[0;32mNone\u001b[0m\u001b[0;34m)\u001b[0m\u001b[0;34m:\u001b[0m\u001b[0;34m\u001b[0m\u001b[0m\n",
      "\u001b[0;32m/opt/conda/lib/python3.5/site-packages/Keras-1.2.1-py3.5.egg/keras/engine/training.py\u001b[0m in \u001b[0;36m_fit_loop\u001b[0;34m(self, f, ins, out_labels, batch_size, nb_epoch, verbose, callbacks, val_f, val_ins, shuffle, callback_metrics, initial_epoch)\u001b[0m\n\u001b[1;32m    890\u001b[0m                 \u001b[0mbatch_logs\u001b[0m\u001b[0;34m[\u001b[0m\u001b[0;34m'size'\u001b[0m\u001b[0;34m]\u001b[0m \u001b[0;34m=\u001b[0m \u001b[0mlen\u001b[0m\u001b[0;34m(\u001b[0m\u001b[0mbatch_ids\u001b[0m\u001b[0;34m)\u001b[0m\u001b[0;34m\u001b[0m\u001b[0m\n\u001b[1;32m    891\u001b[0m                 \u001b[0mcallbacks\u001b[0m\u001b[0;34m.\u001b[0m\u001b[0mon_batch_begin\u001b[0m\u001b[0;34m(\u001b[0m\u001b[0mbatch_index\u001b[0m\u001b[0;34m,\u001b[0m \u001b[0mbatch_logs\u001b[0m\u001b[0;34m)\u001b[0m\u001b[0;34m\u001b[0m\u001b[0m\n\u001b[0;32m--> 892\u001b[0;31m                 \u001b[0mouts\u001b[0m \u001b[0;34m=\u001b[0m \u001b[0mf\u001b[0m\u001b[0;34m(\u001b[0m\u001b[0mins_batch\u001b[0m\u001b[0;34m)\u001b[0m\u001b[0;34m\u001b[0m\u001b[0m\n\u001b[0m\u001b[1;32m    893\u001b[0m                 \u001b[0;32mif\u001b[0m \u001b[0;32mnot\u001b[0m \u001b[0misinstance\u001b[0m\u001b[0;34m(\u001b[0m\u001b[0mouts\u001b[0m\u001b[0;34m,\u001b[0m \u001b[0mlist\u001b[0m\u001b[0;34m)\u001b[0m\u001b[0;34m:\u001b[0m\u001b[0;34m\u001b[0m\u001b[0m\n\u001b[1;32m    894\u001b[0m                     \u001b[0mouts\u001b[0m \u001b[0;34m=\u001b[0m \u001b[0;34m[\u001b[0m\u001b[0mouts\u001b[0m\u001b[0;34m]\u001b[0m\u001b[0;34m\u001b[0m\u001b[0m\n",
      "\u001b[0;32m/opt/conda/lib/python3.5/site-packages/Keras-1.2.1-py3.5.egg/keras/backend/tensorflow_backend.py\u001b[0m in \u001b[0;36m__call__\u001b[0;34m(self, inputs)\u001b[0m\n\u001b[1;32m   1920\u001b[0m         \u001b[0msession\u001b[0m \u001b[0;34m=\u001b[0m \u001b[0mget_session\u001b[0m\u001b[0;34m(\u001b[0m\u001b[0;34m)\u001b[0m\u001b[0;34m\u001b[0m\u001b[0m\n\u001b[1;32m   1921\u001b[0m         updated = session.run(self.outputs + [self.updates_op],\n\u001b[0;32m-> 1922\u001b[0;31m                               feed_dict=feed_dict)\n\u001b[0m\u001b[1;32m   1923\u001b[0m         \u001b[0;32mreturn\u001b[0m \u001b[0mupdated\u001b[0m\u001b[0;34m[\u001b[0m\u001b[0;34m:\u001b[0m\u001b[0mlen\u001b[0m\u001b[0;34m(\u001b[0m\u001b[0mself\u001b[0m\u001b[0;34m.\u001b[0m\u001b[0moutputs\u001b[0m\u001b[0;34m)\u001b[0m\u001b[0;34m]\u001b[0m\u001b[0;34m\u001b[0m\u001b[0m\n\u001b[1;32m   1924\u001b[0m \u001b[0;34m\u001b[0m\u001b[0m\n",
      "\u001b[0;32m/opt/conda/lib/python3.5/site-packages/tensorflow/python/client/session.py\u001b[0m in \u001b[0;36mrun\u001b[0;34m(self, fetches, feed_dict, options, run_metadata)\u001b[0m\n\u001b[1;32m    764\u001b[0m     \u001b[0;32mtry\u001b[0m\u001b[0;34m:\u001b[0m\u001b[0;34m\u001b[0m\u001b[0m\n\u001b[1;32m    765\u001b[0m       result = self._run(None, fetches, feed_dict, options_ptr,\n\u001b[0;32m--> 766\u001b[0;31m                          run_metadata_ptr)\n\u001b[0m\u001b[1;32m    767\u001b[0m       \u001b[0;32mif\u001b[0m \u001b[0mrun_metadata\u001b[0m\u001b[0;34m:\u001b[0m\u001b[0;34m\u001b[0m\u001b[0m\n\u001b[1;32m    768\u001b[0m         \u001b[0mproto_data\u001b[0m \u001b[0;34m=\u001b[0m \u001b[0mtf_session\u001b[0m\u001b[0;34m.\u001b[0m\u001b[0mTF_GetBuffer\u001b[0m\u001b[0;34m(\u001b[0m\u001b[0mrun_metadata_ptr\u001b[0m\u001b[0;34m)\u001b[0m\u001b[0;34m\u001b[0m\u001b[0m\n",
      "\u001b[0;32m/opt/conda/lib/python3.5/site-packages/tensorflow/python/client/session.py\u001b[0m in \u001b[0;36m_run\u001b[0;34m(self, handle, fetches, feed_dict, options, run_metadata)\u001b[0m\n\u001b[1;32m    962\u001b[0m     \u001b[0;32mif\u001b[0m \u001b[0mfinal_fetches\u001b[0m \u001b[0;32mor\u001b[0m \u001b[0mfinal_targets\u001b[0m\u001b[0;34m:\u001b[0m\u001b[0;34m\u001b[0m\u001b[0m\n\u001b[1;32m    963\u001b[0m       results = self._do_run(handle, final_targets, final_fetches,\n\u001b[0;32m--> 964\u001b[0;31m                              feed_dict_string, options, run_metadata)\n\u001b[0m\u001b[1;32m    965\u001b[0m     \u001b[0;32melse\u001b[0m\u001b[0;34m:\u001b[0m\u001b[0;34m\u001b[0m\u001b[0m\n\u001b[1;32m    966\u001b[0m       \u001b[0mresults\u001b[0m \u001b[0;34m=\u001b[0m \u001b[0;34m[\u001b[0m\u001b[0;34m]\u001b[0m\u001b[0;34m\u001b[0m\u001b[0m\n",
      "\u001b[0;32m/opt/conda/lib/python3.5/site-packages/tensorflow/python/client/session.py\u001b[0m in \u001b[0;36m_do_run\u001b[0;34m(self, handle, target_list, fetch_list, feed_dict, options, run_metadata)\u001b[0m\n\u001b[1;32m   1012\u001b[0m     \u001b[0;32mif\u001b[0m \u001b[0mhandle\u001b[0m \u001b[0;32mis\u001b[0m \u001b[0;32mNone\u001b[0m\u001b[0;34m:\u001b[0m\u001b[0;34m\u001b[0m\u001b[0m\n\u001b[1;32m   1013\u001b[0m       return self._do_call(_run_fn, self._session, feed_dict, fetch_list,\n\u001b[0;32m-> 1014\u001b[0;31m                            target_list, options, run_metadata)\n\u001b[0m\u001b[1;32m   1015\u001b[0m     \u001b[0;32melse\u001b[0m\u001b[0;34m:\u001b[0m\u001b[0;34m\u001b[0m\u001b[0m\n\u001b[1;32m   1016\u001b[0m       return self._do_call(_prun_fn, self._session, handle, feed_dict,\n",
      "\u001b[0;32m/opt/conda/lib/python3.5/site-packages/tensorflow/python/client/session.py\u001b[0m in \u001b[0;36m_do_call\u001b[0;34m(self, fn, *args)\u001b[0m\n\u001b[1;32m   1019\u001b[0m   \u001b[0;32mdef\u001b[0m \u001b[0m_do_call\u001b[0m\u001b[0;34m(\u001b[0m\u001b[0mself\u001b[0m\u001b[0;34m,\u001b[0m \u001b[0mfn\u001b[0m\u001b[0;34m,\u001b[0m \u001b[0;34m*\u001b[0m\u001b[0margs\u001b[0m\u001b[0;34m)\u001b[0m\u001b[0;34m:\u001b[0m\u001b[0;34m\u001b[0m\u001b[0m\n\u001b[1;32m   1020\u001b[0m     \u001b[0;32mtry\u001b[0m\u001b[0;34m:\u001b[0m\u001b[0;34m\u001b[0m\u001b[0m\n\u001b[0;32m-> 1021\u001b[0;31m       \u001b[0;32mreturn\u001b[0m \u001b[0mfn\u001b[0m\u001b[0;34m(\u001b[0m\u001b[0;34m*\u001b[0m\u001b[0margs\u001b[0m\u001b[0;34m)\u001b[0m\u001b[0;34m\u001b[0m\u001b[0m\n\u001b[0m\u001b[1;32m   1022\u001b[0m     \u001b[0;32mexcept\u001b[0m \u001b[0merrors\u001b[0m\u001b[0;34m.\u001b[0m\u001b[0mOpError\u001b[0m \u001b[0;32mas\u001b[0m \u001b[0me\u001b[0m\u001b[0;34m:\u001b[0m\u001b[0;34m\u001b[0m\u001b[0m\n\u001b[1;32m   1023\u001b[0m       \u001b[0mmessage\u001b[0m \u001b[0;34m=\u001b[0m \u001b[0mcompat\u001b[0m\u001b[0;34m.\u001b[0m\u001b[0mas_text\u001b[0m\u001b[0;34m(\u001b[0m\u001b[0me\u001b[0m\u001b[0;34m.\u001b[0m\u001b[0mmessage\u001b[0m\u001b[0;34m)\u001b[0m\u001b[0;34m\u001b[0m\u001b[0m\n",
      "\u001b[0;32m/opt/conda/lib/python3.5/site-packages/tensorflow/python/client/session.py\u001b[0m in \u001b[0;36m_run_fn\u001b[0;34m(session, feed_dict, fetch_list, target_list, options, run_metadata)\u001b[0m\n\u001b[1;32m   1001\u001b[0m         return tf_session.TF_Run(session, options,\n\u001b[1;32m   1002\u001b[0m                                  \u001b[0mfeed_dict\u001b[0m\u001b[0;34m,\u001b[0m \u001b[0mfetch_list\u001b[0m\u001b[0;34m,\u001b[0m \u001b[0mtarget_list\u001b[0m\u001b[0;34m,\u001b[0m\u001b[0;34m\u001b[0m\u001b[0m\n\u001b[0;32m-> 1003\u001b[0;31m                                  status, run_metadata)\n\u001b[0m\u001b[1;32m   1004\u001b[0m \u001b[0;34m\u001b[0m\u001b[0m\n\u001b[1;32m   1005\u001b[0m     \u001b[0;32mdef\u001b[0m \u001b[0m_prun_fn\u001b[0m\u001b[0;34m(\u001b[0m\u001b[0msession\u001b[0m\u001b[0;34m,\u001b[0m \u001b[0mhandle\u001b[0m\u001b[0;34m,\u001b[0m \u001b[0mfeed_dict\u001b[0m\u001b[0;34m,\u001b[0m \u001b[0mfetch_list\u001b[0m\u001b[0;34m)\u001b[0m\u001b[0;34m:\u001b[0m\u001b[0;34m\u001b[0m\u001b[0m\n",
      "\u001b[0;31mKeyboardInterrupt\u001b[0m: "
     ]
    }
   ],
   "source": [
    "from sklearn.model_selection import StratifiedKFold\n",
    "seed = 7\n",
    "np.random.seed(seed)\n",
    "\n",
    "# define 10-fold cross validation test harness\n",
    "kfold = StratifiedKFold(n_splits=10, shuffle=True, random_state=seed)\n",
    "cvscores = []\n",
    "for train, test in kfold.split(X_train, Y_train):\n",
    "  # create model\n",
    "    model = Sequential()\n",
    "    model.add(Dense(1024,input_dim=192, init='uniform', activation='tanh'))\n",
    "    model.add(Dropout(0.2))\n",
    "    model.add(Dense(512, activation='sigmoid'))\n",
    "    model.add(Dropout(0.3))\n",
    "    model.add(Dense(99, activation='softmax'))\n",
    "    # Compile model\n",
    "    model.compile(loss='sparse_categorical_crossentropy', optimizer='rmsprop', metrics=['accuracy'])\n",
    "    # Fit the model\n",
    "    model.fit(X_train, Y_train, nb_epoch=50, batch_size=10, verbose=True)\n",
    "    # evaluate the model\n",
    "    #scores = model.evaluate(X_test, Y_test, verbose=True)\n",
    "    #print(\"%s: %.2f%%\" % (model.metrics_names[1], scores[1]*100))\n",
    "    #cvscores.append(scores[1] * 100)\n",
    "\n"
   ]
  },
  {
   "cell_type": "code",
   "execution_count": 5,
   "metadata": {
    "collapsed": false
   },
   "outputs": [
    {
     "name": "stdout",
     "output_type": "stream",
     "text": [
      "nan% (+/- nan%)\n",
      "594/594 [==============================] - 0s     "
     ]
    },
    {
     "name": "stderr",
     "output_type": "stream",
     "text": [
      "/opt/conda/lib/python3.5/site-packages/numpy/core/_methods.py:59: RuntimeWarning: Mean of empty slice.\n",
      "  warnings.warn(\"Mean of empty slice.\", RuntimeWarning)\n",
      "/opt/conda/lib/python3.5/site-packages/numpy/core/_methods.py:70: RuntimeWarning: invalid value encountered in double_scalars\n",
      "  ret = ret.dtype.type(ret / rcount)\n",
      "/opt/conda/lib/python3.5/site-packages/numpy/core/_methods.py:82: RuntimeWarning: Degrees of freedom <= 0 for slice\n",
      "  warnings.warn(\"Degrees of freedom <= 0 for slice\", RuntimeWarning)\n",
      "/opt/conda/lib/python3.5/site-packages/numpy/core/_methods.py:94: RuntimeWarning: invalid value encountered in true_divide\n",
      "  arrmean, rcount, out=arrmean, casting='unsafe', subok=False)\n",
      "/opt/conda/lib/python3.5/site-packages/numpy/core/_methods.py:116: RuntimeWarning: invalid value encountered in double_scalars\n",
      "  ret = ret.dtype.type(ret / rcount)\n"
     ]
    },
    {
     "name": "stdout",
     "output_type": "stream",
     "text": [
      "\n"
     ]
    }
   ],
   "source": [
    "print(\"%.2f%% (+/- %.2f%%)\" % (np.mean(cvscores), np.std(cvscores)))\n",
    "\n",
    "test = pd.read_csv('test.csv.zip', compression='zip')\n",
    "test_ids = test.pop('id')\n",
    "X_test = test.values\n",
    "X_test = scaler.transform(X_test)\n",
    "\n",
    "Y_test = model.predict_proba(X_test)\n",
    "\n",
    "submission = pd.DataFrame(Y_test, index=test_ids, columns=le.classes_)\n",
    "submission.to_csv('submission_nn_2.csv')"
   ]
  }
 ],
 "metadata": {
  "anaconda-cloud": {},
  "kernelspec": {
   "display_name": "Python 3",
   "language": "python",
   "name": "python3"
  },
  "language_info": {
   "codemirror_mode": {
    "name": "ipython",
    "version": 3
   },
   "file_extension": ".py",
   "mimetype": "text/x-python",
   "name": "python",
   "nbconvert_exporter": "python",
   "pygments_lexer": "ipython3",
   "version": "3.6.0"
  }
 },
 "nbformat": 4,
 "nbformat_minor": 1
}
