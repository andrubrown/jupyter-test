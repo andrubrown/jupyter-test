{
 "cells": [
  {
   "cell_type": "markdown",
   "metadata": {
    "_cell_guid": "3e702071-f4ea-9c14-6bb8-14a87a80e0a5"
   },
   "source": [
    "# Studying glass classification"
   ]
  },
  {
   "cell_type": "markdown",
   "metadata": {
    "_cell_guid": "d6f425b6-5930-55a8-cab2-654007081d1b"
   },
   "source": [
    "I'm trying to learn a bit more on 2 topics:\n",
    "\n",
    "1. spotting and correcting skewed data\n",
    "2. tuning the Random Forest Classifier parameters to achieve better results\n",
    "\n",
    "## The data\n",
    "This is the list of all the fields.\n",
    "\n",
    "* Id number: 1 to 214 (removed from CSV file)\n",
    "* RI: refractive index\n",
    "* Na: Sodium (unit measurement: weight percent in corresponding oxide, as are attributes 4-10)\n",
    "* Mg: Magnesium\n",
    "* Al: Aluminum\n",
    "* Si: Silicon\n",
    "* K: Potassium\n",
    "* Ca: Calcium\n",
    "* Ba: Barium\n",
    "* Fe: Iron\n",
    "* Type of glass: (class attribute)\n",
    "  *  1 building_windows_float_processed\n",
    "  * 2 building_windows_non_float_processed\n",
    "  * 3 vehicle_windows_float_processed\n",
    "  * 4 vehicle_windows_non_float_processed (none in this database)\n",
    "  * 5 containers\n",
    "  * 6 tableware\n",
    "  * 7 headlamps"
   ]
  },
  {
   "cell_type": "code",
   "execution_count": 9,
   "metadata": {
    "_cell_guid": "a4cfb2e0-b44a-0b07-ad5d-d304f9fb193a",
    "collapsed": false
   },
   "outputs": [],
   "source": [
    "# This Python 3 environment comes with many helpful analytics libraries installed\n",
    "# It is defined by the kaggle/python docker image: https://github.com/kaggle/docker-python\n",
    "# For example, here's several helpful packages to load in \n",
    "\n",
    "import numpy as np # linear algebra\n",
    "import pandas as pd # data processing, CSV file I/O (e.g. pd.read_csv)\n",
    "\n",
    "# Input data files are available in the \"../input/\" directory.\n",
    "# For example, running this (by clicking run or pressing Shift+Enter) will list the files in the input directory\n",
    "\n",
    "from subprocess import check_output\n",
    "#print(check_output([\"ls\", \"../input\"]).decode(\"utf8\"))\n",
    "\n",
    "# Any results you write to the current directory are saved as output."
   ]
  },
  {
   "cell_type": "markdown",
   "metadata": {
    "_cell_guid": "c8de1f55-e577-ade5-e774-b8a14b8e6d01"
   },
   "source": [
    "Loading dataset and showing some records"
   ]
  },
  {
   "cell_type": "code",
   "execution_count": 10,
   "metadata": {
    "_cell_guid": "e54dd6dd-c047-880a-de8f-df01a84b4b2c",
    "collapsed": false
   },
   "outputs": [
    {
     "data": {
      "text/html": [
       "<div>\n",
       "<table border=\"1\" class=\"dataframe\">\n",
       "  <thead>\n",
       "    <tr style=\"text-align: right;\">\n",
       "      <th></th>\n",
       "      <th>RI</th>\n",
       "      <th>Na</th>\n",
       "      <th>Mg</th>\n",
       "      <th>Al</th>\n",
       "      <th>Si</th>\n",
       "      <th>K</th>\n",
       "      <th>Ca</th>\n",
       "      <th>Ba</th>\n",
       "      <th>Fe</th>\n",
       "      <th>Type</th>\n",
       "    </tr>\n",
       "  </thead>\n",
       "  <tbody>\n",
       "    <tr>\n",
       "      <th>169</th>\n",
       "      <td>1.51994</td>\n",
       "      <td>13.27</td>\n",
       "      <td>0.00</td>\n",
       "      <td>1.76</td>\n",
       "      <td>73.03</td>\n",
       "      <td>0.47</td>\n",
       "      <td>11.32</td>\n",
       "      <td>0.00</td>\n",
       "      <td>0.00</td>\n",
       "      <td>5</td>\n",
       "    </tr>\n",
       "    <tr>\n",
       "      <th>6</th>\n",
       "      <td>1.51743</td>\n",
       "      <td>13.30</td>\n",
       "      <td>3.60</td>\n",
       "      <td>1.14</td>\n",
       "      <td>73.09</td>\n",
       "      <td>0.58</td>\n",
       "      <td>8.17</td>\n",
       "      <td>0.00</td>\n",
       "      <td>0.00</td>\n",
       "      <td>1</td>\n",
       "    </tr>\n",
       "    <tr>\n",
       "      <th>31</th>\n",
       "      <td>1.51747</td>\n",
       "      <td>12.84</td>\n",
       "      <td>3.50</td>\n",
       "      <td>1.14</td>\n",
       "      <td>73.27</td>\n",
       "      <td>0.56</td>\n",
       "      <td>8.55</td>\n",
       "      <td>0.00</td>\n",
       "      <td>0.00</td>\n",
       "      <td>1</td>\n",
       "    </tr>\n",
       "    <tr>\n",
       "      <th>194</th>\n",
       "      <td>1.51683</td>\n",
       "      <td>14.56</td>\n",
       "      <td>0.00</td>\n",
       "      <td>1.98</td>\n",
       "      <td>73.29</td>\n",
       "      <td>0.00</td>\n",
       "      <td>8.52</td>\n",
       "      <td>1.57</td>\n",
       "      <td>0.07</td>\n",
       "      <td>7</td>\n",
       "    </tr>\n",
       "    <tr>\n",
       "      <th>163</th>\n",
       "      <td>1.51514</td>\n",
       "      <td>14.01</td>\n",
       "      <td>2.68</td>\n",
       "      <td>3.50</td>\n",
       "      <td>69.89</td>\n",
       "      <td>1.68</td>\n",
       "      <td>5.87</td>\n",
       "      <td>2.20</td>\n",
       "      <td>0.00</td>\n",
       "      <td>5</td>\n",
       "    </tr>\n",
       "  </tbody>\n",
       "</table>\n",
       "</div>"
      ],
      "text/plain": [
       "          RI     Na    Mg    Al     Si     K     Ca    Ba    Fe  Type\n",
       "169  1.51994  13.27  0.00  1.76  73.03  0.47  11.32  0.00  0.00     5\n",
       "6    1.51743  13.30  3.60  1.14  73.09  0.58   8.17  0.00  0.00     1\n",
       "31   1.51747  12.84  3.50  1.14  73.27  0.56   8.55  0.00  0.00     1\n",
       "194  1.51683  14.56  0.00  1.98  73.29  0.00   8.52  1.57  0.07     7\n",
       "163  1.51514  14.01  2.68  3.50  69.89  1.68   5.87  2.20  0.00     5"
      ]
     },
     "execution_count": 10,
     "metadata": {},
     "output_type": "execute_result"
    }
   ],
   "source": [
    "#df = pd.read_csv('../input/glass.csv')\n",
    "df = pd.read_csv('glass.csv')\n",
    "\n",
    "df.sample(5)"
   ]
  },
  {
   "cell_type": "markdown",
   "metadata": {},
   "source": [
    "## Unbalanced classes\n",
    "\n",
    "The classes in this dataset are not equally represented. Classes `3`, `5` and `6` are really poor and past analyses show that the algorithms struggle to classify data for them."
   ]
  },
  {
   "cell_type": "code",
   "execution_count": 11,
   "metadata": {
    "collapsed": false
   },
   "outputs": [
    {
     "data": {
      "text/html": [
       "<div>\n",
       "<table border=\"1\" class=\"dataframe\">\n",
       "  <thead>\n",
       "    <tr style=\"text-align: right;\">\n",
       "      <th></th>\n",
       "      <th>RI</th>\n",
       "      <th>Na</th>\n",
       "      <th>Mg</th>\n",
       "      <th>Al</th>\n",
       "      <th>Si</th>\n",
       "      <th>K</th>\n",
       "      <th>Ca</th>\n",
       "      <th>Ba</th>\n",
       "      <th>Fe</th>\n",
       "    </tr>\n",
       "    <tr>\n",
       "      <th>Type</th>\n",
       "      <th></th>\n",
       "      <th></th>\n",
       "      <th></th>\n",
       "      <th></th>\n",
       "      <th></th>\n",
       "      <th></th>\n",
       "      <th></th>\n",
       "      <th></th>\n",
       "      <th></th>\n",
       "    </tr>\n",
       "  </thead>\n",
       "  <tbody>\n",
       "    <tr>\n",
       "      <th>1</th>\n",
       "      <td>70</td>\n",
       "      <td>70</td>\n",
       "      <td>70</td>\n",
       "      <td>70</td>\n",
       "      <td>70</td>\n",
       "      <td>70</td>\n",
       "      <td>70</td>\n",
       "      <td>70</td>\n",
       "      <td>70</td>\n",
       "    </tr>\n",
       "    <tr>\n",
       "      <th>2</th>\n",
       "      <td>76</td>\n",
       "      <td>76</td>\n",
       "      <td>76</td>\n",
       "      <td>76</td>\n",
       "      <td>76</td>\n",
       "      <td>76</td>\n",
       "      <td>76</td>\n",
       "      <td>76</td>\n",
       "      <td>76</td>\n",
       "    </tr>\n",
       "    <tr>\n",
       "      <th>3</th>\n",
       "      <td>17</td>\n",
       "      <td>17</td>\n",
       "      <td>17</td>\n",
       "      <td>17</td>\n",
       "      <td>17</td>\n",
       "      <td>17</td>\n",
       "      <td>17</td>\n",
       "      <td>17</td>\n",
       "      <td>17</td>\n",
       "    </tr>\n",
       "    <tr>\n",
       "      <th>5</th>\n",
       "      <td>13</td>\n",
       "      <td>13</td>\n",
       "      <td>13</td>\n",
       "      <td>13</td>\n",
       "      <td>13</td>\n",
       "      <td>13</td>\n",
       "      <td>13</td>\n",
       "      <td>13</td>\n",
       "      <td>13</td>\n",
       "    </tr>\n",
       "    <tr>\n",
       "      <th>6</th>\n",
       "      <td>9</td>\n",
       "      <td>9</td>\n",
       "      <td>9</td>\n",
       "      <td>9</td>\n",
       "      <td>9</td>\n",
       "      <td>9</td>\n",
       "      <td>9</td>\n",
       "      <td>9</td>\n",
       "      <td>9</td>\n",
       "    </tr>\n",
       "    <tr>\n",
       "      <th>7</th>\n",
       "      <td>29</td>\n",
       "      <td>29</td>\n",
       "      <td>29</td>\n",
       "      <td>29</td>\n",
       "      <td>29</td>\n",
       "      <td>29</td>\n",
       "      <td>29</td>\n",
       "      <td>29</td>\n",
       "      <td>29</td>\n",
       "    </tr>\n",
       "  </tbody>\n",
       "</table>\n",
       "</div>"
      ],
      "text/plain": [
       "      RI  Na  Mg  Al  Si   K  Ca  Ba  Fe\n",
       "Type                                    \n",
       "1     70  70  70  70  70  70  70  70  70\n",
       "2     76  76  76  76  76  76  76  76  76\n",
       "3     17  17  17  17  17  17  17  17  17\n",
       "5     13  13  13  13  13  13  13  13  13\n",
       "6      9   9   9   9   9   9   9   9   9\n",
       "7     29  29  29  29  29  29  29  29  29"
      ]
     },
     "execution_count": 11,
     "metadata": {},
     "output_type": "execute_result"
    }
   ],
   "source": [
    "df.groupby(by='Type').count()"
   ]
  },
  {
   "cell_type": "markdown",
   "metadata": {},
   "source": [
    "I try to find some common values in records for those classes. The goal is to duplicate data including some variation in order to \"reinforce\" the classification.\n",
    "\n",
    "### Past results\n",
    "Before doing it, I note here the past performances to see if there's an improvement.\n",
    "\n",
    "This is the correlation between the features and the class:\n",
    "* Mg      0.744993\n",
    "* Al      0.598829\n",
    "* Ba      0.575161\n",
    "* Na      0.502898\n",
    "* Fe      0.188278\n",
    "* RI      0.164237\n",
    "* Si      0.151565\n",
    "* K       0.010054\n",
    "* Ca      0.000952\n",
    "\n",
    "This is the best estimator perf for a Random Forest:\n",
    "```\n",
    "0.7890625\n",
    "{'n_estimators': 100, 'min_samples_split': 2, 'criterion': 'entropy', 'min_samples_leaf': 1}\n",
    "```\n",
    "\n",
    "And this is the cross-validation score:\n",
    "`Score: 0.756`\n",
    "\n",
    "Let's go.\n"
   ]
  },
  {
   "cell_type": "markdown",
   "metadata": {},
   "source": [
    "### Generating random samples\n",
    "\n",
    "I create some useful function that helps me create new samples for the \"poor\" classes using their mean and standard deviation values and setting to 0 a set of labels"
   ]
  },
  {
   "cell_type": "code",
   "execution_count": 14,
   "metadata": {
    "collapsed": false
   },
   "outputs": [],
   "source": [
    "\n",
    "# generate a -1 or +1 at random to add or subtract a random value from the mean\n",
    "def random_sign():\n",
    "    return [-1 if np.random.random()<.5 else 1]\n",
    "\n",
    "# generate a new fake sample based on the passed means and standard deviations arrays,\n",
    "# setting the passed Type value and the passed labels at zero\n",
    "def gen_sample(mm, ss, type, labels_at_zero=[]):\n",
    "    ix = ['RI', 'Na', 'Mg', 'Al', 'Si', 'K', 'Ca', 'Ba', 'Fe', 'Type']\n",
    "    new = np.abs(mm + (ss * np.random.random(len(ix)) * random_sign() ))\n",
    "    for l in labels_at_zero:\n",
    "        new[l] = 0\n",
    "    new['Type'] = type\n",
    "    return new\n",
    "\n"
   ]
  },
  {
   "cell_type": "code",
   "execution_count": 15,
   "metadata": {
    "collapsed": false
   },
   "outputs": [
    {
     "data": {
      "text/html": [
       "<div>\n",
       "<table border=\"1\" class=\"dataframe\">\n",
       "  <thead>\n",
       "    <tr style=\"text-align: right;\">\n",
       "      <th></th>\n",
       "      <th>RI</th>\n",
       "      <th>Na</th>\n",
       "      <th>Mg</th>\n",
       "      <th>Al</th>\n",
       "      <th>Si</th>\n",
       "      <th>K</th>\n",
       "      <th>Ca</th>\n",
       "      <th>Ba</th>\n",
       "      <th>Fe</th>\n",
       "      <th>Type</th>\n",
       "    </tr>\n",
       "  </thead>\n",
       "  <tbody>\n",
       "    <tr>\n",
       "      <th>count</th>\n",
       "      <td>9.000000</td>\n",
       "      <td>9.000000</td>\n",
       "      <td>9.000000</td>\n",
       "      <td>9.000000</td>\n",
       "      <td>9.000000</td>\n",
       "      <td>9.0</td>\n",
       "      <td>9.000000</td>\n",
       "      <td>9.0</td>\n",
       "      <td>9.0</td>\n",
       "      <td>9.0</td>\n",
       "    </tr>\n",
       "    <tr>\n",
       "      <th>mean</th>\n",
       "      <td>1.517456</td>\n",
       "      <td>14.646667</td>\n",
       "      <td>1.305556</td>\n",
       "      <td>1.366667</td>\n",
       "      <td>73.206667</td>\n",
       "      <td>0.0</td>\n",
       "      <td>9.356667</td>\n",
       "      <td>0.0</td>\n",
       "      <td>0.0</td>\n",
       "      <td>6.0</td>\n",
       "    </tr>\n",
       "    <tr>\n",
       "      <th>std</th>\n",
       "      <td>0.003116</td>\n",
       "      <td>1.084020</td>\n",
       "      <td>1.097134</td>\n",
       "      <td>0.571861</td>\n",
       "      <td>1.079467</td>\n",
       "      <td>0.0</td>\n",
       "      <td>1.449948</td>\n",
       "      <td>0.0</td>\n",
       "      <td>0.0</td>\n",
       "      <td>0.0</td>\n",
       "    </tr>\n",
       "    <tr>\n",
       "      <th>min</th>\n",
       "      <td>1.511150</td>\n",
       "      <td>13.790000</td>\n",
       "      <td>0.000000</td>\n",
       "      <td>0.340000</td>\n",
       "      <td>72.370000</td>\n",
       "      <td>0.0</td>\n",
       "      <td>6.650000</td>\n",
       "      <td>0.0</td>\n",
       "      <td>0.0</td>\n",
       "      <td>6.0</td>\n",
       "    </tr>\n",
       "    <tr>\n",
       "      <th>25%</th>\n",
       "      <td>1.518290</td>\n",
       "      <td>14.090000</td>\n",
       "      <td>0.000000</td>\n",
       "      <td>1.190000</td>\n",
       "      <td>72.500000</td>\n",
       "      <td>0.0</td>\n",
       "      <td>9.260000</td>\n",
       "      <td>0.0</td>\n",
       "      <td>0.0</td>\n",
       "      <td>6.0</td>\n",
       "    </tr>\n",
       "    <tr>\n",
       "      <th>50%</th>\n",
       "      <td>1.518880</td>\n",
       "      <td>14.400000</td>\n",
       "      <td>1.740000</td>\n",
       "      <td>1.560000</td>\n",
       "      <td>72.740000</td>\n",
       "      <td>0.0</td>\n",
       "      <td>9.570000</td>\n",
       "      <td>0.0</td>\n",
       "      <td>0.0</td>\n",
       "      <td>6.0</td>\n",
       "    </tr>\n",
       "    <tr>\n",
       "      <th>75%</th>\n",
       "      <td>1.519160</td>\n",
       "      <td>14.560000</td>\n",
       "      <td>2.240000</td>\n",
       "      <td>1.660000</td>\n",
       "      <td>73.480000</td>\n",
       "      <td>0.0</td>\n",
       "      <td>9.950000</td>\n",
       "      <td>0.0</td>\n",
       "      <td>0.0</td>\n",
       "      <td>6.0</td>\n",
       "    </tr>\n",
       "    <tr>\n",
       "      <th>max</th>\n",
       "      <td>1.519690</td>\n",
       "      <td>17.380000</td>\n",
       "      <td>2.410000</td>\n",
       "      <td>2.090000</td>\n",
       "      <td>75.410000</td>\n",
       "      <td>0.0</td>\n",
       "      <td>11.220000</td>\n",
       "      <td>0.0</td>\n",
       "      <td>0.0</td>\n",
       "      <td>6.0</td>\n",
       "    </tr>\n",
       "  </tbody>\n",
       "</table>\n",
       "</div>"
      ],
      "text/plain": [
       "             RI         Na        Mg        Al         Si    K         Ca  \\\n",
       "count  9.000000   9.000000  9.000000  9.000000   9.000000  9.0   9.000000   \n",
       "mean   1.517456  14.646667  1.305556  1.366667  73.206667  0.0   9.356667   \n",
       "std    0.003116   1.084020  1.097134  0.571861   1.079467  0.0   1.449948   \n",
       "min    1.511150  13.790000  0.000000  0.340000  72.370000  0.0   6.650000   \n",
       "25%    1.518290  14.090000  0.000000  1.190000  72.500000  0.0   9.260000   \n",
       "50%    1.518880  14.400000  1.740000  1.560000  72.740000  0.0   9.570000   \n",
       "75%    1.519160  14.560000  2.240000  1.660000  73.480000  0.0   9.950000   \n",
       "max    1.519690  17.380000  2.410000  2.090000  75.410000  0.0  11.220000   \n",
       "\n",
       "        Ba   Fe  Type  \n",
       "count  9.0  9.0   9.0  \n",
       "mean   0.0  0.0   6.0  \n",
       "std    0.0  0.0   0.0  \n",
       "min    0.0  0.0   6.0  \n",
       "25%    0.0  0.0   6.0  \n",
       "50%    0.0  0.0   6.0  \n",
       "75%    0.0  0.0   6.0  \n",
       "max    0.0  0.0   6.0  "
      ]
     },
     "execution_count": 15,
     "metadata": {},
     "output_type": "execute_result"
    }
   ],
   "source": [
    "# Class 6\n",
    "# Selecting the 'mean' and 'std' columns from the describe() to generate random values for the class\n",
    "means = df[df['Type']==6].describe().loc['mean',:]\n",
    "stds = df[df['Type']==6].describe().loc['std',:]\n",
    "\n",
    "# this was the full table, I took only the second and third row\n",
    "df[df['Type']==6].describe()"
   ]
  },
  {
   "cell_type": "code",
   "execution_count": 16,
   "metadata": {
    "collapsed": false
   },
   "outputs": [],
   "source": [
    "# using a temp value\n",
    "dfnew = df\n",
    "for i in range(0, 20):\n",
    "    dfnew = dfnew.append(gen_sample(means, stds, 6, ['Ba', 'Fe', 'K']), ignore_index=True)"
   ]
  },
  {
   "cell_type": "code",
   "execution_count": 17,
   "metadata": {
    "collapsed": false
   },
   "outputs": [
    {
     "data": {
      "text/html": [
       "<div>\n",
       "<table border=\"1\" class=\"dataframe\">\n",
       "  <thead>\n",
       "    <tr style=\"text-align: right;\">\n",
       "      <th></th>\n",
       "      <th>RI</th>\n",
       "      <th>Na</th>\n",
       "      <th>Mg</th>\n",
       "      <th>Al</th>\n",
       "      <th>Si</th>\n",
       "      <th>K</th>\n",
       "      <th>Ca</th>\n",
       "      <th>Ba</th>\n",
       "      <th>Fe</th>\n",
       "      <th>Type</th>\n",
       "    </tr>\n",
       "  </thead>\n",
       "  <tbody>\n",
       "    <tr>\n",
       "      <th>count</th>\n",
       "      <td>29.000000</td>\n",
       "      <td>29.000000</td>\n",
       "      <td>29.000000</td>\n",
       "      <td>29.000000</td>\n",
       "      <td>29.000000</td>\n",
       "      <td>29.0</td>\n",
       "      <td>29.000000</td>\n",
       "      <td>29.0</td>\n",
       "      <td>29.0</td>\n",
       "      <td>29.0</td>\n",
       "    </tr>\n",
       "    <tr>\n",
       "      <th>mean</th>\n",
       "      <td>1.517424</td>\n",
       "      <td>14.704846</td>\n",
       "      <td>1.440938</td>\n",
       "      <td>1.343946</td>\n",
       "      <td>73.361526</td>\n",
       "      <td>0.0</td>\n",
       "      <td>9.392914</td>\n",
       "      <td>0.0</td>\n",
       "      <td>0.0</td>\n",
       "      <td>6.0</td>\n",
       "    </tr>\n",
       "    <tr>\n",
       "      <th>std</th>\n",
       "      <td>0.002252</td>\n",
       "      <td>0.723400</td>\n",
       "      <td>0.799815</td>\n",
       "      <td>0.404600</td>\n",
       "      <td>0.770968</td>\n",
       "      <td>0.0</td>\n",
       "      <td>1.009766</td>\n",
       "      <td>0.0</td>\n",
       "      <td>0.0</td>\n",
       "      <td>0.0</td>\n",
       "    </tr>\n",
       "    <tr>\n",
       "      <th>min</th>\n",
       "      <td>1.511150</td>\n",
       "      <td>13.790000</td>\n",
       "      <td>0.000000</td>\n",
       "      <td>0.340000</td>\n",
       "      <td>72.370000</td>\n",
       "      <td>0.0</td>\n",
       "      <td>6.650000</td>\n",
       "      <td>0.0</td>\n",
       "      <td>0.0</td>\n",
       "      <td>6.0</td>\n",
       "    </tr>\n",
       "    <tr>\n",
       "      <th>25%</th>\n",
       "      <td>1.515530</td>\n",
       "      <td>14.199276</td>\n",
       "      <td>0.815822</td>\n",
       "      <td>1.174607</td>\n",
       "      <td>72.760000</td>\n",
       "      <td>0.0</td>\n",
       "      <td>8.891821</td>\n",
       "      <td>0.0</td>\n",
       "      <td>0.0</td>\n",
       "      <td>6.0</td>\n",
       "    </tr>\n",
       "    <tr>\n",
       "      <th>50%</th>\n",
       "      <td>1.518207</td>\n",
       "      <td>14.560000</td>\n",
       "      <td>1.554455</td>\n",
       "      <td>1.373823</td>\n",
       "      <td>73.163414</td>\n",
       "      <td>0.0</td>\n",
       "      <td>9.570000</td>\n",
       "      <td>0.0</td>\n",
       "      <td>0.0</td>\n",
       "      <td>6.0</td>\n",
       "    </tr>\n",
       "    <tr>\n",
       "      <th>75%</th>\n",
       "      <td>1.519050</td>\n",
       "      <td>15.031868</td>\n",
       "      <td>2.190000</td>\n",
       "      <td>1.660000</td>\n",
       "      <td>73.901460</td>\n",
       "      <td>0.0</td>\n",
       "      <td>9.919977</td>\n",
       "      <td>0.0</td>\n",
       "      <td>0.0</td>\n",
       "      <td>6.0</td>\n",
       "    </tr>\n",
       "    <tr>\n",
       "      <th>max</th>\n",
       "      <td>1.520283</td>\n",
       "      <td>17.380000</td>\n",
       "      <td>2.410000</td>\n",
       "      <td>2.090000</td>\n",
       "      <td>75.410000</td>\n",
       "      <td>0.0</td>\n",
       "      <td>11.220000</td>\n",
       "      <td>0.0</td>\n",
       "      <td>0.0</td>\n",
       "      <td>6.0</td>\n",
       "    </tr>\n",
       "  </tbody>\n",
       "</table>\n",
       "</div>"
      ],
      "text/plain": [
       "              RI         Na         Mg         Al         Si     K         Ca  \\\n",
       "count  29.000000  29.000000  29.000000  29.000000  29.000000  29.0  29.000000   \n",
       "mean    1.517424  14.704846   1.440938   1.343946  73.361526   0.0   9.392914   \n",
       "std     0.002252   0.723400   0.799815   0.404600   0.770968   0.0   1.009766   \n",
       "min     1.511150  13.790000   0.000000   0.340000  72.370000   0.0   6.650000   \n",
       "25%     1.515530  14.199276   0.815822   1.174607  72.760000   0.0   8.891821   \n",
       "50%     1.518207  14.560000   1.554455   1.373823  73.163414   0.0   9.570000   \n",
       "75%     1.519050  15.031868   2.190000   1.660000  73.901460   0.0   9.919977   \n",
       "max     1.520283  17.380000   2.410000   2.090000  75.410000   0.0  11.220000   \n",
       "\n",
       "         Ba    Fe  Type  \n",
       "count  29.0  29.0  29.0  \n",
       "mean    0.0   0.0   6.0  \n",
       "std     0.0   0.0   0.0  \n",
       "min     0.0   0.0   6.0  \n",
       "25%     0.0   0.0   6.0  \n",
       "50%     0.0   0.0   6.0  \n",
       "75%     0.0   0.0   6.0  \n",
       "max     0.0   0.0   6.0  "
      ]
     },
     "execution_count": 17,
     "metadata": {},
     "output_type": "execute_result"
    }
   ],
   "source": [
    "# Let's check what happened\n",
    "dfnew[dfnew['Type']==6].describe()"
   ]
  },
  {
   "cell_type": "code",
   "execution_count": 18,
   "metadata": {
    "collapsed": false
   },
   "outputs": [
    {
     "data": {
      "text/html": [
       "<div>\n",
       "<table border=\"1\" class=\"dataframe\">\n",
       "  <thead>\n",
       "    <tr style=\"text-align: right;\">\n",
       "      <th></th>\n",
       "      <th>RI</th>\n",
       "      <th>Na</th>\n",
       "      <th>Mg</th>\n",
       "      <th>Al</th>\n",
       "      <th>Si</th>\n",
       "      <th>K</th>\n",
       "      <th>Ca</th>\n",
       "      <th>Ba</th>\n",
       "      <th>Fe</th>\n",
       "      <th>Type</th>\n",
       "    </tr>\n",
       "  </thead>\n",
       "  <tbody>\n",
       "    <tr>\n",
       "      <th>count</th>\n",
       "      <td>13.000000</td>\n",
       "      <td>13.000000</td>\n",
       "      <td>13.000000</td>\n",
       "      <td>13.000000</td>\n",
       "      <td>13.000000</td>\n",
       "      <td>13.000000</td>\n",
       "      <td>13.000000</td>\n",
       "      <td>13.000000</td>\n",
       "      <td>13.000000</td>\n",
       "      <td>13.0</td>\n",
       "    </tr>\n",
       "    <tr>\n",
       "      <th>mean</th>\n",
       "      <td>1.518928</td>\n",
       "      <td>12.827692</td>\n",
       "      <td>0.773846</td>\n",
       "      <td>2.033846</td>\n",
       "      <td>72.366154</td>\n",
       "      <td>1.470000</td>\n",
       "      <td>10.123846</td>\n",
       "      <td>0.187692</td>\n",
       "      <td>0.060769</td>\n",
       "      <td>5.0</td>\n",
       "    </tr>\n",
       "    <tr>\n",
       "      <th>std</th>\n",
       "      <td>0.003345</td>\n",
       "      <td>0.777037</td>\n",
       "      <td>0.999146</td>\n",
       "      <td>0.693920</td>\n",
       "      <td>1.282319</td>\n",
       "      <td>2.138695</td>\n",
       "      <td>2.183791</td>\n",
       "      <td>0.608251</td>\n",
       "      <td>0.155588</td>\n",
       "      <td>0.0</td>\n",
       "    </tr>\n",
       "    <tr>\n",
       "      <th>min</th>\n",
       "      <td>1.513160</td>\n",
       "      <td>11.030000</td>\n",
       "      <td>0.000000</td>\n",
       "      <td>1.400000</td>\n",
       "      <td>69.890000</td>\n",
       "      <td>0.130000</td>\n",
       "      <td>5.870000</td>\n",
       "      <td>0.000000</td>\n",
       "      <td>0.000000</td>\n",
       "      <td>5.0</td>\n",
       "    </tr>\n",
       "    <tr>\n",
       "      <th>25%</th>\n",
       "      <td>1.516660</td>\n",
       "      <td>12.730000</td>\n",
       "      <td>0.000000</td>\n",
       "      <td>1.560000</td>\n",
       "      <td>72.180000</td>\n",
       "      <td>0.380000</td>\n",
       "      <td>9.700000</td>\n",
       "      <td>0.000000</td>\n",
       "      <td>0.000000</td>\n",
       "      <td>5.0</td>\n",
       "    </tr>\n",
       "    <tr>\n",
       "      <th>50%</th>\n",
       "      <td>1.519940</td>\n",
       "      <td>12.970000</td>\n",
       "      <td>0.000000</td>\n",
       "      <td>1.760000</td>\n",
       "      <td>72.690000</td>\n",
       "      <td>0.580000</td>\n",
       "      <td>11.270000</td>\n",
       "      <td>0.000000</td>\n",
       "      <td>0.000000</td>\n",
       "      <td>5.0</td>\n",
       "    </tr>\n",
       "    <tr>\n",
       "      <th>75%</th>\n",
       "      <td>1.521190</td>\n",
       "      <td>13.270000</td>\n",
       "      <td>1.710000</td>\n",
       "      <td>2.170000</td>\n",
       "      <td>73.390000</td>\n",
       "      <td>0.970000</td>\n",
       "      <td>11.530000</td>\n",
       "      <td>0.000000</td>\n",
       "      <td>0.000000</td>\n",
       "      <td>5.0</td>\n",
       "    </tr>\n",
       "    <tr>\n",
       "      <th>max</th>\n",
       "      <td>1.523690</td>\n",
       "      <td>14.010000</td>\n",
       "      <td>2.680000</td>\n",
       "      <td>3.500000</td>\n",
       "      <td>73.880000</td>\n",
       "      <td>6.210000</td>\n",
       "      <td>12.500000</td>\n",
       "      <td>2.200000</td>\n",
       "      <td>0.510000</td>\n",
       "      <td>5.0</td>\n",
       "    </tr>\n",
       "  </tbody>\n",
       "</table>\n",
       "</div>"
      ],
      "text/plain": [
       "              RI         Na         Mg         Al         Si          K  \\\n",
       "count  13.000000  13.000000  13.000000  13.000000  13.000000  13.000000   \n",
       "mean    1.518928  12.827692   0.773846   2.033846  72.366154   1.470000   \n",
       "std     0.003345   0.777037   0.999146   0.693920   1.282319   2.138695   \n",
       "min     1.513160  11.030000   0.000000   1.400000  69.890000   0.130000   \n",
       "25%     1.516660  12.730000   0.000000   1.560000  72.180000   0.380000   \n",
       "50%     1.519940  12.970000   0.000000   1.760000  72.690000   0.580000   \n",
       "75%     1.521190  13.270000   1.710000   2.170000  73.390000   0.970000   \n",
       "max     1.523690  14.010000   2.680000   3.500000  73.880000   6.210000   \n",
       "\n",
       "              Ca         Ba         Fe  Type  \n",
       "count  13.000000  13.000000  13.000000  13.0  \n",
       "mean   10.123846   0.187692   0.060769   5.0  \n",
       "std     2.183791   0.608251   0.155588   0.0  \n",
       "min     5.870000   0.000000   0.000000   5.0  \n",
       "25%     9.700000   0.000000   0.000000   5.0  \n",
       "50%    11.270000   0.000000   0.000000   5.0  \n",
       "75%    11.530000   0.000000   0.000000   5.0  \n",
       "max    12.500000   2.200000   0.510000   5.0  "
      ]
     },
     "execution_count": 18,
     "metadata": {},
     "output_type": "execute_result"
    }
   ],
   "source": [
    "dfnew[dfnew['Type']==5].describe()"
   ]
  },
  {
   "cell_type": "markdown",
   "metadata": {},
   "source": [
    "Count raised to 29, so correctly +20. Standard deviation obviously decreased because I was adding random values inside the stddev range. Maybe this helps prediction too but I feel I'm corrupting the data a bit more than I wanted.\n",
    "\n",
    "Now I do the same for the rest of the classes. BTW, I already checked that classes 3 and 5 do not have blank features."
   ]
  },
  {
   "cell_type": "code",
   "execution_count": 19,
   "metadata": {
    "collapsed": true
   },
   "outputs": [],
   "source": [
    "# Class 3\n",
    "# Selecting the 'mean' and 'std' columns from the describe() to generate random values for the class\n",
    "means = df[df['Type']==3].describe().loc['mean',:]\n",
    "stds = df[df['Type']==3].describe().loc['std',:]\n",
    "\n",
    "for i in range(0, 13):\n",
    "    dfnew = dfnew.append(gen_sample(means, stds, 3, []), ignore_index=True)\n",
    "\n",
    "# Class 5\n",
    "# Selecting the 'mean' and 'std' columns from the describe() to generate random values for the class\n",
    "means = df[df['Type']==5].describe().loc['mean',:]\n",
    "stds = df[df['Type']==5].describe().loc['std',:]\n",
    "for i in range(0, 17):\n",
    "    dfnew = dfnew.append(gen_sample(means, stds, 5, []), ignore_index=True)"
   ]
  },
  {
   "cell_type": "markdown",
   "metadata": {},
   "source": [
    "### A final check on the data"
   ]
  },
  {
   "cell_type": "code",
   "execution_count": 20,
   "metadata": {
    "collapsed": false
   },
   "outputs": [
    {
     "data": {
      "text/html": [
       "<div>\n",
       "<table border=\"1\" class=\"dataframe\">\n",
       "  <thead>\n",
       "    <tr style=\"text-align: right;\">\n",
       "      <th></th>\n",
       "      <th>RI</th>\n",
       "      <th>Na</th>\n",
       "      <th>Mg</th>\n",
       "      <th>Al</th>\n",
       "      <th>Si</th>\n",
       "      <th>K</th>\n",
       "      <th>Ca</th>\n",
       "      <th>Ba</th>\n",
       "      <th>Fe</th>\n",
       "    </tr>\n",
       "    <tr>\n",
       "      <th>Type</th>\n",
       "      <th></th>\n",
       "      <th></th>\n",
       "      <th></th>\n",
       "      <th></th>\n",
       "      <th></th>\n",
       "      <th></th>\n",
       "      <th></th>\n",
       "      <th></th>\n",
       "      <th></th>\n",
       "    </tr>\n",
       "  </thead>\n",
       "  <tbody>\n",
       "    <tr>\n",
       "      <th>1.0</th>\n",
       "      <td>70</td>\n",
       "      <td>70</td>\n",
       "      <td>70</td>\n",
       "      <td>70</td>\n",
       "      <td>70</td>\n",
       "      <td>70</td>\n",
       "      <td>70</td>\n",
       "      <td>70</td>\n",
       "      <td>70</td>\n",
       "    </tr>\n",
       "    <tr>\n",
       "      <th>2.0</th>\n",
       "      <td>76</td>\n",
       "      <td>76</td>\n",
       "      <td>76</td>\n",
       "      <td>76</td>\n",
       "      <td>76</td>\n",
       "      <td>76</td>\n",
       "      <td>76</td>\n",
       "      <td>76</td>\n",
       "      <td>76</td>\n",
       "    </tr>\n",
       "    <tr>\n",
       "      <th>3.0</th>\n",
       "      <td>30</td>\n",
       "      <td>30</td>\n",
       "      <td>30</td>\n",
       "      <td>30</td>\n",
       "      <td>30</td>\n",
       "      <td>30</td>\n",
       "      <td>30</td>\n",
       "      <td>30</td>\n",
       "      <td>30</td>\n",
       "    </tr>\n",
       "    <tr>\n",
       "      <th>5.0</th>\n",
       "      <td>30</td>\n",
       "      <td>30</td>\n",
       "      <td>30</td>\n",
       "      <td>30</td>\n",
       "      <td>30</td>\n",
       "      <td>30</td>\n",
       "      <td>30</td>\n",
       "      <td>30</td>\n",
       "      <td>30</td>\n",
       "    </tr>\n",
       "    <tr>\n",
       "      <th>6.0</th>\n",
       "      <td>29</td>\n",
       "      <td>29</td>\n",
       "      <td>29</td>\n",
       "      <td>29</td>\n",
       "      <td>29</td>\n",
       "      <td>29</td>\n",
       "      <td>29</td>\n",
       "      <td>29</td>\n",
       "      <td>29</td>\n",
       "    </tr>\n",
       "    <tr>\n",
       "      <th>7.0</th>\n",
       "      <td>29</td>\n",
       "      <td>29</td>\n",
       "      <td>29</td>\n",
       "      <td>29</td>\n",
       "      <td>29</td>\n",
       "      <td>29</td>\n",
       "      <td>29</td>\n",
       "      <td>29</td>\n",
       "      <td>29</td>\n",
       "    </tr>\n",
       "  </tbody>\n",
       "</table>\n",
       "</div>"
      ],
      "text/plain": [
       "      RI  Na  Mg  Al  Si   K  Ca  Ba  Fe\n",
       "Type                                    \n",
       "1.0   70  70  70  70  70  70  70  70  70\n",
       "2.0   76  76  76  76  76  76  76  76  76\n",
       "3.0   30  30  30  30  30  30  30  30  30\n",
       "5.0   30  30  30  30  30  30  30  30  30\n",
       "6.0   29  29  29  29  29  29  29  29  29\n",
       "7.0   29  29  29  29  29  29  29  29  29"
      ]
     },
     "execution_count": 20,
     "metadata": {},
     "output_type": "execute_result"
    }
   ],
   "source": [
    "dfnew.groupby(by='Type').count()\n"
   ]
  },
  {
   "cell_type": "code",
   "execution_count": 21,
   "metadata": {
    "collapsed": true
   },
   "outputs": [],
   "source": [
    "df = dfnew"
   ]
  },
  {
   "cell_type": "markdown",
   "metadata": {
    "_cell_guid": "bc1e5ce0-8c06-a4c1-85ce-2ccd26fa2b7a"
   },
   "source": [
    "### X and Y\n",
    "Dropping the class (`Type` column) from the X set and moving it in the Y set"
   ]
  },
  {
   "cell_type": "code",
   "execution_count": 22,
   "metadata": {
    "_cell_guid": "23722203-27b3-2785-6ec6-816a98a98e1b",
    "collapsed": true
   },
   "outputs": [],
   "source": [
    "X = df.drop(['Type'], axis=1)\n",
    "Y = df['Type']"
   ]
  },
  {
   "cell_type": "markdown",
   "metadata": {
    "_cell_guid": "f3c8088e-d892-3314-e4d3-c3814736ebfd"
   },
   "source": [
    "How the features influence the classification"
   ]
  },
  {
   "cell_type": "code",
   "execution_count": 23,
   "metadata": {
    "_cell_guid": "2523b9e4-d9ae-9a22-9d3f-7272b23f9593",
    "collapsed": false
   },
   "outputs": [
    {
     "data": {
      "text/plain": [
       "Type    1.000000\n",
       "Mg      0.754146\n",
       "Al      0.527947\n",
       "Na      0.519392\n",
       "Ba      0.488792\n",
       "Si      0.233622\n",
       "Fe      0.199825\n",
       "RI      0.144169\n",
       "Ca      0.092803\n",
       "K       0.033707\n",
       "Name: Type, dtype: float64"
      ]
     },
     "execution_count": 23,
     "metadata": {},
     "output_type": "execute_result"
    }
   ],
   "source": [
    "df.corr()['Type'].abs().sort_values(ascending=False)"
   ]
  },
  {
   "cell_type": "markdown",
   "metadata": {
    "_cell_guid": "9988982a-ecc4-d323-2596-54f6bf425616"
   },
   "source": [
    "### Calculating data skewness and possibly unskewing"
   ]
  },
  {
   "cell_type": "code",
   "execution_count": 24,
   "metadata": {
    "_cell_guid": "8587b0ba-812b-25bb-8c87-e71fdf11fe6b",
    "collapsed": false
   },
   "outputs": [
    {
     "name": "stderr",
     "output_type": "stream",
     "text": [
      "/opt/conda/lib/python3.5/site-packages/sklearn/preprocessing/data.py:169: UserWarning: Numerical issues were encountered when scaling the data and might not be solved. The standard deviation of the data is probably very close to 0. \n",
      "  warnings.warn(\"Numerical issues were encountered \"\n"
     ]
    },
    {
     "data": {
      "image/png": "[encoded data removed]",
      "text/plain": [
       "<matplotlib.figure.Figure at 0x7fb081d45ef0>"
      ]
     },
     "metadata": {},
     "output_type": "display_data"
    },
    {
     "data": {
      "image/png": "[encoded data removed]",
      "text/plain": [
       "<matplotlib.figure.Figure at 0x7fb07f30f470>"
      ]
     },
     "metadata": {},
     "output_type": "display_data"
    },
    {
     "data": {
      "image/png": "[encoded data removed]",
      "text/plain": [
       "<matplotlib.figure.Figure at 0x7fb07f28ac88>"
      ]
     },
     "metadata": {},
     "output_type": "display_data"
    },
    {
     "data": {
      "image/png": "[encoded data removed]",
      "text/plain": [
       "<matplotlib.figure.Figure at 0x7fb07eb65c18>"
      ]
     },
     "metadata": {},
     "output_type": "display_data"
    },
    {
     "name": "stderr",
     "output_type": "stream",
     "text": [
      "/opt/conda/lib/python3.5/site-packages/sklearn/preprocessing/data.py:152: UserWarning: Numerical issues were encountered when centering the data and might not be solved. Dataset may contain too large values. You may need to prescale your features.\n",
      "  warnings.warn(\"Numerical issues were encountered \"\n"
     ]
    },
    {
     "data": {
      "image/png": "[encoded data removed]",
      "text/plain": [
       "<matplotlib.figure.Figure at 0x7fb07ea7d860>"
      ]
     },
     "metadata": {},
     "output_type": "display_data"
    },
    {
     "data": {
      "image/png": "[encoded data removed]",
      "text/plain": [
       "<matplotlib.figure.Figure at 0x7fb07e97bd30>"
      ]
     },
     "metadata": {},
     "output_type": "display_data"
    },
    {
     "data": {
      "image/png": "[encoded data removed]",
      "text/plain": [
       "<matplotlib.figure.Figure at 0x7fb07e9634a8>"
      ]
     },
     "metadata": {},
     "output_type": "display_data"
    },
    {
     "data": {
      "image/png": "[encoded data removed]",
      "text/plain": [
       "<matplotlib.figure.Figure at 0x7fb07f28aac8>"
      ]
     },
     "metadata": {},
     "output_type": "display_data"
    },
    {
     "data": {
      "image/png": "[encoded data removed]",
      "text/plain": [
       "<matplotlib.figure.Figure at 0x7fb07e9194a8>"
      ]
     },
     "metadata": {},
     "output_type": "display_data"
    }
   ],
   "source": [
    "import matplotlib.pylab as plt\n",
    "from sklearn import preprocessing\n",
    "from scipy.stats import skew\n",
    "from scipy.stats import boxcox\n",
    "\n",
    "# getting features names to loop\n",
    "classes = X.columns.values\n",
    "\n",
    "# This will contain the unskewed features\n",
    "X_unsk = pd.DataFrame()\n",
    "\n",
    "# looping through the \n",
    "for c in classes:\n",
    "    scaled = preprocessing.scale(X[c]) \n",
    "    boxcox_scaled = preprocessing.scale(boxcox(X[c] + np.max(np.abs(X[c]) +1) )[0])\n",
    "    \n",
    "    # Populating \n",
    "    X_unsk[c] = boxcox_scaled\n",
    "    \n",
    "    #Next We calculate Skewness using skew in scipy.stats\n",
    "    skness = skew(scaled)\n",
    "    boxcox_skness = skew(boxcox_scaled)\n",
    "    \n",
    "    #We draw the histograms \n",
    "    figure = plt.figure()\n",
    "    # First the original data shape\n",
    "    figure.add_subplot(121)   \n",
    "    plt.hist(scaled,facecolor='blue',alpha=0.55) \n",
    "    plt.xlabel(c + \" - Transformed\") \n",
    "    plt.title(\"Skewness: {0:.2f}\".format(skness)) \n",
    "    \n",
    "    # then the unskewed\n",
    "    figure.add_subplot(122) \n",
    "    plt.hist(boxcox_scaled,facecolor='red',alpha=0.55) \n",
    "    plt.title(\"Skewness: {0:.2f}\".format(boxcox_skness)) \n",
    "\n",
    "    plt.show()"
   ]
  },
  {
   "cell_type": "markdown",
   "metadata": {
    "_cell_guid": "ff60cf20-6999-e27d-7202-3ded7afbc018"
   },
   "source": [
    "In most cases the BoxCox unskewing is successfully transforming the data"
   ]
  },
  {
   "cell_type": "markdown",
   "metadata": {
    "_cell_guid": "3e901416-d0c4-01b2-0df2-2c0948aa48e2"
   },
   "source": [
    "## Hyperparameters\n",
    "\n",
    "Searching the best parameters for the Random Forest Classifier "
   ]
  },
  {
   "cell_type": "code",
   "execution_count": 25,
   "metadata": {
    "_cell_guid": "21ae28c1-569d-a67f-3da8-e388c737f9a4",
    "collapsed": false
   },
   "outputs": [
    {
     "name": "stdout",
     "output_type": "stream",
     "text": [
      "Fitting 3 folds for each of 90 candidates, totalling 270 fits\n"
     ]
    },
    {
     "name": "stderr",
     "output_type": "stream",
     "text": [
      "[Parallel(n_jobs=-1)]: Done  34 tasks      | elapsed:    2.4s\n",
      "[Parallel(n_jobs=-1)]: Done 184 tasks      | elapsed:   11.8s\n",
      "[Parallel(n_jobs=-1)]: Done 270 out of 270 | elapsed:   17.4s finished\n"
     ]
    }
   ],
   "source": [
    "from sklearn.model_selection import GridSearchCV\n",
    "from sklearn.ensemble import RandomForestClassifier\n",
    "from sklearn.model_selection import train_test_split\n",
    "import math\n",
    "\n",
    "# Here I use the unskewed dataset\n",
    "X = X_unsk\n",
    "X_tr, X_ts, y_tr, y_ts = train_test_split(X, Y, test_size=0.40, random_state=42)\n",
    "\n",
    "rf = RandomForestClassifier(max_features='auto', oob_score=True, random_state=1, n_jobs=-1)\n",
    "param_grid = { \"criterion\" : [\"gini\", \"entropy\"]\n",
    "              , \"min_samples_leaf\" : [1, 5, 10]\n",
    "              , \"min_samples_split\" : [2, 4, 10, 12, 16]\n",
    "              , \"n_estimators\": [100, 125, 200]}\n",
    "gs = GridSearchCV(estimator=rf, param_grid=param_grid, scoring='accuracy', cv=3, n_jobs=-1, verbose=1)\n",
    "gs = gs.fit(X_tr, y_tr)"
   ]
  },
  {
   "cell_type": "markdown",
   "metadata": {
    "_cell_guid": "cd44ce71-000a-d3be-3cd9-3cc5881e9c62"
   },
   "source": [
    "### Score\n",
    "\n",
    "Printing best score performance and algorithm parameters"
   ]
  },
  {
   "cell_type": "code",
   "execution_count": 26,
   "metadata": {
    "_cell_guid": "573b89f2-62e7-873c-6948-ff3dce57e0b5",
    "collapsed": false
   },
   "outputs": [
    {
     "name": "stdout",
     "output_type": "stream",
     "text": [
      "0.835443037975\n",
      "{'min_samples_split': 4, 'n_estimators': 100, 'criterion': 'entropy', 'min_samples_leaf': 1}\n"
     ]
    }
   ],
   "source": [
    "print(gs.best_score_)\n",
    "print(gs.best_params_)"
   ]
  },
  {
   "cell_type": "markdown",
   "metadata": {
    "_cell_guid": "721fd245-6596-d738-cebc-f912b31da533"
   },
   "source": [
    "### Training\n",
    "\n",
    "Final training with the best hyperparameters found by GridSearchCV"
   ]
  },
  {
   "cell_type": "code",
   "execution_count": 27,
   "metadata": {
    "_cell_guid": "7013de95-ad11-491f-4a99-eaf2c5dbfb36",
    "collapsed": false
   },
   "outputs": [
    {
     "name": "stdout",
     "output_type": "stream",
     "text": [
      "Score: 0.736\n"
     ]
    }
   ],
   "source": [
    "bp = gs.best_params_\n",
    "rf = RandomForestClassifier( criterion=bp['criterion'], \n",
    "                             n_estimators=bp['n_estimators'],\n",
    "                             min_samples_split=bp['min_samples_split'],\n",
    "                             min_samples_leaf=bp['min_samples_leaf'],\n",
    "                             max_features='auto',\n",
    "                             oob_score=True,\n",
    "                             random_state=1,\n",
    "                             n_jobs=-1)\n",
    "\n",
    "rf.fit(X_tr, y_tr)\n",
    "pred = rf.predict(X_ts)\n",
    "\n",
    "score = rf.score(X_ts, y_ts)\n",
    "print(\"Score: %.3f\" % (score))"
   ]
  },
  {
   "cell_type": "markdown",
   "metadata": {
    "_cell_guid": "1ef6ace5-a7b8-0727-e17c-545553119108"
   },
   "source": [
    "Works better on the training set but worse on the validation. It looks like the fake data is overfitting the algorithm.\n",
    "\n",
    "### Features importance\n",
    "This is the features importances for the algorithm"
   ]
  },
  {
   "cell_type": "code",
   "execution_count": 28,
   "metadata": {
    "_cell_guid": "ea4593e6-be08-f9ff-20ec-b5abaf6df6dc",
    "collapsed": false
   },
   "outputs": [
    {
     "data": {
      "text/html": [
       "<div>\n",
       "<table border=\"1\" class=\"dataframe\">\n",
       "  <thead>\n",
       "    <tr style=\"text-align: right;\">\n",
       "      <th></th>\n",
       "      <th>variable</th>\n",
       "      <th>importance</th>\n",
       "    </tr>\n",
       "  </thead>\n",
       "  <tbody>\n",
       "    <tr>\n",
       "      <th>2</th>\n",
       "      <td>Mg</td>\n",
       "      <td>0.233482</td>\n",
       "    </tr>\n",
       "    <tr>\n",
       "      <th>3</th>\n",
       "      <td>Al</td>\n",
       "      <td>0.160872</td>\n",
       "    </tr>\n",
       "    <tr>\n",
       "      <th>1</th>\n",
       "      <td>Na</td>\n",
       "      <td>0.134724</td>\n",
       "    </tr>\n",
       "    <tr>\n",
       "      <th>5</th>\n",
       "      <td>K</td>\n",
       "      <td>0.128680</td>\n",
       "    </tr>\n",
       "    <tr>\n",
       "      <th>6</th>\n",
       "      <td>Ca</td>\n",
       "      <td>0.102880</td>\n",
       "    </tr>\n",
       "    <tr>\n",
       "      <th>0</th>\n",
       "      <td>RI</td>\n",
       "      <td>0.084257</td>\n",
       "    </tr>\n",
       "    <tr>\n",
       "      <th>4</th>\n",
       "      <td>Si</td>\n",
       "      <td>0.066605</td>\n",
       "    </tr>\n",
       "    <tr>\n",
       "      <th>7</th>\n",
       "      <td>Ba</td>\n",
       "      <td>0.062068</td>\n",
       "    </tr>\n",
       "    <tr>\n",
       "      <th>8</th>\n",
       "      <td>Fe</td>\n",
       "      <td>0.026432</td>\n",
       "    </tr>\n",
       "  </tbody>\n",
       "</table>\n",
       "</div>"
      ],
      "text/plain": [
       "  variable  importance\n",
       "2       Mg    0.233482\n",
       "3       Al    0.160872\n",
       "1       Na    0.134724\n",
       "5        K    0.128680\n",
       "6       Ca    0.102880\n",
       "0       RI    0.084257\n",
       "4       Si    0.066605\n",
       "7       Ba    0.062068\n",
       "8       Fe    0.026432"
      ]
     },
     "execution_count": 28,
     "metadata": {},
     "output_type": "execute_result"
    }
   ],
   "source": [
    "pd.concat((pd.DataFrame(X.columns, columns = ['variable']), \n",
    "           pd.DataFrame(rf.feature_importances_, columns = ['importance'])), \n",
    "          axis = 1).sort_values(by='importance', ascending = False)[:20]"
   ]
  },
  {
   "cell_type": "markdown",
   "metadata": {
    "_cell_guid": "3575c314-b157-7709-579a-9a6b7d7515b2"
   },
   "source": [
    "Taking a look at the confusion matrix."
   ]
  },
  {
   "cell_type": "code",
   "execution_count": 29,
   "metadata": {
    "_cell_guid": "e9efadc5-fc39-d261-0081-36dbb4aaebd2",
    "collapsed": false
   },
   "outputs": [
    {
     "name": "stdout",
     "output_type": "stream",
     "text": [
      "Confusion matrix, without normalization\n",
      "[[20  5  0  0  0  0]\n",
      " [11 22  0  0  1  1]\n",
      " [ 6  0  5  0  0  0]\n",
      " [ 0  2  0  9  0  0]\n",
      " [ 0  0  0  0 12  0]\n",
      " [ 0  0  0  2  0 10]]\n"
     ]
    },
    {
     "data": {
      "image/png": "[encoded data removed]",
      "text/plain": [
       "<matplotlib.figure.Figure at 0x7fb07eb5f400>"
      ]
     },
     "metadata": {},
     "output_type": "display_data"
    }
   ],
   "source": [
    "from sklearn.metrics import confusion_matrix\n",
    "import itertools\n",
    "#print(y_ts.values)\n",
    "#print(pred)\n",
    "\n",
    "def plot_confusion_matrix(cm, classes,\n",
    "                          normalize=False,\n",
    "                          title='Confusion matrix',\n",
    "                          cmap=plt.cm.Blues):\n",
    "    \"\"\"\n",
    "    This function prints and plots the confusion matrix.\n",
    "    Normalization can be applied by setting `normalize=True`.\n",
    "    \"\"\"\n",
    "    plt.imshow(cm, interpolation='nearest', cmap=cmap)\n",
    "    plt.title(title)\n",
    "    plt.colorbar()\n",
    "    tick_marks = np.arange(len(classes))\n",
    "    plt.xticks(tick_marks, classes, rotation=45)\n",
    "    plt.yticks(tick_marks, classes)\n",
    "\n",
    "    if normalize:\n",
    "        cm = (cm.astype('float') / cm.sum(axis=1)[:, np.newaxis]).round(decimals=2)\n",
    "        print(\"Normalized confusion matrix\")\n",
    "    else:\n",
    "        print('Confusion matrix, without normalization')\n",
    "\n",
    "    print(cm)\n",
    "\n",
    "    thresh = cm.max() / 2.\n",
    "    for i, j in itertools.product(range(cm.shape[0]), range(cm.shape[1])):\n",
    "        plt.text(j, i, cm[i, j],\n",
    "                 horizontalalignment=\"center\",\n",
    "                 color=\"white\" if cm[i, j] > thresh else \"black\")\n",
    "\n",
    "    plt.tight_layout()\n",
    "    plt.ylabel('True label')\n",
    "    plt.xlabel('Predicted label')\n",
    "\n",
    "cnf_matrix = confusion_matrix(y_ts.values, pred)\n",
    "\n",
    "plt.figure()\n",
    "plot_confusion_matrix(cnf_matrix, classes=np.sort(y_ts.unique()), normalize=False,\n",
    "                      title='Confusion matrix, without normalization')"
   ]
  },
  {
   "cell_type": "markdown",
   "metadata": {},
   "source": [
    "Classes 3, 4 and 5 are ok now but I corrupted 1 and 2!!"
   ]
  },
  {
   "cell_type": "markdown",
   "metadata": {},
   "source": [
    "## Trying with XGBoost\n",
    "\n",
    "As suggested in the comments, I try to compare this Random Forest model with an XGBoost to see how both perform with this dataset."
   ]
  },
  {
   "cell_type": "code",
   "execution_count": 30,
   "metadata": {
    "collapsed": false
   },
   "outputs": [
    {
     "name": "stdout",
     "output_type": "stream",
     "text": [
      "Fitting 3 folds for each of 18 candidates, totalling 54 fits\n"
     ]
    },
    {
     "name": "stderr",
     "output_type": "stream",
     "text": [
      "[Parallel(n_jobs=-1)]: Done  34 tasks      | elapsed:   38.6s\n",
      "[Parallel(n_jobs=-1)]: Done  54 out of  54 | elapsed:   53.4s finished\n"
     ]
    }
   ],
   "source": [
    "from xgboost import XGBClassifier\n",
    "\n",
    "# Here I use the unskewed dataset\n",
    "X = X_unsk\n",
    "X_tr, X_ts, y_tr, y_ts = train_test_split(X, Y, test_size=0.4, random_state=42)\n",
    "xgb = XGBClassifier()\n",
    "\n",
    "param_grid = { \"max_depth\" : [5]\n",
    "              , \"learning_rate\" : [0.1, 0.125, 0.2]\n",
    "              , \"n_estimators\": [50, 100]\n",
    "              , \"reg_lambda\": [.01, .1, .5]}\n",
    "gs = GridSearchCV(estimator=xgb, param_grid=param_grid, scoring='accuracy', cv=3, n_jobs=-1, verbose=1)\n",
    "gs = gs.fit(X_tr, y_tr)"
   ]
  },
  {
   "cell_type": "code",
   "execution_count": 31,
   "metadata": {
    "collapsed": false
   },
   "outputs": [
    {
     "name": "stdout",
     "output_type": "stream",
     "text": [
      "0.772151898734\n",
      "{'learning_rate': 0.2, 'n_estimators': 50, 'max_depth': 5, 'reg_lambda': 0.5}\n"
     ]
    }
   ],
   "source": [
    "print(gs.best_score_)\n",
    "print(gs.best_params_)"
   ]
  },
  {
   "cell_type": "markdown",
   "metadata": {},
   "source": [
    "The score on the TS is a bit worse than the RF even though I tried many parameters combination."
   ]
  },
  {
   "cell_type": "code",
   "execution_count": 32,
   "metadata": {
    "collapsed": false
   },
   "outputs": [
    {
     "name": "stdout",
     "output_type": "stream",
     "text": [
      "Score: 0.736\n"
     ]
    }
   ],
   "source": [
    "bp = gs.best_params_\n",
    "xgb = XGBClassifier( max_depth=bp['max_depth'], \n",
    "                             n_estimators=bp['n_estimators'],\n",
    "                             learning_rate=bp['learning_rate'],\n",
    "                   reg_lambda=bp['reg_lambda'])\n",
    "\n",
    "xgb.fit(X_tr, y_tr)\n",
    "pred = xgb.predict(X_ts)\n",
    "\n",
    "score = xgb.score(X_ts, y_ts)\n",
    "print(\"Score: %.3f\" % (score))"
   ]
  },
  {
   "cell_type": "markdown",
   "metadata": {},
   "source": [
    "XGBoost instead has gone better."
   ]
  },
  {
   "cell_type": "markdown",
   "metadata": {},
   "source": [
    "The feature importance matrix is slightly different from the RF's one."
   ]
  },
  {
   "cell_type": "code",
   "execution_count": 33,
   "metadata": {
    "collapsed": false
   },
   "outputs": [
    {
     "data": {
      "text/html": [
       "<div>\n",
       "<table border=\"1\" class=\"dataframe\">\n",
       "  <thead>\n",
       "    <tr style=\"text-align: right;\">\n",
       "      <th></th>\n",
       "      <th>variable</th>\n",
       "      <th>importance</th>\n",
       "    </tr>\n",
       "  </thead>\n",
       "  <tbody>\n",
       "    <tr>\n",
       "      <th>2</th>\n",
       "      <td>Mg</td>\n",
       "      <td>0.193416</td>\n",
       "    </tr>\n",
       "    <tr>\n",
       "      <th>0</th>\n",
       "      <td>RI</td>\n",
       "      <td>0.190947</td>\n",
       "    </tr>\n",
       "    <tr>\n",
       "      <th>6</th>\n",
       "      <td>Ca</td>\n",
       "      <td>0.123457</td>\n",
       "    </tr>\n",
       "    <tr>\n",
       "      <th>1</th>\n",
       "      <td>Na</td>\n",
       "      <td>0.116872</td>\n",
       "    </tr>\n",
       "    <tr>\n",
       "      <th>3</th>\n",
       "      <td>Al</td>\n",
       "      <td>0.113580</td>\n",
       "    </tr>\n",
       "    <tr>\n",
       "      <th>5</th>\n",
       "      <td>K</td>\n",
       "      <td>0.094650</td>\n",
       "    </tr>\n",
       "    <tr>\n",
       "      <th>4</th>\n",
       "      <td>Si</td>\n",
       "      <td>0.093827</td>\n",
       "    </tr>\n",
       "    <tr>\n",
       "      <th>8</th>\n",
       "      <td>Fe</td>\n",
       "      <td>0.037860</td>\n",
       "    </tr>\n",
       "    <tr>\n",
       "      <th>7</th>\n",
       "      <td>Ba</td>\n",
       "      <td>0.035391</td>\n",
       "    </tr>\n",
       "  </tbody>\n",
       "</table>\n",
       "</div>"
      ],
      "text/plain": [
       "  variable  importance\n",
       "2       Mg    0.193416\n",
       "0       RI    0.190947\n",
       "6       Ca    0.123457\n",
       "1       Na    0.116872\n",
       "3       Al    0.113580\n",
       "5        K    0.094650\n",
       "4       Si    0.093827\n",
       "8       Fe    0.037860\n",
       "7       Ba    0.035391"
      ]
     },
     "execution_count": 33,
     "metadata": {},
     "output_type": "execute_result"
    }
   ],
   "source": [
    "pd.concat((pd.DataFrame(X.columns, columns = ['variable']), \n",
    "           pd.DataFrame(xgb.feature_importances_, columns = ['importance'])), \n",
    "          axis = 1).sort_values(by='importance', ascending = False)[:20]"
   ]
  },
  {
   "cell_type": "code",
   "execution_count": 34,
   "metadata": {
    "collapsed": false
   },
   "outputs": [
    {
     "name": "stdout",
     "output_type": "stream",
     "text": [
      "Confusion matrix, without normalization\n",
      "[[16  5  4  0  0  0]\n",
      " [ 7 22  3  2  1  0]\n",
      " [ 2  0  9  0  0  0]\n",
      " [ 0  3  0  8  0  0]\n",
      " [ 0  0  0  0 12  0]\n",
      " [ 0  0  0  1  0 11]]\n"
     ]
    },
    {
     "data": {
      "image/png": "[encoded data removed]",
      "text/plain": [
       "<matplotlib.figure.Figure at 0x7fb07f277198>"
      ]
     },
     "metadata": {},
     "output_type": "display_data"
    }
   ],
   "source": [
    "cnf_matrix = confusion_matrix(y_ts.values, pred)\n",
    "\n",
    "plt.figure()\n",
    "plot_confusion_matrix(cnf_matrix, classes=np.sort(y_ts.unique()), normalize=False,\n",
    "                      title='Confusion matrix, without normalization')"
   ]
  },
  {
   "cell_type": "markdown",
   "metadata": {},
   "source": [
    "Again the issue here are features 1 and 2 that worked a lot better before the fake data was introduced."
   ]
  },
  {
   "cell_type": "markdown",
   "metadata": {
    "_cell_guid": "3bedebd6-da3c-44bb-11d1-628cbda81859"
   },
   "source": [
    "## Conclusions\n",
    "\n",
    "OLD COMMENT:\n",
    "> I'm really a novice in ML but I'm trying to apply all the interesting stuff I find in many awesome Kaggle kernels and discussions in order to slowly learn how work with data.\n",
    "> In this case I've learned a bit more about feature skewing, Random Forest parameters tuning and I did some experiment with XGBoost but the kernel is really far from defining a decent classifier for the glass classification problem. Maybe I need to study more the dataset and to try other classifiers.\n",
    "\n",
    "NEW COMMENT:\n",
    "I tried to fix the poor performance of this small dataset adding fake values, similar to the existing ones, for the less represented classes. It has not worked as I expected, maybe I added too much data or maybe someone has a better explanation out there!\n",
    "\n",
    "Anyway, any advice is welcome!"
   ]
  }
 ],
 "metadata": {
  "_change_revision": 213,
  "_is_fork": false,
  "anaconda-cloud": {},
  "kernelspec": {
   "display_name": "Python [default]",
   "language": "python",
   "name": "python3"
  },
  "language_info": {
   "codemirror_mode": {
    "name": "ipython",
    "version": 3
   },
   "file_extension": ".py",
   "mimetype": "text/x-python",
   "name": "python",
   "nbconvert_exporter": "python",
   "pygments_lexer": "ipython3",
   "version": "3.5.2"
  }
 },
 "nbformat": 4,
 "nbformat_minor": 0
}
