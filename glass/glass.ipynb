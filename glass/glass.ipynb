{
 "cells": [
  {
   "cell_type": "markdown",
   "metadata": {
    "_cell_guid": "3e702071-f4ea-9c14-6bb8-14a87a80e0a5"
   },
   "source": [
    "# Studying glass classification"
   ]
  },
  {
   "cell_type": "markdown",
   "metadata": {
    "_cell_guid": "d6f425b6-5930-55a8-cab2-654007081d1b"
   },
   "source": [
    "I'm trying to learn a bit more on 2 topics:\n",
    "\n",
    "1. spotting and correcting skewed data\n",
    "2. tuning the Random Forest Classifier parameters to achieve better results\n",
    "\n",
    "## The data\n",
    "This is the list of all the fields.\n",
    "\n",
    "* Id number: 1 to 214 (removed from CSV file)\n",
    "* RI: refractive index\n",
    "* Na: Sodium (unit measurement: weight percent in corresponding oxide, as are attributes 4-10)\n",
    "* Mg: Magnesium\n",
    "* Al: Aluminum\n",
    "* Si: Silicon\n",
    "* K: Potassium\n",
    "* Ca: Calcium\n",
    "* Ba: Barium\n",
    "* Fe: Iron\n",
    "* Type of glass: (class attribute)\n",
    "  *  1 building_windows_float_processed\n",
    "  * 2 building_windows_non_float_processed\n",
    "  * 3 vehicle_windows_float_processed\n",
    "  * 4 vehicle_windows_non_float_processed (none in this database)\n",
    "  * 5 containers\n",
    "  * 6 tableware\n",
    "  * 7 headlamps"
   ]
  },
  {
   "cell_type": "code",
   "execution_count": 33,
   "metadata": {
    "_cell_guid": "a4cfb2e0-b44a-0b07-ad5d-d304f9fb193a",
    "collapsed": false
   },
   "outputs": [],
   "source": [
    "# This Python 3 environment comes with many helpful analytics libraries installed\n",
    "# It is defined by the kaggle/python docker image: https://github.com/kaggle/docker-python\n",
    "# For example, here's several helpful packages to load in \n",
    "\n",
    "import numpy as np # linear algebra\n",
    "import pandas as pd # data processing, CSV file I/O (e.g. pd.read_csv)\n",
    "\n",
    "# Input data files are available in the \"../input/\" directory.\n",
    "# For example, running this (by clicking run or pressing Shift+Enter) will list the files in the input directory\n",
    "\n",
    "from subprocess import check_output\n",
    "#print(check_output([\"ls\", \"../input\"]).decode(\"utf8\"))\n",
    "\n",
    "# Any results you write to the current directory are saved as output."
   ]
  },
  {
   "cell_type": "markdown",
   "metadata": {
    "_cell_guid": "c8de1f55-e577-ade5-e774-b8a14b8e6d01"
   },
   "source": [
    "Loading dataset and showing some records"
   ]
  },
  {
   "cell_type": "code",
   "execution_count": 34,
   "metadata": {
    "_cell_guid": "e54dd6dd-c047-880a-de8f-df01a84b4b2c",
    "collapsed": false
   },
   "outputs": [
    {
     "data": {
      "text/html": [
       "<div>\n",
       "<table border=\"1\" class=\"dataframe\">\n",
       "  <thead>\n",
       "    <tr style=\"text-align: right;\">\n",
       "      <th></th>\n",
       "      <th>RI</th>\n",
       "      <th>Na</th>\n",
       "      <th>Mg</th>\n",
       "      <th>Al</th>\n",
       "      <th>Si</th>\n",
       "      <th>K</th>\n",
       "      <th>Ca</th>\n",
       "      <th>Ba</th>\n",
       "      <th>Fe</th>\n",
       "      <th>Type</th>\n",
       "    </tr>\n",
       "  </thead>\n",
       "  <tbody>\n",
       "    <tr>\n",
       "      <th>113</th>\n",
       "      <td>1.51892</td>\n",
       "      <td>13.46</td>\n",
       "      <td>3.83</td>\n",
       "      <td>1.26</td>\n",
       "      <td>72.55</td>\n",
       "      <td>0.57</td>\n",
       "      <td>8.21</td>\n",
       "      <td>0.0</td>\n",
       "      <td>0.14</td>\n",
       "      <td>2</td>\n",
       "    </tr>\n",
       "    <tr>\n",
       "      <th>94</th>\n",
       "      <td>1.51629</td>\n",
       "      <td>12.71</td>\n",
       "      <td>3.33</td>\n",
       "      <td>1.49</td>\n",
       "      <td>73.28</td>\n",
       "      <td>0.67</td>\n",
       "      <td>8.24</td>\n",
       "      <td>0.0</td>\n",
       "      <td>0.00</td>\n",
       "      <td>2</td>\n",
       "    </tr>\n",
       "    <tr>\n",
       "      <th>88</th>\n",
       "      <td>1.51618</td>\n",
       "      <td>13.01</td>\n",
       "      <td>3.50</td>\n",
       "      <td>1.48</td>\n",
       "      <td>72.89</td>\n",
       "      <td>0.60</td>\n",
       "      <td>8.12</td>\n",
       "      <td>0.0</td>\n",
       "      <td>0.00</td>\n",
       "      <td>2</td>\n",
       "    </tr>\n",
       "    <tr>\n",
       "      <th>160</th>\n",
       "      <td>1.51832</td>\n",
       "      <td>13.33</td>\n",
       "      <td>3.34</td>\n",
       "      <td>1.54</td>\n",
       "      <td>72.14</td>\n",
       "      <td>0.56</td>\n",
       "      <td>8.99</td>\n",
       "      <td>0.0</td>\n",
       "      <td>0.00</td>\n",
       "      <td>3</td>\n",
       "    </tr>\n",
       "    <tr>\n",
       "      <th>166</th>\n",
       "      <td>1.52151</td>\n",
       "      <td>11.03</td>\n",
       "      <td>1.71</td>\n",
       "      <td>1.56</td>\n",
       "      <td>73.44</td>\n",
       "      <td>0.58</td>\n",
       "      <td>11.62</td>\n",
       "      <td>0.0</td>\n",
       "      <td>0.00</td>\n",
       "      <td>5</td>\n",
       "    </tr>\n",
       "  </tbody>\n",
       "</table>\n",
       "</div>"
      ],
      "text/plain": [
       "          RI     Na    Mg    Al     Si     K     Ca   Ba    Fe  Type\n",
       "113  1.51892  13.46  3.83  1.26  72.55  0.57   8.21  0.0  0.14     2\n",
       "94   1.51629  12.71  3.33  1.49  73.28  0.67   8.24  0.0  0.00     2\n",
       "88   1.51618  13.01  3.50  1.48  72.89  0.60   8.12  0.0  0.00     2\n",
       "160  1.51832  13.33  3.34  1.54  72.14  0.56   8.99  0.0  0.00     3\n",
       "166  1.52151  11.03  1.71  1.56  73.44  0.58  11.62  0.0  0.00     5"
      ]
     },
     "execution_count": 34,
     "metadata": {},
     "output_type": "execute_result"
    }
   ],
   "source": [
    "#df = pd.read_csv('../input/glass.csv')\n",
    "df = pd.read_csv('glass.csv')\n",
    "\n",
    "df.sample(5)"
   ]
  },
  {
   "cell_type": "markdown",
   "metadata": {},
   "source": [
    "## Unbalanced classes\n",
    "\n",
    "The classes in this dataset are not equally represented. Classes `3`, `5` and `6` are really poor and past analyses show that the algorithms struggle to classify data for them."
   ]
  },
  {
   "cell_type": "code",
   "execution_count": 35,
   "metadata": {
    "collapsed": false
   },
   "outputs": [
    {
     "data": {
      "text/html": [
       "<div>\n",
       "<table border=\"1\" class=\"dataframe\">\n",
       "  <thead>\n",
       "    <tr style=\"text-align: right;\">\n",
       "      <th></th>\n",
       "      <th>RI</th>\n",
       "      <th>Na</th>\n",
       "      <th>Mg</th>\n",
       "      <th>Al</th>\n",
       "      <th>Si</th>\n",
       "      <th>K</th>\n",
       "      <th>Ca</th>\n",
       "      <th>Ba</th>\n",
       "      <th>Fe</th>\n",
       "    </tr>\n",
       "    <tr>\n",
       "      <th>Type</th>\n",
       "      <th></th>\n",
       "      <th></th>\n",
       "      <th></th>\n",
       "      <th></th>\n",
       "      <th></th>\n",
       "      <th></th>\n",
       "      <th></th>\n",
       "      <th></th>\n",
       "      <th></th>\n",
       "    </tr>\n",
       "  </thead>\n",
       "  <tbody>\n",
       "    <tr>\n",
       "      <th>1</th>\n",
       "      <td>70</td>\n",
       "      <td>70</td>\n",
       "      <td>70</td>\n",
       "      <td>70</td>\n",
       "      <td>70</td>\n",
       "      <td>70</td>\n",
       "      <td>70</td>\n",
       "      <td>70</td>\n",
       "      <td>70</td>\n",
       "    </tr>\n",
       "    <tr>\n",
       "      <th>2</th>\n",
       "      <td>76</td>\n",
       "      <td>76</td>\n",
       "      <td>76</td>\n",
       "      <td>76</td>\n",
       "      <td>76</td>\n",
       "      <td>76</td>\n",
       "      <td>76</td>\n",
       "      <td>76</td>\n",
       "      <td>76</td>\n",
       "    </tr>\n",
       "    <tr>\n",
       "      <th>3</th>\n",
       "      <td>17</td>\n",
       "      <td>17</td>\n",
       "      <td>17</td>\n",
       "      <td>17</td>\n",
       "      <td>17</td>\n",
       "      <td>17</td>\n",
       "      <td>17</td>\n",
       "      <td>17</td>\n",
       "      <td>17</td>\n",
       "    </tr>\n",
       "    <tr>\n",
       "      <th>5</th>\n",
       "      <td>13</td>\n",
       "      <td>13</td>\n",
       "      <td>13</td>\n",
       "      <td>13</td>\n",
       "      <td>13</td>\n",
       "      <td>13</td>\n",
       "      <td>13</td>\n",
       "      <td>13</td>\n",
       "      <td>13</td>\n",
       "    </tr>\n",
       "    <tr>\n",
       "      <th>6</th>\n",
       "      <td>9</td>\n",
       "      <td>9</td>\n",
       "      <td>9</td>\n",
       "      <td>9</td>\n",
       "      <td>9</td>\n",
       "      <td>9</td>\n",
       "      <td>9</td>\n",
       "      <td>9</td>\n",
       "      <td>9</td>\n",
       "    </tr>\n",
       "    <tr>\n",
       "      <th>7</th>\n",
       "      <td>29</td>\n",
       "      <td>29</td>\n",
       "      <td>29</td>\n",
       "      <td>29</td>\n",
       "      <td>29</td>\n",
       "      <td>29</td>\n",
       "      <td>29</td>\n",
       "      <td>29</td>\n",
       "      <td>29</td>\n",
       "    </tr>\n",
       "  </tbody>\n",
       "</table>\n",
       "</div>"
      ],
      "text/plain": [
       "      RI  Na  Mg  Al  Si   K  Ca  Ba  Fe\n",
       "Type                                    \n",
       "1     70  70  70  70  70  70  70  70  70\n",
       "2     76  76  76  76  76  76  76  76  76\n",
       "3     17  17  17  17  17  17  17  17  17\n",
       "5     13  13  13  13  13  13  13  13  13\n",
       "6      9   9   9   9   9   9   9   9   9\n",
       "7     29  29  29  29  29  29  29  29  29"
      ]
     },
     "execution_count": 35,
     "metadata": {},
     "output_type": "execute_result"
    }
   ],
   "source": [
    "df.groupby(by='Type').count()"
   ]
  },
  {
   "cell_type": "markdown",
   "metadata": {},
   "source": [
    "I try to find some common values in records for those classes. The goal is to duplicate data including some variation in order to \"reinforce\" the classification.\n",
    "\n",
    "### Past results\n",
    "Before doing it, I note here the past performances to see if there's an improvement.\n",
    "\n",
    "This is the correlation between the features and the class:\n",
    "* Mg      0.744993\n",
    "* Al      0.598829\n",
    "* Ba      0.575161\n",
    "* Na      0.502898\n",
    "* Fe      0.188278\n",
    "* RI      0.164237\n",
    "* Si      0.151565\n",
    "* K       0.010054\n",
    "* Ca      0.000952\n",
    "\n",
    "This is the best estimator perf for a Random Forest:\n",
    "```\n",
    "0.7890625\n",
    "{'n_estimators': 100, 'min_samples_split': 2, 'criterion': 'entropy', 'min_samples_leaf': 1}\n",
    "```\n",
    "\n",
    "And this is the cross-validation score:\n",
    "`Score: 0.756`\n",
    "\n",
    "Let's go.\n"
   ]
  },
  {
   "cell_type": "markdown",
   "metadata": {},
   "source": [
    "### Generating random samples\n",
    "\n",
    "I create some useful function that helps me create new samples for the \"poor\" classes using their mean and standard deviation values and setting to 0 a set of labels"
   ]
  },
  {
   "cell_type": "code",
   "execution_count": 36,
   "metadata": {
    "collapsed": false
   },
   "outputs": [],
   "source": [
    "\n",
    "# generate a -1 or +1 at random to add or subtract a random value from the mean\n",
    "def random_sign():\n",
    "    return [-1 if np.random.random()<.5 else 1]\n",
    "\n",
    "# generate a new fake sample based on the passed means and standard deviations arrays,\n",
    "# setting the passed Type value and the passed labels at zero\n",
    "def gen_sample(mm, ss, type, labels_at_zero=[]):\n",
    "    ix = ['RI', 'Na', 'Mg', 'Al', 'Si', 'K', 'Ca', 'Ba', 'Fe', 'Type']\n",
    "    new = np.abs(mm + (ss * np.random.random(len(ix)) * random_sign() ))\n",
    "    for l in labels_at_zero:\n",
    "        new[l] = 0\n",
    "    new['Type'] = type\n",
    "    return new\n",
    "\n"
   ]
  },
  {
   "cell_type": "code",
   "execution_count": 37,
   "metadata": {
    "collapsed": false
   },
   "outputs": [
    {
     "data": {
      "text/html": [
       "<div>\n",
       "<table border=\"1\" class=\"dataframe\">\n",
       "  <thead>\n",
       "    <tr style=\"text-align: right;\">\n",
       "      <th></th>\n",
       "      <th>RI</th>\n",
       "      <th>Na</th>\n",
       "      <th>Mg</th>\n",
       "      <th>Al</th>\n",
       "      <th>Si</th>\n",
       "      <th>K</th>\n",
       "      <th>Ca</th>\n",
       "      <th>Ba</th>\n",
       "      <th>Fe</th>\n",
       "      <th>Type</th>\n",
       "    </tr>\n",
       "  </thead>\n",
       "  <tbody>\n",
       "    <tr>\n",
       "      <th>count</th>\n",
       "      <td>9.000000</td>\n",
       "      <td>9.000000</td>\n",
       "      <td>9.000000</td>\n",
       "      <td>9.000000</td>\n",
       "      <td>9.000000</td>\n",
       "      <td>9.0</td>\n",
       "      <td>9.000000</td>\n",
       "      <td>9.0</td>\n",
       "      <td>9.0</td>\n",
       "      <td>9.0</td>\n",
       "    </tr>\n",
       "    <tr>\n",
       "      <th>mean</th>\n",
       "      <td>1.517456</td>\n",
       "      <td>14.646667</td>\n",
       "      <td>1.305556</td>\n",
       "      <td>1.366667</td>\n",
       "      <td>73.206667</td>\n",
       "      <td>0.0</td>\n",
       "      <td>9.356667</td>\n",
       "      <td>0.0</td>\n",
       "      <td>0.0</td>\n",
       "      <td>6.0</td>\n",
       "    </tr>\n",
       "    <tr>\n",
       "      <th>std</th>\n",
       "      <td>0.003116</td>\n",
       "      <td>1.084020</td>\n",
       "      <td>1.097134</td>\n",
       "      <td>0.571861</td>\n",
       "      <td>1.079467</td>\n",
       "      <td>0.0</td>\n",
       "      <td>1.449948</td>\n",
       "      <td>0.0</td>\n",
       "      <td>0.0</td>\n",
       "      <td>0.0</td>\n",
       "    </tr>\n",
       "    <tr>\n",
       "      <th>min</th>\n",
       "      <td>1.511150</td>\n",
       "      <td>13.790000</td>\n",
       "      <td>0.000000</td>\n",
       "      <td>0.340000</td>\n",
       "      <td>72.370000</td>\n",
       "      <td>0.0</td>\n",
       "      <td>6.650000</td>\n",
       "      <td>0.0</td>\n",
       "      <td>0.0</td>\n",
       "      <td>6.0</td>\n",
       "    </tr>\n",
       "    <tr>\n",
       "      <th>25%</th>\n",
       "      <td>1.518290</td>\n",
       "      <td>14.090000</td>\n",
       "      <td>0.000000</td>\n",
       "      <td>1.190000</td>\n",
       "      <td>72.500000</td>\n",
       "      <td>0.0</td>\n",
       "      <td>9.260000</td>\n",
       "      <td>0.0</td>\n",
       "      <td>0.0</td>\n",
       "      <td>6.0</td>\n",
       "    </tr>\n",
       "    <tr>\n",
       "      <th>50%</th>\n",
       "      <td>1.518880</td>\n",
       "      <td>14.400000</td>\n",
       "      <td>1.740000</td>\n",
       "      <td>1.560000</td>\n",
       "      <td>72.740000</td>\n",
       "      <td>0.0</td>\n",
       "      <td>9.570000</td>\n",
       "      <td>0.0</td>\n",
       "      <td>0.0</td>\n",
       "      <td>6.0</td>\n",
       "    </tr>\n",
       "    <tr>\n",
       "      <th>75%</th>\n",
       "      <td>1.519160</td>\n",
       "      <td>14.560000</td>\n",
       "      <td>2.240000</td>\n",
       "      <td>1.660000</td>\n",
       "      <td>73.480000</td>\n",
       "      <td>0.0</td>\n",
       "      <td>9.950000</td>\n",
       "      <td>0.0</td>\n",
       "      <td>0.0</td>\n",
       "      <td>6.0</td>\n",
       "    </tr>\n",
       "    <tr>\n",
       "      <th>max</th>\n",
       "      <td>1.519690</td>\n",
       "      <td>17.380000</td>\n",
       "      <td>2.410000</td>\n",
       "      <td>2.090000</td>\n",
       "      <td>75.410000</td>\n",
       "      <td>0.0</td>\n",
       "      <td>11.220000</td>\n",
       "      <td>0.0</td>\n",
       "      <td>0.0</td>\n",
       "      <td>6.0</td>\n",
       "    </tr>\n",
       "  </tbody>\n",
       "</table>\n",
       "</div>"
      ],
      "text/plain": [
       "             RI         Na        Mg        Al         Si    K         Ca  \\\n",
       "count  9.000000   9.000000  9.000000  9.000000   9.000000  9.0   9.000000   \n",
       "mean   1.517456  14.646667  1.305556  1.366667  73.206667  0.0   9.356667   \n",
       "std    0.003116   1.084020  1.097134  0.571861   1.079467  0.0   1.449948   \n",
       "min    1.511150  13.790000  0.000000  0.340000  72.370000  0.0   6.650000   \n",
       "25%    1.518290  14.090000  0.000000  1.190000  72.500000  0.0   9.260000   \n",
       "50%    1.518880  14.400000  1.740000  1.560000  72.740000  0.0   9.570000   \n",
       "75%    1.519160  14.560000  2.240000  1.660000  73.480000  0.0   9.950000   \n",
       "max    1.519690  17.380000  2.410000  2.090000  75.410000  0.0  11.220000   \n",
       "\n",
       "        Ba   Fe  Type  \n",
       "count  9.0  9.0   9.0  \n",
       "mean   0.0  0.0   6.0  \n",
       "std    0.0  0.0   0.0  \n",
       "min    0.0  0.0   6.0  \n",
       "25%    0.0  0.0   6.0  \n",
       "50%    0.0  0.0   6.0  \n",
       "75%    0.0  0.0   6.0  \n",
       "max    0.0  0.0   6.0  "
      ]
     },
     "execution_count": 37,
     "metadata": {},
     "output_type": "execute_result"
    }
   ],
   "source": [
    "# Class 6\n",
    "# Selecting the 'mean' and 'std' columns from the describe() to generate random values for the class\n",
    "means = df[df['Type']==6].describe().loc['mean',:]\n",
    "stds = df[df['Type']==6].describe().loc['std',:]\n",
    "\n",
    "# this was the full table, I took only the second and third row\n",
    "df[df['Type']==6].describe()"
   ]
  },
  {
   "cell_type": "code",
   "execution_count": 38,
   "metadata": {
    "collapsed": false
   },
   "outputs": [],
   "source": [
    "# using a temp value\n",
    "dfnew = df\n",
    "for i in range(0, 15):\n",
    "    dfnew = dfnew.append(gen_sample(means, stds, 6, ['Ba', 'Fe', 'K']), ignore_index=True)"
   ]
  },
  {
   "cell_type": "code",
   "execution_count": 39,
   "metadata": {
    "collapsed": false
   },
   "outputs": [
    {
     "data": {
      "text/html": [
       "<div>\n",
       "<table border=\"1\" class=\"dataframe\">\n",
       "  <thead>\n",
       "    <tr style=\"text-align: right;\">\n",
       "      <th></th>\n",
       "      <th>RI</th>\n",
       "      <th>Na</th>\n",
       "      <th>Mg</th>\n",
       "      <th>Al</th>\n",
       "      <th>Si</th>\n",
       "      <th>K</th>\n",
       "      <th>Ca</th>\n",
       "      <th>Ba</th>\n",
       "      <th>Fe</th>\n",
       "      <th>Type</th>\n",
       "    </tr>\n",
       "  </thead>\n",
       "  <tbody>\n",
       "    <tr>\n",
       "      <th>count</th>\n",
       "      <td>24.000000</td>\n",
       "      <td>24.000000</td>\n",
       "      <td>24.000000</td>\n",
       "      <td>24.000000</td>\n",
       "      <td>24.000000</td>\n",
       "      <td>24.0</td>\n",
       "      <td>24.000000</td>\n",
       "      <td>24.0</td>\n",
       "      <td>24.0</td>\n",
       "      <td>24.0</td>\n",
       "    </tr>\n",
       "    <tr>\n",
       "      <th>mean</th>\n",
       "      <td>1.517456</td>\n",
       "      <td>14.678591</td>\n",
       "      <td>1.361889</td>\n",
       "      <td>1.402145</td>\n",
       "      <td>73.266004</td>\n",
       "      <td>0.0</td>\n",
       "      <td>9.312509</td>\n",
       "      <td>0.0</td>\n",
       "      <td>0.0</td>\n",
       "      <td>6.0</td>\n",
       "    </tr>\n",
       "    <tr>\n",
       "      <th>std</th>\n",
       "      <td>0.002102</td>\n",
       "      <td>0.792984</td>\n",
       "      <td>0.788734</td>\n",
       "      <td>0.449066</td>\n",
       "      <td>0.876232</td>\n",
       "      <td>0.0</td>\n",
       "      <td>1.100887</td>\n",
       "      <td>0.0</td>\n",
       "      <td>0.0</td>\n",
       "      <td>0.0</td>\n",
       "    </tr>\n",
       "    <tr>\n",
       "      <th>min</th>\n",
       "      <td>1.511150</td>\n",
       "      <td>13.640782</td>\n",
       "      <td>0.000000</td>\n",
       "      <td>0.340000</td>\n",
       "      <td>72.138512</td>\n",
       "      <td>0.0</td>\n",
       "      <td>6.650000</td>\n",
       "      <td>0.0</td>\n",
       "      <td>0.0</td>\n",
       "      <td>6.0</td>\n",
       "    </tr>\n",
       "    <tr>\n",
       "      <th>25%</th>\n",
       "      <td>1.516517</td>\n",
       "      <td>14.135000</td>\n",
       "      <td>0.774246</td>\n",
       "      <td>1.155295</td>\n",
       "      <td>72.571538</td>\n",
       "      <td>0.0</td>\n",
       "      <td>8.408434</td>\n",
       "      <td>0.0</td>\n",
       "      <td>0.0</td>\n",
       "      <td>6.0</td>\n",
       "    </tr>\n",
       "    <tr>\n",
       "      <th>50%</th>\n",
       "      <td>1.518108</td>\n",
       "      <td>14.520670</td>\n",
       "      <td>1.494333</td>\n",
       "      <td>1.532534</td>\n",
       "      <td>72.856573</td>\n",
       "      <td>0.0</td>\n",
       "      <td>9.585623</td>\n",
       "      <td>0.0</td>\n",
       "      <td>0.0</td>\n",
       "      <td>6.0</td>\n",
       "    </tr>\n",
       "    <tr>\n",
       "      <th>75%</th>\n",
       "      <td>1.518922</td>\n",
       "      <td>14.995445</td>\n",
       "      <td>2.153026</td>\n",
       "      <td>1.697023</td>\n",
       "      <td>73.966663</td>\n",
       "      <td>0.0</td>\n",
       "      <td>9.952900</td>\n",
       "      <td>0.0</td>\n",
       "      <td>0.0</td>\n",
       "      <td>6.0</td>\n",
       "    </tr>\n",
       "    <tr>\n",
       "      <th>max</th>\n",
       "      <td>1.519690</td>\n",
       "      <td>17.380000</td>\n",
       "      <td>2.410000</td>\n",
       "      <td>2.090000</td>\n",
       "      <td>75.410000</td>\n",
       "      <td>0.0</td>\n",
       "      <td>11.220000</td>\n",
       "      <td>0.0</td>\n",
       "      <td>0.0</td>\n",
       "      <td>6.0</td>\n",
       "    </tr>\n",
       "  </tbody>\n",
       "</table>\n",
       "</div>"
      ],
      "text/plain": [
       "              RI         Na         Mg         Al         Si     K         Ca  \\\n",
       "count  24.000000  24.000000  24.000000  24.000000  24.000000  24.0  24.000000   \n",
       "mean    1.517456  14.678591   1.361889   1.402145  73.266004   0.0   9.312509   \n",
       "std     0.002102   0.792984   0.788734   0.449066   0.876232   0.0   1.100887   \n",
       "min     1.511150  13.640782   0.000000   0.340000  72.138512   0.0   6.650000   \n",
       "25%     1.516517  14.135000   0.774246   1.155295  72.571538   0.0   8.408434   \n",
       "50%     1.518108  14.520670   1.494333   1.532534  72.856573   0.0   9.585623   \n",
       "75%     1.518922  14.995445   2.153026   1.697023  73.966663   0.0   9.952900   \n",
       "max     1.519690  17.380000   2.410000   2.090000  75.410000   0.0  11.220000   \n",
       "\n",
       "         Ba    Fe  Type  \n",
       "count  24.0  24.0  24.0  \n",
       "mean    0.0   0.0   6.0  \n",
       "std     0.0   0.0   0.0  \n",
       "min     0.0   0.0   6.0  \n",
       "25%     0.0   0.0   6.0  \n",
       "50%     0.0   0.0   6.0  \n",
       "75%     0.0   0.0   6.0  \n",
       "max     0.0   0.0   6.0  "
      ]
     },
     "execution_count": 39,
     "metadata": {},
     "output_type": "execute_result"
    }
   ],
   "source": [
    "# Let's check what happened\n",
    "dfnew[dfnew['Type']==6].describe()"
   ]
  },
  {
   "cell_type": "markdown",
   "metadata": {},
   "source": [
    "Count raised to 19, so correctly +10. Standard deviation obviously decreased because I was adding random values inside the stddev range. Maybe this helps prediction too but I feel I'm corrupting the data a bit more than I wanted.\n",
    "\n",
    "Now I do the same for the rest of the classes. BTW, I already checked that classes 3 and 5 do not have blank features."
   ]
  },
  {
   "cell_type": "code",
   "execution_count": 40,
   "metadata": {
    "collapsed": true
   },
   "outputs": [],
   "source": [
    "# Class 3\n",
    "# Selecting the 'mean' and 'std' columns from the describe() to generate random values for the class\n",
    "means = df[df['Type']==3].describe().loc['mean',:]\n",
    "stds = df[df['Type']==3].describe().loc['std',:]\n",
    "\n",
    "for i in range(0, 20):\n",
    "    dfnew = dfnew.append(gen_sample(means, stds, 3, []), ignore_index=True)\n",
    "\n",
    "# Class 5\n",
    "# Selecting the 'mean' and 'std' columns from the describe() to generate random values for the class\n",
    "means = df[df['Type']==5].describe().loc['mean',:]\n",
    "stds = df[df['Type']==5].describe().loc['std',:]\n",
    "for i in range(0, 8):\n",
    "    dfnew = dfnew.append(gen_sample(means, stds, 5, []), ignore_index=True)\n"
   ]
  },
  {
   "cell_type": "markdown",
   "metadata": {},
   "source": [
    "### A final check on the data"
   ]
  },
  {
   "cell_type": "code",
   "execution_count": 41,
   "metadata": {
    "collapsed": false
   },
   "outputs": [
    {
     "data": {
      "text/html": [
       "<div>\n",
       "<table border=\"1\" class=\"dataframe\">\n",
       "  <thead>\n",
       "    <tr style=\"text-align: right;\">\n",
       "      <th></th>\n",
       "      <th>RI</th>\n",
       "      <th>Na</th>\n",
       "      <th>Mg</th>\n",
       "      <th>Al</th>\n",
       "      <th>Si</th>\n",
       "      <th>K</th>\n",
       "      <th>Ca</th>\n",
       "      <th>Ba</th>\n",
       "      <th>Fe</th>\n",
       "    </tr>\n",
       "    <tr>\n",
       "      <th>Type</th>\n",
       "      <th></th>\n",
       "      <th></th>\n",
       "      <th></th>\n",
       "      <th></th>\n",
       "      <th></th>\n",
       "      <th></th>\n",
       "      <th></th>\n",
       "      <th></th>\n",
       "      <th></th>\n",
       "    </tr>\n",
       "  </thead>\n",
       "  <tbody>\n",
       "    <tr>\n",
       "      <th>1.0</th>\n",
       "      <td>70</td>\n",
       "      <td>70</td>\n",
       "      <td>70</td>\n",
       "      <td>70</td>\n",
       "      <td>70</td>\n",
       "      <td>70</td>\n",
       "      <td>70</td>\n",
       "      <td>70</td>\n",
       "      <td>70</td>\n",
       "    </tr>\n",
       "    <tr>\n",
       "      <th>2.0</th>\n",
       "      <td>76</td>\n",
       "      <td>76</td>\n",
       "      <td>76</td>\n",
       "      <td>76</td>\n",
       "      <td>76</td>\n",
       "      <td>76</td>\n",
       "      <td>76</td>\n",
       "      <td>76</td>\n",
       "      <td>76</td>\n",
       "    </tr>\n",
       "    <tr>\n",
       "      <th>3.0</th>\n",
       "      <td>37</td>\n",
       "      <td>37</td>\n",
       "      <td>37</td>\n",
       "      <td>37</td>\n",
       "      <td>37</td>\n",
       "      <td>37</td>\n",
       "      <td>37</td>\n",
       "      <td>37</td>\n",
       "      <td>37</td>\n",
       "    </tr>\n",
       "    <tr>\n",
       "      <th>5.0</th>\n",
       "      <td>21</td>\n",
       "      <td>21</td>\n",
       "      <td>21</td>\n",
       "      <td>21</td>\n",
       "      <td>21</td>\n",
       "      <td>21</td>\n",
       "      <td>21</td>\n",
       "      <td>21</td>\n",
       "      <td>21</td>\n",
       "    </tr>\n",
       "    <tr>\n",
       "      <th>6.0</th>\n",
       "      <td>24</td>\n",
       "      <td>24</td>\n",
       "      <td>24</td>\n",
       "      <td>24</td>\n",
       "      <td>24</td>\n",
       "      <td>24</td>\n",
       "      <td>24</td>\n",
       "      <td>24</td>\n",
       "      <td>24</td>\n",
       "    </tr>\n",
       "    <tr>\n",
       "      <th>7.0</th>\n",
       "      <td>29</td>\n",
       "      <td>29</td>\n",
       "      <td>29</td>\n",
       "      <td>29</td>\n",
       "      <td>29</td>\n",
       "      <td>29</td>\n",
       "      <td>29</td>\n",
       "      <td>29</td>\n",
       "      <td>29</td>\n",
       "    </tr>\n",
       "  </tbody>\n",
       "</table>\n",
       "</div>"
      ],
      "text/plain": [
       "      RI  Na  Mg  Al  Si   K  Ca  Ba  Fe\n",
       "Type                                    \n",
       "1.0   70  70  70  70  70  70  70  70  70\n",
       "2.0   76  76  76  76  76  76  76  76  76\n",
       "3.0   37  37  37  37  37  37  37  37  37\n",
       "5.0   21  21  21  21  21  21  21  21  21\n",
       "6.0   24  24  24  24  24  24  24  24  24\n",
       "7.0   29  29  29  29  29  29  29  29  29"
      ]
     },
     "execution_count": 41,
     "metadata": {},
     "output_type": "execute_result"
    }
   ],
   "source": [
    "dfnew.groupby(by='Type').count()\n"
   ]
  },
  {
   "cell_type": "code",
   "execution_count": 42,
   "metadata": {
    "collapsed": true
   },
   "outputs": [],
   "source": [
    "df = dfnew"
   ]
  },
  {
   "cell_type": "markdown",
   "metadata": {
    "_cell_guid": "bc1e5ce0-8c06-a4c1-85ce-2ccd26fa2b7a"
   },
   "source": [
    "### X and Y\n",
    "Dropping the class (`Type` column) from the X set and moving it in the Y set"
   ]
  },
  {
   "cell_type": "code",
   "execution_count": 43,
   "metadata": {
    "_cell_guid": "23722203-27b3-2785-6ec6-816a98a98e1b",
    "collapsed": true
   },
   "outputs": [],
   "source": [
    "X = df.drop(['Type'], axis=1)\n",
    "Y = df['Type']"
   ]
  },
  {
   "cell_type": "markdown",
   "metadata": {
    "_cell_guid": "f3c8088e-d892-3314-e4d3-c3814736ebfd"
   },
   "source": [
    "How the features influence the classification"
   ]
  },
  {
   "cell_type": "code",
   "execution_count": 44,
   "metadata": {
    "_cell_guid": "2523b9e4-d9ae-9a22-9d3f-7272b23f9593",
    "collapsed": false
   },
   "outputs": [
    {
     "data": {
      "text/plain": [
       "Type    1.000000\n",
       "Mg      0.746624\n",
       "Al      0.541915\n",
       "Na      0.515625\n",
       "Ba      0.499839\n",
       "Fe      0.204644\n",
       "Si      0.177599\n",
       "RI      0.174707\n",
       "K       0.038901\n",
       "Ca      0.036938\n",
       "Name: Type, dtype: float64"
      ]
     },
     "execution_count": 44,
     "metadata": {},
     "output_type": "execute_result"
    }
   ],
   "source": [
    "df.corr()['Type'].abs().sort_values(ascending=False)"
   ]
  },
  {
   "cell_type": "markdown",
   "metadata": {
    "_cell_guid": "9988982a-ecc4-d323-2596-54f6bf425616"
   },
   "source": [
    "### Calculating data skewness and possibly unskewing"
   ]
  },
  {
   "cell_type": "code",
   "execution_count": 45,
   "metadata": {
    "_cell_guid": "8587b0ba-812b-25bb-8c87-e71fdf11fe6b",
    "collapsed": false
   },
   "outputs": [
    {
     "name": "stderr",
     "output_type": "stream",
     "text": [
      "/opt/conda/lib/python3.6/site-packages/scipy/stats/morestats.py:905: RuntimeWarning: divide by zero encountered in log\n",
      "  llf -= N / 2.0 * np.log(np.sum((y - y_mean)**2. / N, axis=0))\n",
      "/opt/conda/lib/python3.6/site-packages/scipy/optimize/optimize.py:1877: RuntimeWarning: invalid value encountered in double_scalars\n",
      "  p = (x - v) * tmp2 - (x - w) * tmp1\n",
      "/opt/conda/lib/python3.6/site-packages/scipy/optimize/optimize.py:1878: RuntimeWarning: invalid value encountered in double_scalars\n",
      "  tmp2 = 2.0 * (tmp2 - tmp1)\n",
      "/opt/conda/lib/python3.6/site-packages/scipy/optimize/optimize.py:1876: RuntimeWarning: invalid value encountered in double_scalars\n",
      "  tmp2 = (x - v) * (fx - fw)\n",
      "/opt/conda/lib/python3.6/site-packages/scipy/optimize/optimize.py:1875: RuntimeWarning: invalid value encountered in double_scalars\n",
      "  tmp1 = (x - w) * (fx - fv)\n"
     ]
    },
    {
     "data": {
      "image/png": "[encoded data removed]",
      "text/plain": [
       "<matplotlib.figure.Figure at 0x7f1fce8b8ef0>"
      ]
     },
     "metadata": {},
     "output_type": "display_data"
    },
    {
     "data": {
      "image/png": "[encoded data removed]",
      "text/plain": [
       "<matplotlib.figure.Figure at 0x7f1fceb9a4a8>"
      ]
     },
     "metadata": {},
     "output_type": "display_data"
    },
    {
     "data": {
      "image/png": "[encoded data removed]",
      "text/plain": [
       "<matplotlib.figure.Figure at 0x7f1fce6bfac8>"
      ]
     },
     "metadata": {},
     "output_type": "display_data"
    },
    {
     "data": {
      "image/png": "[encoded data removed]",
      "text/plain": [
       "<matplotlib.figure.Figure at 0x7f1fc65f9c88>"
      ]
     },
     "metadata": {},
     "output_type": "display_data"
    },
    {
     "name": "stderr",
     "output_type": "stream",
     "text": [
      "/opt/conda/lib/python3.6/site-packages/sklearn/preprocessing/data.py:152: UserWarning: Numerical issues were encountered when centering the data and might not be solved. Dataset may contain too large values. You may need to prescale your features.\n",
      "  warnings.warn(\"Numerical issues were encountered \"\n"
     ]
    },
    {
     "data": {
      "image/png": "[encoded data removed]",
      "text/plain": [
       "<matplotlib.figure.Figure at 0x7f1fc67283c8>"
      ]
     },
     "metadata": {},
     "output_type": "display_data"
    },
    {
     "data": {
      "image/png": "[encoded data removed]",
      "text/plain": [
       "<matplotlib.figure.Figure at 0x7f1fc6676fd0>"
      ]
     },
     "metadata": {},
     "output_type": "display_data"
    },
    {
     "name": "stderr",
     "output_type": "stream",
     "text": [
      "/opt/conda/lib/python3.6/site-packages/sklearn/preprocessing/data.py:169: UserWarning: Numerical issues were encountered when scaling the data and might not be solved. The standard deviation of the data is probably very close to 0. \n",
      "  warnings.warn(\"Numerical issues were encountered \"\n"
     ]
    },
    {
     "data": {
      "image/png": "[encoded data removed]",
      "text/plain": [
       "<matplotlib.figure.Figure at 0x7f1fce7939b0>"
      ]
     },
     "metadata": {},
     "output_type": "display_data"
    },
    {
     "name": "stderr",
     "output_type": "stream",
     "text": [
      "/opt/conda/lib/python3.6/site-packages/scipy/optimize/optimize.py:2207: RuntimeWarning: invalid value encountered in double_scalars\n",
      "  w = xb - ((xb - xc) * tmp2 - (xb - xa) * tmp1) / denom\n"
     ]
    },
    {
     "data": {
      "image/png": "[encoded data removed]",
      "text/plain": [
       "<matplotlib.figure.Figure at 0x7f1fce9f8d68>"
      ]
     },
     "metadata": {},
     "output_type": "display_data"
    },
    {
     "data": {
      "image/png": "[encoded data removed]",
      "text/plain": [
       "<matplotlib.figure.Figure at 0x7f1fc653cb00>"
      ]
     },
     "metadata": {},
     "output_type": "display_data"
    }
   ],
   "source": [
    "import matplotlib.pylab as plt\n",
    "from sklearn import preprocessing\n",
    "from scipy.stats import skew\n",
    "from scipy.stats import boxcox\n",
    "\n",
    "# getting features names to loop\n",
    "classes = X.columns.values\n",
    "\n",
    "# This will contain the unskewed features\n",
    "X_unsk = pd.DataFrame()\n",
    "\n",
    "# looping through the \n",
    "for c in classes:\n",
    "    scaled = preprocessing.scale(X[c]) \n",
    "    boxcox_scaled = preprocessing.scale(boxcox(X[c] + np.max(np.abs(X[c]) +1) )[0])\n",
    "    \n",
    "    # Populating \n",
    "    X_unsk[c] = boxcox_scaled\n",
    "    \n",
    "    #Next We calculate Skewness using skew in scipy.stats\n",
    "    skness = skew(scaled)\n",
    "    boxcox_skness = skew(boxcox_scaled)\n",
    "    \n",
    "    #We draw the histograms \n",
    "    figure = plt.figure()\n",
    "    # First the original data shape\n",
    "    figure.add_subplot(121)   \n",
    "    plt.hist(scaled,facecolor='blue',alpha=0.55) \n",
    "    plt.xlabel(c + \" - Transformed\") \n",
    "    plt.title(\"Skewness: {0:.2f}\".format(skness)) \n",
    "    \n",
    "    # then the unskewed\n",
    "    figure.add_subplot(122) \n",
    "    plt.hist(boxcox_scaled,facecolor='red',alpha=0.55) \n",
    "    plt.title(\"Skewness: {0:.2f}\".format(boxcox_skness)) \n",
    "\n",
    "    plt.show()"
   ]
  },
  {
   "cell_type": "markdown",
   "metadata": {
    "_cell_guid": "ff60cf20-6999-e27d-7202-3ded7afbc018"
   },
   "source": [
    "In most cases the BoxCox unskewing is successfully transforming the data"
   ]
  },
  {
   "cell_type": "markdown",
   "metadata": {
    "_cell_guid": "3e901416-d0c4-01b2-0df2-2c0948aa48e2"
   },
   "source": [
    "## Hyperparameters\n",
    "\n",
    "Searching the best parameters for the Random Forest Classifier "
   ]
  },
  {
   "cell_type": "code",
   "execution_count": 46,
   "metadata": {
    "_cell_guid": "21ae28c1-569d-a67f-3da8-e388c737f9a4",
    "collapsed": false
   },
   "outputs": [
    {
     "name": "stdout",
     "output_type": "stream",
     "text": [
      "Fitting 3 folds for each of 90 candidates, totalling 270 fits\n"
     ]
    },
    {
     "name": "stderr",
     "output_type": "stream",
     "text": [
      "[Parallel(n_jobs=-1)]: Done  42 tasks      | elapsed:    7.5s\n",
      "[Parallel(n_jobs=-1)]: Done 192 tasks      | elapsed:   34.4s\n",
      "[Parallel(n_jobs=-1)]: Done 270 out of 270 | elapsed:   47.5s finished\n"
     ]
    }
   ],
   "source": [
    "from sklearn.model_selection import GridSearchCV\n",
    "from sklearn.ensemble import RandomForestClassifier\n",
    "from sklearn.model_selection import train_test_split\n",
    "import math\n",
    "\n",
    "# Here I use the unskewed dataset\n",
    "X = X_unsk\n",
    "X_tr, X_ts, y_tr, y_ts = train_test_split(X, Y, test_size=0.40, random_state=42)\n",
    "\n",
    "rf = RandomForestClassifier(max_features='auto', oob_score=True, random_state=1, n_jobs=-1)\n",
    "param_grid = { \"criterion\" : [\"gini\", \"entropy\"]\n",
    "              , \"min_samples_leaf\" : [1, 5, 10]\n",
    "              , \"min_samples_split\" : [2, 4, 10, 12, 16]\n",
    "              , \"n_estimators\": [100, 125, 200]}\n",
    "gs = GridSearchCV(estimator=rf, param_grid=param_grid, scoring='accuracy', cv=3, n_jobs=-1, verbose=1)\n",
    "gs = gs.fit(X_tr, y_tr)"
   ]
  },
  {
   "cell_type": "markdown",
   "metadata": {
    "_cell_guid": "cd44ce71-000a-d3be-3cd9-3cc5881e9c62"
   },
   "source": [
    "### Score\n",
    "\n",
    "Printing best score performance and algorithm parameters"
   ]
  },
  {
   "cell_type": "code",
   "execution_count": 47,
   "metadata": {
    "_cell_guid": "573b89f2-62e7-873c-6948-ff3dce57e0b5",
    "collapsed": false
   },
   "outputs": [
    {
     "name": "stdout",
     "output_type": "stream",
     "text": [
      "0.772727272727\n",
      "{'criterion': 'gini', 'min_samples_leaf': 1, 'min_samples_split': 2, 'n_estimators': 125}\n"
     ]
    }
   ],
   "source": [
    "print(gs.best_score_)\n",
    "print(gs.best_params_)"
   ]
  },
  {
   "cell_type": "markdown",
   "metadata": {
    "_cell_guid": "721fd245-6596-d738-cebc-f912b31da533"
   },
   "source": [
    "### Training and validation set\n",
    "\n",
    "Final training with the best hyperparameters found by GridSearchCV"
   ]
  },
  {
   "cell_type": "code",
   "execution_count": 48,
   "metadata": {
    "_cell_guid": "7013de95-ad11-491f-4a99-eaf2c5dbfb36",
    "collapsed": false
   },
   "outputs": [
    {
     "name": "stdout",
     "output_type": "stream",
     "text": [
      "Score: 0.670\n"
     ]
    }
   ],
   "source": [
    "bp = gs.best_params_\n",
    "rf = RandomForestClassifier( criterion=bp['criterion'], \n",
    "                             n_estimators=bp['n_estimators'],\n",
    "                             min_samples_split=bp['min_samples_split'],\n",
    "                             min_samples_leaf=bp['min_samples_leaf'],\n",
    "                             max_features='auto',\n",
    "                             oob_score=True,\n",
    "                             random_state=1,\n",
    "                             n_jobs=-1)\n",
    "\n",
    "rf.fit(X_tr, y_tr)\n",
    "pred = rf.predict(X_ts)\n",
    "\n",
    "score = rf.score(X_ts, y_ts)\n",
    "print(\"Score: %.3f\" % (score))"
   ]
  },
  {
   "cell_type": "markdown",
   "metadata": {
    "_cell_guid": "1ef6ace5-a7b8-0727-e17c-545553119108"
   },
   "source": [
    "Works better on the training set but worse on the validation. It looks like the fake data is overfitting the algorithm.\n",
    "\n",
    "### Features importance\n",
    "This is the features importances for the algorithm"
   ]
  },
  {
   "cell_type": "code",
   "execution_count": 49,
   "metadata": {
    "_cell_guid": "ea4593e6-be08-f9ff-20ec-b5abaf6df6dc",
    "collapsed": false
   },
   "outputs": [
    {
     "data": {
      "text/html": [
       "<div>\n",
       "<table border=\"1\" class=\"dataframe\">\n",
       "  <thead>\n",
       "    <tr style=\"text-align: right;\">\n",
       "      <th></th>\n",
       "      <th>variable</th>\n",
       "      <th>importance</th>\n",
       "    </tr>\n",
       "  </thead>\n",
       "  <tbody>\n",
       "    <tr>\n",
       "      <th>3</th>\n",
       "      <td>Al</td>\n",
       "      <td>0.216273</td>\n",
       "    </tr>\n",
       "    <tr>\n",
       "      <th>2</th>\n",
       "      <td>Mg</td>\n",
       "      <td>0.198641</td>\n",
       "    </tr>\n",
       "    <tr>\n",
       "      <th>6</th>\n",
       "      <td>Ca</td>\n",
       "      <td>0.155343</td>\n",
       "    </tr>\n",
       "    <tr>\n",
       "      <th>1</th>\n",
       "      <td>Na</td>\n",
       "      <td>0.135519</td>\n",
       "    </tr>\n",
       "    <tr>\n",
       "      <th>5</th>\n",
       "      <td>K</td>\n",
       "      <td>0.120188</td>\n",
       "    </tr>\n",
       "    <tr>\n",
       "      <th>4</th>\n",
       "      <td>Si</td>\n",
       "      <td>0.106123</td>\n",
       "    </tr>\n",
       "    <tr>\n",
       "      <th>8</th>\n",
       "      <td>Fe</td>\n",
       "      <td>0.067913</td>\n",
       "    </tr>\n",
       "    <tr>\n",
       "      <th>0</th>\n",
       "      <td>RI</td>\n",
       "      <td>0.000000</td>\n",
       "    </tr>\n",
       "    <tr>\n",
       "      <th>7</th>\n",
       "      <td>Ba</td>\n",
       "      <td>0.000000</td>\n",
       "    </tr>\n",
       "  </tbody>\n",
       "</table>\n",
       "</div>"
      ],
      "text/plain": [
       "  variable  importance\n",
       "3       Al    0.216273\n",
       "2       Mg    0.198641\n",
       "6       Ca    0.155343\n",
       "1       Na    0.135519\n",
       "5        K    0.120188\n",
       "4       Si    0.106123\n",
       "8       Fe    0.067913\n",
       "0       RI    0.000000\n",
       "7       Ba    0.000000"
      ]
     },
     "execution_count": 49,
     "metadata": {},
     "output_type": "execute_result"
    }
   ],
   "source": [
    "pd.concat((pd.DataFrame(X.columns, columns = ['variable']), \n",
    "           pd.DataFrame(rf.feature_importances_, columns = ['importance'])), \n",
    "          axis = 1).sort_values(by='importance', ascending = False)[:20]"
   ]
  },
  {
   "cell_type": "markdown",
   "metadata": {
    "_cell_guid": "3575c314-b157-7709-579a-9a6b7d7515b2"
   },
   "source": [
    "Taking a look at the confusion matrix."
   ]
  },
  {
   "cell_type": "code",
   "execution_count": 50,
   "metadata": {
    "_cell_guid": "e9efadc5-fc39-d261-0081-36dbb4aaebd2",
    "collapsed": false
   },
   "outputs": [
    {
     "name": "stdout",
     "output_type": "stream",
     "text": [
      "Confusion matrix, without normalization\n",
      "[[18  6  5  0  0  0]\n",
      " [10 17  1  0  1  1]\n",
      " [ 5  1  8  0  0  0]\n",
      " [ 0  2  0  9  0  0]\n",
      " [ 0  0  0  0 10  1]\n",
      " [ 0  0  0  0  1  7]]\n"
     ]
    },
    {
     "data": {
      "image/png": "[encoded data removed]",
      "text/plain": [
       "<matplotlib.figure.Figure at 0x7f1fd83cc8d0>"
      ]
     },
     "metadata": {},
     "output_type": "display_data"
    }
   ],
   "source": [
    "from sklearn.metrics import confusion_matrix\n",
    "import itertools\n",
    "#print(y_ts.values)\n",
    "#print(pred)\n",
    "\n",
    "def plot_confusion_matrix(cm, classes,\n",
    "                          normalize=False,\n",
    "                          title='Confusion matrix',\n",
    "                          cmap=plt.cm.Blues):\n",
    "    \"\"\"\n",
    "    This function prints and plots the confusion matrix.\n",
    "    Normalization can be applied by setting `normalize=True`.\n",
    "    \"\"\"\n",
    "    plt.imshow(cm, interpolation='nearest', cmap=cmap)\n",
    "    plt.title(title)\n",
    "    plt.colorbar()\n",
    "    tick_marks = np.arange(len(classes))\n",
    "    plt.xticks(tick_marks, classes, rotation=45)\n",
    "    plt.yticks(tick_marks, classes)\n",
    "\n",
    "    if normalize:\n",
    "        cm = (cm.astype('float') / cm.sum(axis=1)[:, np.newaxis]).round(decimals=2)\n",
    "        print(\"Normalized confusion matrix\")\n",
    "    else:\n",
    "        print('Confusion matrix, without normalization')\n",
    "\n",
    "    print(cm)\n",
    "\n",
    "    thresh = cm.max() / 2.\n",
    "    for i, j in itertools.product(range(cm.shape[0]), range(cm.shape[1])):\n",
    "        plt.text(j, i, cm[i, j],\n",
    "                 horizontalalignment=\"center\",\n",
    "                 color=\"white\" if cm[i, j] > thresh else \"black\")\n",
    "\n",
    "    plt.tight_layout()\n",
    "    plt.ylabel('True label')\n",
    "    plt.xlabel('Predicted label')\n",
    "\n",
    "cnf_matrix = confusion_matrix(y_ts.values, pred)\n",
    "\n",
    "plt.figure()\n",
    "plot_confusion_matrix(cnf_matrix, classes=np.sort(y_ts.unique()), normalize=False,\n",
    "                      title='Confusion matrix, without normalization')"
   ]
  },
  {
   "cell_type": "markdown",
   "metadata": {},
   "source": [
    "Classes 3, 4 and 5 are ok now but I corrupted 1 and 2!!"
   ]
  },
  {
   "cell_type": "markdown",
   "metadata": {},
   "source": [
    "## Trying with XGBoost\n",
    "\n",
    "As suggested in the comments, I try to compare this Random Forest model with an XGBoost to see how both perform with this dataset."
   ]
  },
  {
   "cell_type": "code",
   "execution_count": 51,
   "metadata": {
    "collapsed": false
   },
   "outputs": [
    {
     "name": "stdout",
     "output_type": "stream",
     "text": [
      "Fitting 3 folds for each of 18 candidates, totalling 54 fits\n"
     ]
    },
    {
     "name": "stderr",
     "output_type": "stream",
     "text": [
      "[Parallel(n_jobs=-1)]: Done  42 tasks      | elapsed:    6.3s\n",
      "[Parallel(n_jobs=-1)]: Done  54 out of  54 | elapsed:    8.4s finished\n"
     ]
    }
   ],
   "source": [
    "from xgboost import XGBClassifier\n",
    "\n",
    "# Here I use the unskewed dataset\n",
    "X = X_unsk\n",
    "X_tr, X_ts, y_tr, y_ts = train_test_split(X, Y, test_size=0.4, random_state=42)\n",
    "xgb = XGBClassifier()\n",
    "\n",
    "param_grid = { \"max_depth\" : [5]\n",
    "              , \"learning_rate\" : [0.1, 0.125, 0.2]\n",
    "              , \"n_estimators\": [50, 100]\n",
    "              , \"reg_lambda\": [.01, .1, .5]}\n",
    "gs = GridSearchCV(estimator=xgb, param_grid=param_grid, scoring='accuracy', cv=3, n_jobs=-1, verbose=1)\n",
    "gs = gs.fit(X_tr, y_tr)"
   ]
  },
  {
   "cell_type": "code",
   "execution_count": 52,
   "metadata": {
    "collapsed": false
   },
   "outputs": [
    {
     "name": "stdout",
     "output_type": "stream",
     "text": [
      "0.772727272727\n",
      "{'learning_rate': 0.2, 'max_depth': 5, 'n_estimators': 50, 'reg_lambda': 0.1}\n"
     ]
    }
   ],
   "source": [
    "print(gs.best_score_)\n",
    "print(gs.best_params_)"
   ]
  },
  {
   "cell_type": "markdown",
   "metadata": {},
   "source": [
    "The score on the TS is a bit worse than the RF even though I tried many parameters combination."
   ]
  },
  {
   "cell_type": "code",
   "execution_count": 53,
   "metadata": {
    "collapsed": false
   },
   "outputs": [
    {
     "name": "stdout",
     "output_type": "stream",
     "text": [
      "Score: 0.650\n"
     ]
    }
   ],
   "source": [
    "bp = gs.best_params_\n",
    "xgb = XGBClassifier( max_depth=bp['max_depth'], \n",
    "                             n_estimators=bp['n_estimators'],\n",
    "                             learning_rate=bp['learning_rate'],\n",
    "                   reg_lambda=bp['reg_lambda'])\n",
    "\n",
    "xgb.fit(X_tr, y_tr)\n",
    "pred = xgb.predict(X_ts)\n",
    "\n",
    "score = xgb.score(X_ts, y_ts)\n",
    "print(\"Score: %.3f\" % (score))"
   ]
  },
  {
   "cell_type": "markdown",
   "metadata": {},
   "source": [
    "XGBoost instead has gone better."
   ]
  },
  {
   "cell_type": "markdown",
   "metadata": {},
   "source": [
    "The feature importance matrix is slightly different from the RF's one."
   ]
  },
  {
   "cell_type": "code",
   "execution_count": 54,
   "metadata": {
    "collapsed": false
   },
   "outputs": [
    {
     "data": {
      "text/html": [
       "<div>\n",
       "<table border=\"1\" class=\"dataframe\">\n",
       "  <thead>\n",
       "    <tr style=\"text-align: right;\">\n",
       "      <th></th>\n",
       "      <th>variable</th>\n",
       "      <th>importance</th>\n",
       "    </tr>\n",
       "  </thead>\n",
       "  <tbody>\n",
       "    <tr>\n",
       "      <th>2</th>\n",
       "      <td>Mg</td>\n",
       "      <td>0.222222</td>\n",
       "    </tr>\n",
       "    <tr>\n",
       "      <th>3</th>\n",
       "      <td>Al</td>\n",
       "      <td>0.165165</td>\n",
       "    </tr>\n",
       "    <tr>\n",
       "      <th>1</th>\n",
       "      <td>Na</td>\n",
       "      <td>0.157658</td>\n",
       "    </tr>\n",
       "    <tr>\n",
       "      <th>6</th>\n",
       "      <td>Ca</td>\n",
       "      <td>0.154655</td>\n",
       "    </tr>\n",
       "    <tr>\n",
       "      <th>4</th>\n",
       "      <td>Si</td>\n",
       "      <td>0.133634</td>\n",
       "    </tr>\n",
       "    <tr>\n",
       "      <th>5</th>\n",
       "      <td>K</td>\n",
       "      <td>0.101351</td>\n",
       "    </tr>\n",
       "    <tr>\n",
       "      <th>8</th>\n",
       "      <td>Fe</td>\n",
       "      <td>0.065315</td>\n",
       "    </tr>\n",
       "    <tr>\n",
       "      <th>0</th>\n",
       "      <td>RI</td>\n",
       "      <td>0.000000</td>\n",
       "    </tr>\n",
       "    <tr>\n",
       "      <th>7</th>\n",
       "      <td>Ba</td>\n",
       "      <td>0.000000</td>\n",
       "    </tr>\n",
       "  </tbody>\n",
       "</table>\n",
       "</div>"
      ],
      "text/plain": [
       "  variable  importance\n",
       "2       Mg    0.222222\n",
       "3       Al    0.165165\n",
       "1       Na    0.157658\n",
       "6       Ca    0.154655\n",
       "4       Si    0.133634\n",
       "5        K    0.101351\n",
       "8       Fe    0.065315\n",
       "0       RI    0.000000\n",
       "7       Ba    0.000000"
      ]
     },
     "execution_count": 54,
     "metadata": {},
     "output_type": "execute_result"
    }
   ],
   "source": [
    "pd.concat((pd.DataFrame(X.columns, columns = ['variable']), \n",
    "           pd.DataFrame(xgb.feature_importances_, columns = ['importance'])), \n",
    "          axis = 1).sort_values(by='importance', ascending = False)[:20]"
   ]
  },
  {
   "cell_type": "code",
   "execution_count": 55,
   "metadata": {
    "collapsed": false
   },
   "outputs": [
    {
     "name": "stdout",
     "output_type": "stream",
     "text": [
      "Confusion matrix, without normalization\n",
      "[[20  4  5  0  0  0]\n",
      " [ 7 18  3  1  0  1]\n",
      " [ 6  1  7  0  0  0]\n",
      " [ 0  4  0  7  0  0]\n",
      " [ 0  0  0  0  8  3]\n",
      " [ 0  0  0  0  1  7]]\n"
     ]
    },
    {
     "data": {
      "image/png": "[encoded data removed]",
      "text/plain": [
       "<matplotlib.figure.Figure at 0x7f1fce7d2518>"
      ]
     },
     "metadata": {},
     "output_type": "display_data"
    }
   ],
   "source": [
    "cnf_matrix = confusion_matrix(y_ts.values, pred)\n",
    "\n",
    "plt.figure()\n",
    "plot_confusion_matrix(cnf_matrix, classes=np.sort(y_ts.unique()), normalize=False,\n",
    "                      title='Confusion matrix, without normalization')"
   ]
  },
  {
   "cell_type": "markdown",
   "metadata": {},
   "source": [
    "Again the issue here are features 1 and 2 that worked a lot better before the fake data was introduced."
   ]
  },
  {
   "cell_type": "markdown",
   "metadata": {
    "_cell_guid": "3bedebd6-da3c-44bb-11d1-628cbda81859"
   },
   "source": [
    "## Conclusions\n",
    "\n",
    "OLD COMMENT:\n",
    "> I'm really a novice in ML but I'm trying to apply all the interesting stuff I find in many awesome Kaggle kernels and discussions in order to slowly learn how work with data.\n",
    "> In this case I've learned a bit more about feature skewing, Random Forest parameters tuning and I did some experiment with XGBoost but the kernel is really far from defining a decent classifier for the glass classification problem. Maybe I need to study more the dataset and to try other classifiers.\n",
    "\n",
    "NEW COMMENT:\n",
    "I tried to fix the poor performance of this small dataset adding fake values, similar to the existing ones, for the less represented classes. It has not worked as I expected, maybe I added too much data or maybe someone has a better explanation out there!\n",
    "\n",
    "Anyway, any advice is welcome!"
   ]
  },
  {
   "cell_type": "code",
   "execution_count": 92,
   "metadata": {
    "collapsed": false
   },
   "outputs": [
    {
     "name": "stdout",
     "output_type": "stream",
     "text": [
      "3\n",
      "StratifiedKFold(n_splits=3, random_state=None, shuffle=False)\n",
      "(257, 9)\n",
      "256\n",
      "score on training set 1.0\n",
      "score on validation set 0.556818181818\n",
      "256\n",
      "score on training set 1.0\n",
      "score on validation set 0.611764705882\n",
      "249\n",
      "score on training set 1.0\n",
      "score on validation set 0.642857142857\n"
     ]
    }
   ],
   "source": [
    "from sklearn.model_selection import StratifiedKFold\n",
    "skf = StratifiedKFold(n_splits=3)\n",
    "print(skf.get_n_splits(X, Y))\n",
    "print(skf) \n",
    "print(X.shape)\n",
    "for train, test in skf.split(X, Y):\n",
    "    print(np.max(train))\n",
    "    #X.ix[256]\n",
    "    X_train, X_test = X.ix[train], X.ix[test]\n",
    "    Y_train, Y_test = Y.ix[train], Y.ix[test]\n",
    "\n",
    "    xgb.fit(X_train,Y_train)\n",
    "    print(\"score on training set\", xgb.score(X_train,Y_train))\n",
    "    print(\"score on validation set\", xgb.score(X_test,Y_test))\n",
    "\n",
    "    \n"
   ]
  }
 ],
 "metadata": {
  "_change_revision": 213,
  "_is_fork": false,
  "anaconda-cloud": {},
  "kernelspec": {
   "display_name": "Python 3",
   "language": "python",
   "name": "python3"
  },
  "language_info": {
   "codemirror_mode": {
    "name": "ipython",
    "version": 3
   },
   "file_extension": ".py",
   "mimetype": "text/x-python",
   "name": "python",
   "nbconvert_exporter": "python",
   "pygments_lexer": "ipython3",
   "version": "3.6.0"
  }
 },
 "nbformat": 4,
 "nbformat_minor": 0
}
